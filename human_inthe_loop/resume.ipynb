{
 "cells": [
  {
   "cell_type": "code",
   "execution_count": 8,
   "id": "5415d41a",
   "metadata": {},
   "outputs": [
    {
     "name": "stdout",
     "output_type": "stream",
     "text": [
      "Node A\n",
      "Node B\n"
     ]
    },
    {
     "data": {
      "text/plain": [
       "[{'node_a': {'value': 'a'}},\n",
       " {'__interrupt__': (Interrupt(value='Do you want to go to node c or node d? Type C/D', resumable=True, ns=['node_b:bf50d32e-7939-664f-383c-b34c21a2c313'], when='during'),)}]"
      ]
     },
     "execution_count": 8,
     "metadata": {},
     "output_type": "execute_result"
    }
   ],
   "source": [
    "from langgraph.graph import StateGraph , START, END\n",
    "from langgraph.types import Command, interrupt\n",
    "from typing import TypedDict\n",
    "from langgraph.checkpoint.memory import MemorySaver\n",
    "\n",
    "memory = MemorySaver()\n",
    "\n",
    "class State(TypedDict):\n",
    "    value : str\n",
    "\n",
    "def node_a(state : State):\n",
    "    print (\"Node A\")\n",
    "    return Command(goto = \"node_b\", update = {\"value\": state[\"value\"]+ \"a\"})\n",
    "\n",
    "def node_b(state : State):\n",
    "    print (\"Node B\")\n",
    "    human_response = interrupt (\"Do you want to go to node c or node d? Type C/D\")\n",
    "    print (\"Human response Value: \", human_response)\n",
    "\n",
    "    if (human_response ==\"C\"):\n",
    "        return Command(goto=\"node_c\", update={\"value\":state[\"value\"]+ \"b\"})\n",
    "    \n",
    "    elif (human_response ==\"D\"):\n",
    "        return Command(goto= \"node_d\", update={\"value\":state[\"value\"]+ \"b\"})\n",
    "    \n",
    "\n",
    "def node_c(state:State):\n",
    "    print (\"Node C\")\n",
    "    return Command(goto =END, update ={\"value\":state[\"value\"]+ \"c\"})\n",
    "\n",
    "def node_d(state:State):\n",
    "    print (\"Node D\")\n",
    "    return Command(goto =END, update ={\"value\":state[\"value\"]+ \"d\"})\n",
    "\n",
    "\n",
    "\n",
    "\n",
    "graph = StateGraph(State)\n",
    "\n",
    "graph.add_node(\"node_a\", node_a)\n",
    "graph.add_node(\"node_b\", node_b)\n",
    "graph.add_node(\"node_c\", node_c)\n",
    "graph.add_node(\"node_d\", node_d)\n",
    "\n",
    "graph.set_entry_point(\"node_a\")\n",
    "\n",
    "app = graph.compile(checkpointer= memory)\n",
    "\n",
    "cofig = {\"configurable\":{\"thread_id\":\"1\"}}\n",
    "\n",
    "initialState = {\"value\":\"\"}\n",
    "final_result = app.invoke(initialState,cofig, stream_mode= \"updates\")\n",
    "final_result\n"
   ]
  },
  {
   "cell_type": "code",
   "execution_count": 9,
   "id": "e8a90c68",
   "metadata": {},
   "outputs": [
    {
     "name": "stdout",
     "output_type": "stream",
     "text": [
      "('node_b',)\n"
     ]
    }
   ],
   "source": [
    "print (app.get_state(cofig).next)"
   ]
  },
  {
   "cell_type": "code",
   "execution_count": 10,
   "id": "9c11a888",
   "metadata": {},
   "outputs": [
    {
     "name": "stdout",
     "output_type": "stream",
     "text": [
      "Node B\n",
      "Human response Value:  D\n",
      "Node D\n"
     ]
    },
    {
     "data": {
      "text/plain": [
       "[{'node_b': {'value': 'ab'}}, {'node_d': {'value': 'abd'}}]"
      ]
     },
     "execution_count": 10,
     "metadata": {},
     "output_type": "execute_result"
    }
   ],
   "source": [
    "second_result = app.invoke(Command(resume= \"D\"), config= cofig, stream_mode=\"updates\")\n",
    "second_result\n",
    "\n"
   ]
  },
  {
   "cell_type": "code",
   "execution_count": null,
   "id": "fa1d4843",
   "metadata": {},
   "outputs": [],
   "source": []
  },
  {
   "cell_type": "code",
   "execution_count": null,
   "id": "f6fd532a",
   "metadata": {},
   "outputs": [],
   "source": []
  }
 ],
 "metadata": {
  "kernelspec": {
   "display_name": "base",
   "language": "python",
   "name": "python3"
  },
  "language_info": {
   "codemirror_mode": {
    "name": "ipython",
    "version": 3
   },
   "file_extension": ".py",
   "mimetype": "text/x-python",
   "name": "python",
   "nbconvert_exporter": "python",
   "pygments_lexer": "ipython3",
   "version": "3.12.7"
  }
 },
 "nbformat": 4,
 "nbformat_minor": 5
}
