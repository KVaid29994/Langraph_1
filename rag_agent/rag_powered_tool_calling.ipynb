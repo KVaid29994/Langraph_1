{
 "cells": [
  {
   "cell_type": "markdown",
   "id": "a009a384",
   "metadata": {},
   "source": [
    "## ***How RAG-Powered Tool Calling Works in LangGraph***\n",
    "\n",
    "**Agents and Tools**: In LangGraph, an agent is an LLM-driven entity that can reason about which actions (tools) to take in response to a user query. Tools can include document retrievers, web search APIs, or custom user-defined functions.\n",
    "\n",
    "--- \n",
    "\n",
    "**Node-Based Workflow**: Each tool or action is represented as a node in the graph. The LLM node decides which tool to invoke by analyzing the user's input and outputs the tool name and necessary arguments. This information is passed to a tool node, which executes the tool and returns the result to the LLM for further reasoning or response generation.\n",
    "\n",
    "---- \n",
    "- Control Flow and Planning: LangGraph allows for advanced control flows, such as:\n",
    "\n",
    "- Routing: Directing queries to the most appropriate retrieval or generation node based on the question type.\n",
    "\n",
    "- Fallback: Using backup tools (like a web search) if the primary retrieval method fails to find relevant information.\n",
    "\n",
    "- Self-Reflection: Evaluating the quality of retrieved information and looping back for corrections if needed.\n",
    "\n",
    "- State Management: LangGraph manages the application state, tracking the input question, retrieved context, and generated answer throughout the workflow.\n",
    "--- \n",
    "\n",
    "### Example Use Cases\n",
    "- ***Web Search Integration***: An agent can decide to use a web search tool if the internal knowledge base does not contain the needed information.\n",
    "\n",
    "- ***Document Retrieval***: For factual queries, the agent may use a vector database retriever to fetch relevant documents, then generate an answer grounded in those documents.\n",
    "\n",
    "- ***Custom Tools***: Agents can be extended with custom tools for specialized tasks, such as summarization, translation, or data extraction.\n",
    "\n",
    "---\n",
    "\n",
    "### ***Benefits of RAG-Powered Tool Calling with LangGraph***\n",
    "\n",
    "- Dynamic and Adaptive: Agents can intelligently choose the best tool for each query, improving accuracy and user satisfaction.\n",
    "\n",
    "- Scalable and Modular: The graph-based design makes it easy to add, remove, or modify tools and control flows.\n",
    "\n",
    "- Robustness: Built-in mechanisms for fallback and self-correction lead to more reliable and informative responses.\n",
    "\n",
    "--- \n",
    "\n",
    "### Getting Started\n",
    "- To implement RAG-powered tool calling with LangGraph:\n",
    "\n",
    "- Define your tools (retrievers, web search, custom functions).\n",
    "\n",
    "- Set up your data indexing and retrieval pipeline.\n",
    "\n",
    "- Model your workflow as a graph, specifying nodes for each tool and control logic for transitions.\n",
    "\n",
    "Use LangGraph's orchestration to manage state and execute the workflow, allowing the agent to call tools as needed."
   ]
  },
  {
   "cell_type": "code",
   "execution_count": 2,
   "id": "203993bf",
   "metadata": {},
   "outputs": [],
   "source": [
    "from langchain.schema import Document\n",
    "from langchain_openai import OpenAIEmbeddings\n",
    "from langchain_community.vectorstores import Chroma\n",
    "from dotenv import load_dotenv\n",
    "load_dotenv()\n",
    "\n",
    "embedding_function = OpenAIEmbeddings()\n",
    "\n",
    "docs = [\n",
    "    Document(\n",
    "        page_content=\"Peak Performance Gym was founded in 2015 by former Olympic athlete Marcus Chen. With over 15 years of experience in professional athletics, Marcus established the gym to provide personalized fitness solutions for people of all levels. The gym spans 10,000 square feet and features state-of-the-art equipment.\",\n",
    "        metadata={\"source\": \"about.txt\"}\n",
    "    ),\n",
    "    Document(\n",
    "        page_content=\"Peak Performance Gym is open Monday through Friday from 5:00 AM to 11:00 PM. On weekends, our hours are 7:00 AM to 9:00 PM. We remain closed on major national holidays. Members with Premium access can enter using their key cards 24/7, including holidays.\",\n",
    "        metadata={\"source\": \"hours.txt\"}\n",
    "    ),\n",
    "    Document(\n",
    "        page_content=\"Our membership plans include: Basic (₹1,500/month) with access to gym floor and basic equipment; Standard (₹2,500/month) adds group classes and locker facilities; Premium (₹4,000/month) includes 24/7 access, personal training sessions, and spa facilities. We offer student and senior citizen discounts of 15% on all plans. Corporate partnerships are available for companies with 10+ employees joining.\",\n",
    "        metadata={\"source\": \"membership.txt\"}\n",
    "    ),\n",
    "    Document(\n",
    "        page_content=\"Group fitness classes at Peak Performance Gym include Yoga (beginner, intermediate, advanced), HIIT, Zumba, Spin Cycling, CrossFit, and Pilates. Beginner classes are held every Monday and Wednesday at 6:00 PM. Intermediate and advanced classes are scheduled throughout the week. The full schedule is available on our mobile app or at the reception desk.\",\n",
    "        metadata={\"source\": \"classes.txt\"}\n",
    "    ),\n",
    "    Document(\n",
    "        page_content=\"Personal trainers at Peak Performance Gym are all certified professionals with minimum 5 years of experience. Each new member receives a complimentary fitness assessment and one free session with a trainer. Our head trainer, Neha Kapoor, specializes in rehabilitation fitness and sports-specific training. Personal training sessions can be booked individually (₹800/session) or in packages of 10 (₹7,000) or 20 (₹13,000).\",\n",
    "        metadata={\"source\": \"trainers.txt\"}\n",
    "    ),\n",
    "    Document(\n",
    "        page_content=\"Peak Performance Gym's facilities include a cardio zone with 30+ machines, strength training area, functional fitness space, dedicated yoga studio, spin class room, swimming pool (25m), sauna and steam rooms, juice bar, and locker rooms with shower facilities. Our equipment is replaced or upgraded every 3 years to ensure members have access to the latest fitness technology.\",\n",
    "        metadata={\"source\": \"facilities.txt\"}\n",
    "    )\n",
    "]\n",
    "\n",
    "db = Chroma.from_documents(docs, embedding_function)"
   ]
  },
  {
   "cell_type": "code",
   "execution_count": 3,
   "id": "3d82e8e9",
   "metadata": {},
   "outputs": [],
   "source": [
    "retriever = db.as_retriever(search_type=\"mmr\", search_kwargs = {\"k\": 3})"
   ]
  },
  {
   "cell_type": "code",
   "execution_count": 4,
   "id": "9652118d",
   "metadata": {},
   "outputs": [],
   "source": [
    "from langchain.tools.retriever import create_retriever_tool\n",
    "from langchain_core.tools import tool\n",
    "\n",
    "retriever_tool = create_retriever_tool(retriever, \"retriever_tool\",   \"Information related to Gym History & Founder, Operating Hours, Membership Plans, Fitness Classes, Personal Trainers, and Facilities & Equipment of Peak Performance Gym\",\n",
    ")"
   ]
  },
  {
   "cell_type": "code",
   "execution_count": 7,
   "id": "f63686b6",
   "metadata": {},
   "outputs": [],
   "source": [
    "@tool\n",
    "def off_topic():\n",
    "     \"\"\"Catch all Questions NOT related to Peak Performance Gym's history, hours, membership plans, fitness classes, trainers, or facilities\"\"\"\n",
    "     return \"Forbidden - do not respond to the user\""
   ]
  },
  {
   "cell_type": "code",
   "execution_count": 8,
   "id": "34f2b4c4",
   "metadata": {},
   "outputs": [],
   "source": [
    "tools = [retriever_tool, off_topic]"
   ]
  },
  {
   "cell_type": "code",
   "execution_count": 9,
   "id": "88fc72fb",
   "metadata": {},
   "outputs": [],
   "source": [
    "from typing import Annotated, Sequence, Literal, TypedDict\n",
    "from langchain_core.messages import AIMessage, HumanMessage, BaseMessage\n",
    "from langgraph.graph import add_messages , END, START, StateGraph\n",
    "from langchain_openai import ChatOpenAI\n",
    "\n",
    "class AgentState(TypedDict):\n",
    "    messages: Annotated[Sequence[BaseMessage], add_messages]\n",
    "\n",
    "\n",
    "def agent(state):\n",
    "    messages = state['messages']\n",
    "    model = ChatOpenAI()\n",
    "    model = model.bind_tools(tools)\n",
    "    response = model.invoke(messages)\n",
    "    return {\"messages\": [response]}\n",
    "\n"
   ]
  },
  {
   "cell_type": "code",
   "execution_count": 10,
   "id": "8d2471ea",
   "metadata": {},
   "outputs": [],
   "source": [
    "def should_continue(state) -> Literal[\"tools\", END]:\n",
    "    messages = state['messages']\n",
    "    last_message = messages[-1]\n",
    "    if last_message.tool_calls:\n",
    "        return \"tools\"\n",
    "    return END"
   ]
  },
  {
   "cell_type": "code",
   "execution_count": 11,
   "id": "3a8dce87",
   "metadata": {},
   "outputs": [],
   "source": [
    "from langgraph.prebuilt import ToolNode\n",
    "workflow = StateGraph(AgentState)\n",
    "\n",
    "workflow.add_node(\"agent\", agent)\n",
    "\n",
    "tool_node = ToolNode(tools)\n",
    "workflow.add_node(\"tools\", tool_node)\n",
    "workflow.add_edge(START, \"agent\")\n",
    "workflow.add_conditional_edges(\n",
    "    \"agent\",\n",
    "    should_continue,\n",
    ")\n",
    "workflow.add_edge(\"tools\", \"agent\")\n",
    "\n",
    "graph = workflow.compile()"
   ]
  },
  {
   "cell_type": "code",
   "execution_count": 12,
   "id": "688d7d3d",
   "metadata": {},
   "outputs": [
    {
     "data": {
      "image/png": "[encoded data removed]",
      "text/plain": [
       "<IPython.core.display.Image object>"
      ]
     },
     "metadata": {},
     "output_type": "display_data"
    }
   ],
   "source": [
    "from IPython.display import Image, display\n",
    "from langchain_core.runnables.graph import MermaidDrawMethod\n",
    "\n",
    "display(\n",
    "    Image(\n",
    "        graph.get_graph().draw_mermaid_png(\n",
    "            draw_method=MermaidDrawMethod.API,\n",
    "        )\n",
    "    )\n",
    ")"
   ]
  },
  {
   "cell_type": "code",
   "execution_count": 13,
   "id": "25e717f7",
   "metadata": {},
   "outputs": [
    {
     "data": {
      "text/plain": [
       "{'messages': [HumanMessage(content='How will the weather be tommorrow?', additional_kwargs={}, response_metadata={}, id='b20c9135-203a-4d55-85c2-779eb621a1bf'),\n",
       "  AIMessage(content='', additional_kwargs={'tool_calls': [{'id': 'call_LKDEP2H1zHxt7GWNFRHbXC86', 'function': {'arguments': '{}', 'name': 'off_topic'}, 'type': 'function'}], 'refusal': None}, response_metadata={'token_usage': {'completion_tokens': 10, 'prompt_tokens': 122, 'total_tokens': 132, 'completion_tokens_details': {'accepted_prediction_tokens': 0, 'audio_tokens': 0, 'reasoning_tokens': 0, 'rejected_prediction_tokens': 0}, 'prompt_tokens_details': {'audio_tokens': 0, 'cached_tokens': 0}}, 'model_name': 'gpt-3.5-turbo-0125', 'system_fingerprint': None, 'finish_reason': 'tool_calls', 'logprobs': None}, id='run--1900cf03-36fe-4b4d-bd56-4e277d2f5e77-0', tool_calls=[{'name': 'off_topic', 'args': {}, 'id': 'call_LKDEP2H1zHxt7GWNFRHbXC86', 'type': 'tool_call'}], usage_metadata={'input_tokens': 122, 'output_tokens': 10, 'total_tokens': 132, 'input_token_details': {'audio': 0, 'cache_read': 0}, 'output_token_details': {'audio': 0, 'reasoning': 0}}),\n",
       "  ToolMessage(content='Forbidden - do not respond to the user', name='off_topic', id='207fd26c-6b80-4f9f-ab90-85651dca5c42', tool_call_id='call_LKDEP2H1zHxt7GWNFRHbXC86'),\n",
       "  AIMessage(content=\"I'm sorry, but I am unable to provide information on tomorrow's weather. If you have any questions related to Peak Performance Gym's history, hours, membership plans, fitness classes, trainers, facilities, or equipment, feel free to ask!\", additional_kwargs={'refusal': None}, response_metadata={'token_usage': {'completion_tokens': 50, 'prompt_tokens': 148, 'total_tokens': 198, 'completion_tokens_details': {'accepted_prediction_tokens': 0, 'audio_tokens': 0, 'reasoning_tokens': 0, 'rejected_prediction_tokens': 0}, 'prompt_tokens_details': {'audio_tokens': 0, 'cached_tokens': 0}}, 'model_name': 'gpt-3.5-turbo-0125', 'system_fingerprint': None, 'finish_reason': 'stop', 'logprobs': None}, id='run--8be8e5b0-f5b4-4ecc-866a-02a4ac9b478b-0', usage_metadata={'input_tokens': 148, 'output_tokens': 50, 'total_tokens': 198, 'input_token_details': {'audio': 0, 'cache_read': 0}, 'output_token_details': {'audio': 0, 'reasoning': 0}})]}"
      ]
     },
     "execution_count": 13,
     "metadata": {},
     "output_type": "execute_result"
    }
   ],
   "source": [
    "graph.invoke(\n",
    "    input={\"messages\": [HumanMessage(content=\"How will the weather be tommorrow?\")]}\n",
    ")"
   ]
  },
  {
   "cell_type": "code",
   "execution_count": 14,
   "id": "2ba2e198",
   "metadata": {},
   "outputs": [
    {
     "data": {
      "text/plain": [
       "{'messages': [HumanMessage(content='Who is the owner and what are the timings?', additional_kwargs={}, response_metadata={}, id='8cc33a1f-de90-433a-bcf3-c117998b11a4'),\n",
       "  AIMessage(content='', additional_kwargs={'tool_calls': [{'id': 'call_SoRemV7vMH9YWim63srRDGme', 'function': {'arguments': '{\"query\": \"owner\"}', 'name': 'retriever_tool'}, 'type': 'function'}, {'id': 'call_9X4C3XDCAo96Bmh41ntyS3xQ', 'function': {'arguments': '{\"query\": \"timings\"}', 'name': 'retriever_tool'}, 'type': 'function'}], 'refusal': None}, response_metadata={'token_usage': {'completion_tokens': 48, 'prompt_tokens': 123, 'total_tokens': 171, 'completion_tokens_details': {'accepted_prediction_tokens': 0, 'audio_tokens': 0, 'reasoning_tokens': 0, 'rejected_prediction_tokens': 0}, 'prompt_tokens_details': {'audio_tokens': 0, 'cached_tokens': 0}}, 'model_name': 'gpt-3.5-turbo-0125', 'system_fingerprint': None, 'finish_reason': 'tool_calls', 'logprobs': None}, id='run--ad4f12e3-8e92-4f75-921e-843c4206c4b7-0', tool_calls=[{'name': 'retriever_tool', 'args': {'query': 'owner'}, 'id': 'call_SoRemV7vMH9YWim63srRDGme', 'type': 'tool_call'}, {'name': 'retriever_tool', 'args': {'query': 'timings'}, 'id': 'call_9X4C3XDCAo96Bmh41ntyS3xQ', 'type': 'tool_call'}], usage_metadata={'input_tokens': 123, 'output_tokens': 48, 'total_tokens': 171, 'input_token_details': {'audio': 0, 'cache_read': 0}, 'output_token_details': {'audio': 0, 'reasoning': 0}}),\n",
       "  ToolMessage(content='Peak Performance Gym was founded in 2015 by former Olympic athlete Marcus Chen. With over 15 years of experience in professional athletics, Marcus established the gym to provide personalized fitness solutions for people of all levels. The gym spans 10,000 square feet and features state-of-the-art equipment.\\n\\nOur membership plans include: Basic (₹1,500/month) with access to gym floor and basic equipment; Standard (₹2,500/month) adds group classes and locker facilities; Premium (₹4,000/month) includes 24/7 access, personal training sessions, and spa facilities. We offer student and senior citizen discounts of 15% on all plans. Corporate partnerships are available for companies with 10+ employees joining.\\n\\nGroup fitness classes at Peak Performance Gym include Yoga (beginner, intermediate, advanced), HIIT, Zumba, Spin Cycling, CrossFit, and Pilates. Beginner classes are held every Monday and Wednesday at 6:00 PM. Intermediate and advanced classes are scheduled throughout the week. The full schedule is available on our mobile app or at the reception desk.', name='retriever_tool', id='7af170cd-9115-447d-b1ee-7e530e6cdfa2', tool_call_id='call_SoRemV7vMH9YWim63srRDGme'),\n",
       "  ToolMessage(content='Peak Performance Gym is open Monday through Friday from 5:00 AM to 11:00 PM. On weekends, our hours are 7:00 AM to 9:00 PM. We remain closed on major national holidays. Members with Premium access can enter using their key cards 24/7, including holidays.\\n\\nGroup fitness classes at Peak Performance Gym include Yoga (beginner, intermediate, advanced), HIIT, Zumba, Spin Cycling, CrossFit, and Pilates. Beginner classes are held every Monday and Wednesday at 6:00 PM. Intermediate and advanced classes are scheduled throughout the week. The full schedule is available on our mobile app or at the reception desk.\\n\\nPersonal trainers at Peak Performance Gym are all certified professionals with minimum 5 years of experience. Each new member receives a complimentary fitness assessment and one free session with a trainer. Our head trainer, Neha Kapoor, specializes in rehabilitation fitness and sports-specific training. Personal training sessions can be booked individually (₹800/session) or in packages of 10 (₹7,000) or 20 (₹13,000).', name='retriever_tool', id='4fedb231-fb96-48b6-ac81-a5f6a2905c6c', tool_call_id='call_9X4C3XDCAo96Bmh41ntyS3xQ'),\n",
       "  AIMessage(content='Peak Performance Gym was founded in 2015 by former Olympic athlete Marcus Chen. With over 15 years of experience in professional athletics, Marcus established the gym to provide personalized fitness solutions for people of all levels.\\n\\nThe gym operating hours are as follows:\\n- Monday to Friday: 5:00 AM to 11:00 PM\\n- Weekends: 7:00 AM to 9:00 PM\\n- Closed on major national holidays\\n\\nPremium members have 24/7 access using their key cards, including holidays.', additional_kwargs={'refusal': None}, response_metadata={'token_usage': {'completion_tokens': 107, 'prompt_tokens': 647, 'total_tokens': 754, 'completion_tokens_details': {'accepted_prediction_tokens': 0, 'audio_tokens': 0, 'reasoning_tokens': 0, 'rejected_prediction_tokens': 0}, 'prompt_tokens_details': {'audio_tokens': 0, 'cached_tokens': 0}}, 'model_name': 'gpt-3.5-turbo-0125', 'system_fingerprint': None, 'finish_reason': 'stop', 'logprobs': None}, id='run--7e9f2fe1-2017-4bdc-8810-3982e9be8527-0', usage_metadata={'input_tokens': 647, 'output_tokens': 107, 'total_tokens': 754, 'input_token_details': {'audio': 0, 'cache_read': 0}, 'output_token_details': {'audio': 0, 'reasoning': 0}})]}"
      ]
     },
     "execution_count": 14,
     "metadata": {},
     "output_type": "execute_result"
    }
   ],
   "source": [
    "graph.invoke(input={\n",
    "    \"messages\": [HumanMessage(content=\"Who is the owner and what are the timings?\")]\n",
    "})"
   ]
  },
  {
   "cell_type": "code",
   "execution_count": null,
   "id": "ec8fa562",
   "metadata": {},
   "outputs": [],
   "source": []
  }
 ],
 "metadata": {
  "kernelspec": {
   "display_name": "base",
   "language": "python",
   "name": "python3"
  },
  "language_info": {
   "codemirror_mode": {
    "name": "ipython",
    "version": 3
   },
   "file_extension": ".py",
   "mimetype": "text/x-python",
   "name": "python",
   "nbconvert_exporter": "python",
   "pygments_lexer": "ipython3",
   "version": "3.12.7"
  }
 },
 "nbformat": 4,
 "nbformat_minor": 5
}
