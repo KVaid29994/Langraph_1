{
 "cells": [
  {
   "cell_type": "markdown",
   "id": "ca37c474",
   "metadata": {},
   "source": [
    "# 🧠 Classification-Driven Retrieval System using LangGraph"
   ]
  },
  {
   "cell_type": "markdown",
   "id": "00c30924",
   "metadata": {},
   "source": [
    "In this notebook, we explore how to build a **Classification-Driven Retrieval System** using **LangGraph** – a graph-based framework for orchestrating language model agents.\n",
    "\n",
    "---"
   ]
  },
  {
   "cell_type": "markdown",
   "id": "a5db481a",
   "metadata": {},
   "source": [
    "## 🧐 What is a Classification-Driven Retrieval System?\n",
    "\n",
    "A **Classification-Driven Retrieval System** is a system where the **user query is first classified** into one of several predefined categories, and **based on that classification**, a **specialized retriever** or **document set** is used to fetch relevant content.\n",
    "\n",
    "### ✨ Key Idea:\n",
    "> _\"Route the question to the right documents using classification before retrieval.\"_  \n",
    "This improves precision and makes responses more context-aware.\n",
    "\n",
    "---"
   ]
  },
  {
   "cell_type": "markdown",
   "id": "88b59c7a",
   "metadata": {},
   "source": [
    "## 🧱 Components of the System\n",
    "\n",
    "### **1. Input Node**\n",
    "- Accepts a user query.\n",
    "\n",
    "### **2. Classifier Node**\n",
    "- Uses a language model to classify the query into a topic such as:\n",
    "  - *Healthcare*, *Finance*, *Technology*, etc.\n",
    "\n",
    "### **3. Router Node**\n",
    "- Directs the query to the appropriate retriever based on classification.\n",
    "\n",
    "### **4. Retriever Nodes**\n",
    "- Each retriever searches a vector store built on documents of a particular domain.\n",
    "\n",
    "### **5. Answer Generator Node**\n",
    "- Summarizes or answers using retrieved content.\n",
    "\n",
    "---"
   ]
  },
  {
   "cell_type": "markdown",
   "id": "0ac88c34",
   "metadata": {},
   "source": [
    "\n",
    "## 💡 Example Use Case\n",
    "\n",
    "> A chatbot that answers user questions differently if it's about medical info vs. banking transactions vs. software errors.\n"
   ]
  },
  {
   "cell_type": "code",
   "execution_count": 61,
   "id": "eaca13e6",
   "metadata": {},
   "outputs": [],
   "source": [
    "from langchain.schema import Document\n",
    "from langchain_openai import OpenAIEmbeddings\n",
    "from langchain_community.vectorstores import Chroma"
   ]
  },
  {
   "cell_type": "code",
   "execution_count": 62,
   "id": "4554d495",
   "metadata": {},
   "outputs": [
    {
     "data": {
      "text/plain": [
       "True"
      ]
     },
     "execution_count": 62,
     "metadata": {},
     "output_type": "execute_result"
    }
   ],
   "source": [
    "from dotenv import load_dotenv\n",
    "load_dotenv()"
   ]
  },
  {
   "cell_type": "code",
   "execution_count": 63,
   "id": "f5d3848e",
   "metadata": {},
   "outputs": [],
   "source": [
    "documents = [\n",
    "    Document(\n",
    "        page_content=\"\"\"Anytime Fitness is a global chain of 24-hour health and fitness clubs that aims to make fitness accessible and convenient for everyone. With over 5,000 locations in more than 30 countries, it has become a popular choice for people with busy schedules. One of its standout features is the ability to access any gym location worldwide with just one membership. This flexibility is especially useful for frequent travelers or professionals who relocate often. Each facility typically includes cardio equipment, weight training machines, free weights, and sometimes personal training services or group classes. Security and member safety are top priorities, with 24/7 surveillance and secure key access. The consistent availability, combined with a community-oriented approach, helps members stay on track with their fitness goals regardless of location or time constraints.\"\"\",\n",
    "    ),\n",
    "    Document(\n",
    "        page_content=\"\"\"The environment at Anytime Fitness is designed to be welcoming and non-intimidating, attracting a wide range of members from beginners to seasoned athletes. Their slogan, “Let’s make healthy happen,” reflects their mission to support a healthier lifestyle for everyone, no matter their fitness level. Most gyms offer personalized fitness plans and access to professional trainers who guide members through customized workouts based on their goals. Many locations also include digital wellness tools, like mobile apps for workout tracking and virtual training. This tech-enabled approach appeals to modern fitness enthusiasts who want on-demand guidance and flexibility. The franchise model allows local owners to run their own gyms while still benefiting from the broader brand, ensuring community-focused service that maintains high standards. Overall, the friendly staff, clean facilities, and supportive resources create an encouraging environment where members feel motivated to improve their fitness routines.\"\"\",\n",
    "    ),\n",
    "    Document(\n",
    "        page_content=\"\"\"Beyond equipment and workouts, Anytime Fitness emphasizes holistic health and well-being. Some clubs offer amenities like wellness coaching, nutritional advice, and mental health resources. Their integrated approach to fitness makes it easier for individuals to adopt and maintain a healthy lifestyle. The brand often partners with local events, wellness challenges, and charity initiatives to engage members and give back to the community. These activities foster a sense of belonging and accountability among members. In addition, Anytime Fitness supports long-term transformation through its “AF Challenge,” a structured program focused on measurable progress. This makes it easier for members to set realistic goals and stay consistent. Their membership model is competitively priced and often includes features like guest passes, referral benefits, and discounts for long-term signups. All these elements make Anytime Fitness not just a place to work out, but a supportive hub for building better physical and mental health.\"\"\",\n",
    "    ),\n",
    "]"
   ]
  },
  {
   "cell_type": "code",
   "execution_count": 64,
   "id": "052cec3f",
   "metadata": {},
   "outputs": [],
   "source": [
    "embedding_function = OpenAIEmbeddings()"
   ]
  },
  {
   "cell_type": "code",
   "execution_count": 65,
   "id": "de843d2e",
   "metadata": {},
   "outputs": [],
   "source": [
    "database = Chroma.from_documents(embedding=embedding_function, documents=documents)"
   ]
  },
  {
   "cell_type": "code",
   "execution_count": 66,
   "id": "ab043ce0",
   "metadata": {},
   "outputs": [],
   "source": [
    "retriever = database.as_retriever(search_type =\"mmr\", search_kwargs = {\"k\":3})"
   ]
  },
  {
   "cell_type": "code",
   "execution_count": 67,
   "id": "e6b5824b",
   "metadata": {},
   "outputs": [
    {
     "data": {
      "text/plain": [
       "[Document(metadata={}, page_content='Anytime Fitness is a global chain of 24-hour health and fitness clubs that aims to make fitness accessible and convenient for everyone. With over 5,000 locations in more than 30 countries, it has become a popular choice for people with busy schedules. One of its standout features is the ability to access any gym location worldwide with just one membership. This flexibility is especially useful for frequent travelers or professionals who relocate often. Each facility typically includes cardio equipment, weight training machines, free weights, and sometimes personal training services or group classes. Security and member safety are top priorities, with 24/7 surveillance and secure key access. The consistent availability, combined with a community-oriented approach, helps members stay on track with their fitness goals regardless of location or time constraints.'),\n",
       " Document(metadata={}, page_content='The environment at Anytime Fitness is designed to be welcoming and non-intimidating, attracting a wide range of members from beginners to seasoned athletes. Their slogan, “Let’s make healthy happen,” reflects their mission to support a healthier lifestyle for everyone, no matter their fitness level. Most gyms offer personalized fitness plans and access to professional trainers who guide members through customized workouts based on their goals. Many locations also include digital wellness tools, like mobile apps for workout tracking and virtual training. This tech-enabled approach appeals to modern fitness enthusiasts who want on-demand guidance and flexibility. The franchise model allows local owners to run their own gyms while still benefiting from the broader brand, ensuring community-focused service that maintains high standards. Overall, the friendly staff, clean facilities, and supportive resources create an encouraging environment where members feel motivated to improve their fitness routines.'),\n",
       " Document(metadata={}, page_content='Beyond equipment and workouts, Anytime Fitness emphasizes holistic health and well-being. Some clubs offer amenities like wellness coaching, nutritional advice, and mental health resources. Their integrated approach to fitness makes it easier for individuals to adopt and maintain a healthy lifestyle. The brand often partners with local events, wellness challenges, and charity initiatives to engage members and give back to the community. These activities foster a sense of belonging and accountability among members. In addition, Anytime Fitness supports long-term transformation through its “AF Challenge,” a structured program focused on measurable progress. This makes it easier for members to set realistic goals and stay consistent. Their membership model is competitively priced and often includes features like guest passes, referral benefits, and discounts for long-term signups. All these elements make Anytime Fitness not just a place to work out, but a supportive hub for building better physical and mental health.')]"
      ]
     },
     "execution_count": 67,
     "metadata": {},
     "output_type": "execute_result"
    }
   ],
   "source": [
    "retriever.invoke(\"what are the best features of anytime fitness\")"
   ]
  },
  {
   "cell_type": "code",
   "execution_count": 68,
   "id": "3e04bf0e",
   "metadata": {},
   "outputs": [],
   "source": [
    "from langchain_core.prompts import ChatPromptTemplate\n",
    "\n",
    "template = '''\n",
    "Answer the question based on the following context : {context}\n",
    "Question : {question}\n",
    "'''\n",
    "\n",
    "prompt = ChatPromptTemplate.from_template(template=template)\n"
   ]
  },
  {
   "cell_type": "code",
   "execution_count": 69,
   "id": "b29e656e",
   "metadata": {},
   "outputs": [],
   "source": [
    "def format_docs(docs):\n",
    "    return \"\\n\\n\".join(doc.page_content for doc in docs)\n"
   ]
  },
  {
   "cell_type": "code",
   "execution_count": 70,
   "id": "e31eb54c",
   "metadata": {},
   "outputs": [],
   "source": [
    "from langchain_openai import ChatOpenAI\n",
    "\n",
    "llm = ChatOpenAI()\n",
    "\n",
    "rag_chain = prompt | llm    "
   ]
  },
  {
   "cell_type": "code",
   "execution_count": 71,
   "id": "ece60c69",
   "metadata": {},
   "outputs": [],
   "source": [
    "from typing import TypedDict, Annotated, List\n",
    "from langchain_core.messages import BaseMessage, HumanMessage, AIMessage\n",
    "from langgraph.graph import END, add_messages, StateGraph\n",
    "from langchain.schema import Document"
   ]
  },
  {
   "cell_type": "code",
   "execution_count": 72,
   "id": "e8e4881c",
   "metadata": {},
   "outputs": [],
   "source": [
    "class AgentState(TypedDict):\n",
    "    messages: list[BaseMessage]\n",
    "    documents : list[Document]\n",
    "    on_topic : str"
   ]
  },
  {
   "cell_type": "code",
   "execution_count": 73,
   "id": "da48f186",
   "metadata": {},
   "outputs": [],
   "source": [
    "from pydantic import BaseModel , Field\n",
    "\n",
    "class GradeQuestion(BaseModel):\n",
    "    \"\"\"\n",
    "    \"Boolean value to check wether the question is from Anytime fitness gym or not\n",
    "    \"\"\"\n",
    "    score : str = Field(description = \"Question is about gym? if yes --> 'yes' else not --? 'no'\")"
   ]
  },
  {
   "cell_type": "code",
   "execution_count": 74,
   "id": "91c417df",
   "metadata": {},
   "outputs": [],
   "source": [
    "def question_classifier(state:AgentState):\n",
    "    question = state[\"messages\"][-1].content\n",
    "    system = \"\"\" You are classifier that determines wether a user input is about one of the following topics\n",
    "    1. Gym history or founder\n",
    "    2. Operating hours\n",
    "    3. membership plans\n",
    "    4. fitness classes\n",
    "    5. Personal trainer\n",
    "    6. Facilieties and equipment\n",
    "\n",
    "    if the question is about any of these topics respond with 'yes'. Otherwise respond 'no'.\n",
    "\n",
    "    \"\"\"\n",
    "\n",
    "    grade_prompt = ChatPromptTemplate.from_messages(\n",
    "        [(\"system\",system) , (\"human\", \"user question: {question}\")\n",
    "         \n",
    "         \n",
    "         ]\n",
    "    )\n",
    "\n",
    "    structured_llm = llm.with_structured_output(GradeQuestion)\n",
    "    grader_llm = grade_prompt | structured_llm\n",
    "\n",
    "    result = grader_llm.invoke({'question':question})\n",
    "\n",
    "    state[\"on_topic\"] = result.score\n",
    "    return state"
   ]
  },
  {
   "cell_type": "code",
   "execution_count": 75,
   "id": "8533ae43",
   "metadata": {},
   "outputs": [],
   "source": [
    "def on_topic_router(state : AgentState):\n",
    "    on_topic = state[\"on_topic\"] \n",
    "    if on_topic.lower()==\"yes\":\n",
    "        return \"on_topic\"\n",
    "    else:\n",
    "        return \"off_topic\""
   ]
  },
  {
   "cell_type": "code",
   "execution_count": 76,
   "id": "00834bae",
   "metadata": {},
   "outputs": [],
   "source": [
    "def retrieve(state : AgentState):\n",
    "    question = state[\"messages\"][-1].content\n",
    "\n",
    "    documents = retriever.invoke(question)\n",
    "    state[\"documents\"] = documents\n",
    "    return state"
   ]
  },
  {
   "cell_type": "code",
   "execution_count": 77,
   "id": "4270d370",
   "metadata": {},
   "outputs": [],
   "source": [
    "def generate_answer(state: AgentState):\n",
    "    question =state[\"messages\"][-1].content\n",
    "    documents = state[\"documents\"]\n",
    "    generation = rag_chain.invoke({\"context\":documents,\"question\": question})\n",
    "\n",
    "    state['messages'].append(generation)\n",
    "    "
   ]
  },
  {
   "cell_type": "code",
   "execution_count": 78,
   "id": "b2123d50",
   "metadata": {},
   "outputs": [],
   "source": [
    "def off_topic_response(state: AgentState):\n",
    "    state[\"messages\"].append(AIMessage(content=\"I am sorry!I cannot answer these questions\"))\n",
    "    return state"
   ]
  },
  {
   "cell_type": "code",
   "execution_count": 79,
   "id": "ceed881d",
   "metadata": {},
   "outputs": [
    {
     "data": {
      "text/plain": [
       "<langgraph.graph.state.StateGraph at 0x1ec563653a0>"
      ]
     },
     "execution_count": 79,
     "metadata": {},
     "output_type": "execute_result"
    }
   ],
   "source": [
    "graph = StateGraph(AgentState)\n",
    "\n",
    "graph.add_node(\"Question_classifier\", question_classifier)\n",
    "graph.add_node(\"retriever\", retrieve)\n",
    "graph.add_node(\"generate_answer\", generate_answer)\n",
    "graph.add_node(\"off_topic_response\", off_topic_response)\n",
    "\n",
    "graph.add_conditional_edges(\"Question_classifier\", on_topic_router,{\"on_topic\":\"retriever\", \"off_topic\":\"off_topic_response\"})\n",
    "\n",
    "graph.add_edge(\"retriever\", \"generate_answer\")\n",
    "graph.add_edge(\"generate_answer\", END)\n",
    "graph.add_edge(\"off_topic_response\", END)\n",
    "\n",
    "graph.set_entry_point(\"Question_classifier\")"
   ]
  },
  {
   "cell_type": "code",
   "execution_count": 80,
   "id": "569691f7",
   "metadata": {},
   "outputs": [],
   "source": [
    "app = graph.compile()"
   ]
  },
  {
   "cell_type": "code",
   "execution_count": 81,
   "id": "33919658",
   "metadata": {},
   "outputs": [
    {
     "data": {
      "image/png": "[encoded data removed]",
      "text/plain": [
       "<IPython.core.display.Image object>"
      ]
     },
     "metadata": {},
     "output_type": "display_data"
    }
   ],
   "source": [
    "from IPython.display import Image, display\n",
    "from langchain_core.runnables.graph import MermaidDrawMethod\n",
    "display(\n",
    "    Image (app.get_graph().draw_mermaid_png(draw_method=MermaidDrawMethod.API)\n",
    "           \n",
    "           )\n",
    ")"
   ]
  },
  {
   "cell_type": "code",
   "execution_count": 82,
   "id": "c8e1b78d",
   "metadata": {},
   "outputs": [
    {
     "name": "stderr",
     "output_type": "stream",
     "text": [
      "c:\\Users\\kanha\\anaconda3\\Lib\\site-packages\\langchain_openai\\chat_models\\base.py:1413: UserWarning: Cannot use method='json_schema' with model gpt-3.5-turbo since it doesn't support OpenAI's Structured Output API. You can see supported models here: https://platform.openai.com/docs/guides/structured-outputs#supported-models. To fix this warning, set `method='function_calling'. Overriding to method='function_calling'.\n",
      "  warnings.warn(\n"
     ]
    },
    {
     "data": {
      "text/plain": [
       "{'messages': [HumanMessage(content='Facilieties and equipment at anytime fitness', additional_kwargs={}, response_metadata={}),\n",
       "  AIMessage(content='Facilities and equipment at Anytime Fitness typically include cardio equipment, weight training machines, free weights, and sometimes personal training services or group classes. Additionally, they offer amenities like wellness coaching, nutritional advice, and mental health resources to promote holistic health and well-being. Some locations also include digital wellness tools, such as mobile apps for workout tracking and virtual training, to cater to modern fitness enthusiasts who seek on-demand guidance and flexibility.', additional_kwargs={'refusal': None}, response_metadata={'token_usage': {'completion_tokens': 86, 'prompt_tokens': 549, 'total_tokens': 635, 'completion_tokens_details': {'accepted_prediction_tokens': 0, 'audio_tokens': 0, 'reasoning_tokens': 0, 'rejected_prediction_tokens': 0}, 'prompt_tokens_details': {'audio_tokens': 0, 'cached_tokens': 0}}, 'model_name': 'gpt-3.5-turbo-0125', 'system_fingerprint': None, 'finish_reason': 'stop', 'logprobs': None}, id='run--fbaa26c4-feb4-4884-bd82-daec369dc4ad-0', usage_metadata={'input_tokens': 549, 'output_tokens': 86, 'total_tokens': 635, 'input_token_details': {'audio': 0, 'cache_read': 0}, 'output_token_details': {'audio': 0, 'reasoning': 0}})],\n",
       " 'documents': [Document(metadata={}, page_content='Anytime Fitness is a global chain of 24-hour health and fitness clubs that aims to make fitness accessible and convenient for everyone. With over 5,000 locations in more than 30 countries, it has become a popular choice for people with busy schedules. One of its standout features is the ability to access any gym location worldwide with just one membership. This flexibility is especially useful for frequent travelers or professionals who relocate often. Each facility typically includes cardio equipment, weight training machines, free weights, and sometimes personal training services or group classes. Security and member safety are top priorities, with 24/7 surveillance and secure key access. The consistent availability, combined with a community-oriented approach, helps members stay on track with their fitness goals regardless of location or time constraints.'),\n",
       "  Document(metadata={}, page_content='The environment at Anytime Fitness is designed to be welcoming and non-intimidating, attracting a wide range of members from beginners to seasoned athletes. Their slogan, “Let’s make healthy happen,” reflects their mission to support a healthier lifestyle for everyone, no matter their fitness level. Most gyms offer personalized fitness plans and access to professional trainers who guide members through customized workouts based on their goals. Many locations also include digital wellness tools, like mobile apps for workout tracking and virtual training. This tech-enabled approach appeals to modern fitness enthusiasts who want on-demand guidance and flexibility. The franchise model allows local owners to run their own gyms while still benefiting from the broader brand, ensuring community-focused service that maintains high standards. Overall, the friendly staff, clean facilities, and supportive resources create an encouraging environment where members feel motivated to improve their fitness routines.'),\n",
       "  Document(metadata={}, page_content='Beyond equipment and workouts, Anytime Fitness emphasizes holistic health and well-being. Some clubs offer amenities like wellness coaching, nutritional advice, and mental health resources. Their integrated approach to fitness makes it easier for individuals to adopt and maintain a healthy lifestyle. The brand often partners with local events, wellness challenges, and charity initiatives to engage members and give back to the community. These activities foster a sense of belonging and accountability among members. In addition, Anytime Fitness supports long-term transformation through its “AF Challenge,” a structured program focused on measurable progress. This makes it easier for members to set realistic goals and stay consistent. Their membership model is competitively priced and often includes features like guest passes, referral benefits, and discounts for long-term signups. All these elements make Anytime Fitness not just a place to work out, but a supportive hub for building better physical and mental health.')],\n",
       " 'on_topic': 'yes'}"
      ]
     },
     "execution_count": 82,
     "metadata": {},
     "output_type": "execute_result"
    }
   ],
   "source": [
    "app.invoke(input={\"messages\": [HumanMessage(content=\"Facilieties and equipment at anytime fitness\")]})"
   ]
  },
  {
   "cell_type": "code",
   "execution_count": 83,
   "id": "be3a33a4",
   "metadata": {},
   "outputs": [
    {
     "name": "stderr",
     "output_type": "stream",
     "text": [
      "c:\\Users\\kanha\\anaconda3\\Lib\\site-packages\\langchain_openai\\chat_models\\base.py:1413: UserWarning: Cannot use method='json_schema' with model gpt-3.5-turbo since it doesn't support OpenAI's Structured Output API. You can see supported models here: https://platform.openai.com/docs/guides/structured-outputs#supported-models. To fix this warning, set `method='function_calling'. Overriding to method='function_calling'.\n",
      "  warnings.warn(\n"
     ]
    },
    {
     "data": {
      "text/plain": [
       "{'messages': [HumanMessage(content='gyms near anytime fitness gym', additional_kwargs={}, response_metadata={}),\n",
       "  AIMessage(content='I am sorry!I cannot answer these questions', additional_kwargs={}, response_metadata={})],\n",
       " 'on_topic': 'no'}"
      ]
     },
     "execution_count": 83,
     "metadata": {},
     "output_type": "execute_result"
    }
   ],
   "source": [
    "app.invoke(input={\"messages\": [HumanMessage(content=\"gyms near anytime fitness gym\")]})"
   ]
  },
  {
   "cell_type": "code",
   "execution_count": null,
   "id": "80ea3e5a",
   "metadata": {},
   "outputs": [],
   "source": []
  }
 ],
 "metadata": {
  "kernelspec": {
   "display_name": "base",
   "language": "python",
   "name": "python3"
  },
  "language_info": {
   "codemirror_mode": {
    "name": "ipython",
    "version": 3
   },
   "file_extension": ".py",
   "mimetype": "text/x-python",
   "name": "python",
   "nbconvert_exporter": "python",
   "pygments_lexer": "ipython3",
   "version": "3.12.7"
  }
 },
 "nbformat": 4,
 "nbformat_minor": 5
}
