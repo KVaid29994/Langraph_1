{
 "cells": [
  {
   "cell_type": "markdown",
   "id": "47faad18",
   "metadata": {},
   "source": [
    "# 🚀 Streaming in LangGraph"
   ]
  },
  {
   "cell_type": "markdown",
   "id": "50a14747",
   "metadata": {},
   "source": [
    "LangGraph supports streaming outputs from nodes in your graph, allowing for token-level or chunk-level responses—ideal for chat interfaces or real-time applications."
   ]
  },
  {
   "cell_type": "markdown",
   "id": "48c46098",
   "metadata": {},
   "source": [
    "## 🧠 What is Streaming?"
   ]
  },
  {
   "cell_type": "markdown",
   "id": "6eb8557f",
   "metadata": {},
   "source": [
    " Streaming in LangGraph means that instead of waiting for a complete output from a node (e.g., an LLM response), the system yields outputs as they are generated. This is useful for:\n",
    "\n",
    "- Improving responsiveness of chatbots or apps.\n",
    "\n",
    "- Providing partial results quickly.\n",
    "\n",
    "- Displaying progressive outputs in dashboards or UIs.\n",
    "\n"
   ]
  },
  {
   "cell_type": "markdown",
   "id": "7d5f84a4",
   "metadata": {},
   "source": [
    "### 📦 Use Cases\n",
    "- Live chat apps\n",
    "- Data dashboards showing incremental results\n",
    "- Summarization UIs that build up the summary over time"
   ]
  },
  {
   "cell_type": "markdown",
   "id": "22f6ca76",
   "metadata": {},
   "source": [
    "### 🔁 astream and Stream Outputs in LangGraph\n",
    "\n",
    "- LangGraph provides built-in support for streaming execution, allowing you to receive intermediate outputs as they are generated. This is especially useful when your nodes use generators (like with LLMs that support streaming).\n",
    "\n"
   ]
  },
  {
   "cell_type": "markdown",
   "id": "26fc0da2",
   "metadata": {},
   "source": [
    "### 🧩 What is astream?\n",
    "\n",
    "- The astream() method is an asynchronous generator provided by LangGraph’s compiled application (app) object. It is used when your workflow contains streaming nodes (i.e., nodes that yield partial results)"
   ]
  },
  {
   "cell_type": "markdown",
   "id": "646a82b5",
   "metadata": {},
   "source": [
    "## 🔄 How Does Streaming Work?\n",
    "\n",
    "LangGraph nodes can yield intermediate states using Python generators. When the app is compiled, astream() will iterate over those streamed yields."
   ]
  },
  {
   "cell_type": "markdown",
   "id": "74fd8858",
   "metadata": {},
   "source": [
    "## 📥 Stream Outputs\n",
    "- Each item returned from astream() is:\n",
    "- A dictionary (updated state)\n",
    "- Can be printed, logged, or displayed in real time (e.g., in a chat app)\n",
    "- If multiple nodes stream in sequence, you’ll get multiple updates from the full graph as it runs."
   ]
  },
  {
   "cell_type": "markdown",
   "id": "f114cd2e",
   "metadata": {},
   "source": [
    "### 🌊 Stream Modes in LangGraph\n",
    "\n",
    "LangGraph offers flexible stream modes to determine how state is emitted during graph execution. This is especially useful when using app.stream() or app.astream() to get live updates from the graph."
   ]
  },
  {
   "cell_type": "markdown",
   "id": "e31885d7",
   "metadata": {},
   "source": [
    "### 🎛️ Available Stream Modes\n",
    "\n",
    "There are three main stream modes\n",
    "\n",
    "1. StreamMode.NODE_ONLY 🔄\n",
    "    - Streams output only when a node yields or returns.\n",
    "\n",
    "2. StreamMode.EDGE_ONLY 🧩\n",
    "    - Streams output only when a transition (edge) is taken between nodes.\n",
    "\n",
    "3. StreamMode.ALL\n",
    "    - Streams both node outputs and edge transitions."
   ]
  },
  {
   "cell_type": "markdown",
   "id": "6f231617",
   "metadata": {},
   "source": [
    "### 🧪 Stream Output Formats: \"value\" vs \"updates\" in LangGraph"
   ]
  },
  {
   "cell_type": "markdown",
   "id": "ff9ee13a",
   "metadata": {},
   "source": [
    "- When you stream execution using app.stream() or app.astream(), LangGraph lets you choose how the streamed data looks using output formats like:"
   ]
  },
  {
   "cell_type": "markdown",
   "id": "964803dc",
   "metadata": {},
   "source": [
    "1. \"value\" Format 📦\n",
    "\n",
    "- This is the default mode.\n",
    "\n",
    "- You receive the full state at each step.\n",
    "\n",
    "- Good for when you want a complete picture of the state at every yield or edge transition.\n",
    "\n",
    "2. \"updates\" Format 🧩\n",
    "- This emits only the changed fields in the state.\n",
    "\n"
   ]
  },
  {
   "cell_type": "markdown",
   "id": "cb00ca03",
   "metadata": {},
   "source": [
    "| Format      | Description                   | Output Contains           |\n",
    "| ----------- | ----------------------------- | ------------------------- |\n",
    "| `\"value\"`   | Full state at each step       | All keys/values           |\n",
    "| `\"updates\"` | Only the diff from last state | Changed fields + metadata |\n"
   ]
  },
  {
   "cell_type": "code",
   "execution_count": 4,
   "id": "24bf3fc1",
   "metadata": {},
   "outputs": [
    {
     "data": {
      "text/plain": [
       "True"
      ]
     },
     "execution_count": 4,
     "metadata": {},
     "output_type": "execute_result"
    }
   ],
   "source": [
    "from langchain_openai import ChatOpenAI\n",
    "from langchain_community.tools import TavilySearchResults\n",
    "from typing import TypedDict, Annotated\n",
    "from langgraph.graph import START, END, StateGraph, add_messages\n",
    "from langgraph.prebuilt import ToolNode\n",
    "from dotenv import load_dotenv\n",
    "load_dotenv()"
   ]
  },
  {
   "cell_type": "code",
   "execution_count": 5,
   "id": "dc8b4210",
   "metadata": {},
   "outputs": [],
   "source": [
    "class AgentState(TypedDict):\n",
    "    messages : Annotated[list, add_messages]\n",
    "\n",
    "search_tool = TavilySearchResults()\n",
    "\n",
    "tools = [search_tool]"
   ]
  },
  {
   "cell_type": "code",
   "execution_count": 6,
   "id": "71bbad54",
   "metadata": {},
   "outputs": [],
   "source": [
    "llm = ChatOpenAI()\n",
    "llm_with_tools = llm.bind_tools(tools = tools)"
   ]
  },
  {
   "cell_type": "code",
   "execution_count": 7,
   "id": "7642cfcd",
   "metadata": {},
   "outputs": [],
   "source": [
    "def model( state : AgentState):\n",
    "    return {'messages' : [llm_with_tools.invoke(state[\"messages\"])]\n",
    "\n",
    "    }\n",
    "\n",
    "\n",
    "def tools_router(state: AgentState):\n",
    "    last_message = state[\"messages\"][-1]\n",
    "\n",
    "    if (hasattr(last_message, \"tool_calls\") and len(last_message.tool_calls)>0):\n",
    "        return \"tool_node\"\n",
    "    else:\n",
    "        return END\n",
    "    \n",
    "\n",
    "tool_node = ToolNode(tools=tools)\n",
    "\n",
    "\n",
    "graph = StateGraph(AgentState)\n",
    "\n",
    "graph.add_node(\"model\", model)\n",
    "graph.add_node(\"tool_node\",tool_node)\n",
    "graph.set_entry_point(\"model\")\n",
    "\n",
    "graph.add_conditional_edges(\"model\", tools_router)\n",
    "graph.add_edge(\"tool_node\", \"model\")\n",
    "app = graph.compile()"
   ]
  },
  {
   "cell_type": "code",
   "execution_count": 11,
   "id": "c54adcb2",
   "metadata": {},
   "outputs": [
    {
     "data": {
      "text/plain": [
       "{'messages': [HumanMessage(content='what is the current weather in delhi?', additional_kwargs={}, response_metadata={}, id='a3bb424c-7405-4520-9a9f-5574d7482b92'),\n",
       "  AIMessage(content='', additional_kwargs={'tool_calls': [{'id': 'call_DPE2na0aI212qShsb9m9Lrlf', 'function': {'arguments': '{\"query\":\"current weather in Delhi\"}', 'name': 'tavily_search_results_json'}, 'type': 'function'}], 'refusal': None}, response_metadata={'token_usage': {'completion_tokens': 21, 'prompt_tokens': 90, 'total_tokens': 111, 'completion_tokens_details': {'accepted_prediction_tokens': 0, 'audio_tokens': 0, 'reasoning_tokens': 0, 'rejected_prediction_tokens': 0}, 'prompt_tokens_details': {'audio_tokens': 0, 'cached_tokens': 0}}, 'model_name': 'gpt-3.5-turbo-0125', 'system_fingerprint': None, 'finish_reason': 'tool_calls', 'logprobs': None}, id='run--38fe78eb-78c1-44d9-9148-0d91a3220874-0', tool_calls=[{'name': 'tavily_search_results_json', 'args': {'query': 'current weather in Delhi'}, 'id': 'call_DPE2na0aI212qShsb9m9Lrlf', 'type': 'tool_call'}], usage_metadata={'input_tokens': 90, 'output_tokens': 21, 'total_tokens': 111, 'input_token_details': {'audio': 0, 'cache_read': 0}, 'output_token_details': {'audio': 0, 'reasoning': 0}}),\n",
       "  ToolMessage(content='[{\"title\": \"New Delhi Weather Forecast 30 Jun 2025 - Times of India\", \"url\": \"https://timesofindia.indiatimes.com/weather/new-delhi-weather-forecast-today/110011\", \"content\": \"Today\\'s Weather in New Delhi: In New Delhi today, the weather is expected to be Mist with a maximum temperature of 32°C and a minimum of 27°C. Sunrise in\", \"score\": 0.9119436}, {\"title\": \"PDF\", \"url\": \"https://mausam.imd.gov.in/newdelhi/mcdata/HeatWaveBulletin.pdf\", \"content\": \"FORECAST & WARNING Maximum temperatures are in the range of 32-33°C which are markedly below normal by 4-7°C over Delhi. Maximum temperatures likely to be in the range of 31-33°C on 30 June, 2025 which will be markedly below normal by 4-6 °C.\", \"score\": 0.9020676}, {\"title\": \"Weather New Delhi in June 2025: Temperature & Climate\", \"url\": \"https://en.climate-data.org/asia/india/delhi/new-delhi-30/t/june-6/\", \"content\": \"Current temperature and weather forecast for New Delhi. New Delhi weather in ... 5.7 mm | 0.2 inch. 30. June, 32 °C | 89 °F, 36 °C | 97 °F, 27 °C | 81 °F\", \"score\": 0.8989177}, {\"title\": \"Rains in India LIVE: Light rains in Delhi, NCR; heavy rains forecast ...\", \"url\": \"https://www.thehindu.com/news/national/rains-in-india-monsoon-live-updates-delhi-himachal-pradesh-uttarakhand-june-30-2025/article69754317.ece\", \"content\": \"The India Meteorological Department (IMD) recorded widespread precipitation across various parts of Delhi-NCR from Sunday (June 29, 2025) night. Safdarjung, the city’s base observatory, recorded 14 mm rainfall in the 24 hours until 8.30 am on Monday (June 30, 2025). Palam and Lodi Road logged 16.2 mm and 17.3 mm of rainfall respectively during the same period. The Met office has issued a yellow alert for most of Delhi and NCR. [...] Delhi and adjoining NCR witnessed light to moderate rainfall accompanied by thunderstorms and gusty winds on Monday (June 30, 2025) morning. [...] Delhi and adjoining NCR witnessed light to moderate rainfall accompanied by thunderstorms and gusty winds on Monday (June 30, 2025) morning, pushing the temperatures several degrees down and rendering the air cleaner.\", \"score\": 0.8900749}, {\"title\": \"Weather in Delhi in June 2025 - Detailed Forecast\", \"url\": \"https://www.easeweather.com/asia/india/delhi/june\", \"content\": \"| 30 Jun. | Moderate rain Moderate rain | 36° /28° | 11.7 mm | 0.9 |  |\\\\n| Next | | | | | | [...] | 30 Moderate rain 36° |  |  |  |  |  |  | [...] easeweather.com\\\\nIndia weather\\\\n\\\\n# Weather in Delhi for June 2025\\\\n\\\\n### Temperatures\\\\n\\\\nUntil now, June 2025 in Delhi is slightly cooler than the historical average by -0.8 °C.\\\\n\\\\nIn general, the average temperature in Delhi at the beginning of June is 41.6 °C. As the month progressed, temperatures tended to significantly cool down, reaching an average of 38.3 °C by the end of June.\\\\n\\\\n### Rain 🌧️\", \"score\": 0.8665964}]', name='tavily_search_results_json', id='dd5d902a-2212-4c44-b671-620f22218778', tool_call_id='call_DPE2na0aI212qShsb9m9Lrlf', artifact={'query': 'current weather in Delhi', 'follow_up_questions': None, 'answer': None, 'images': [], 'results': [{'url': 'https://timesofindia.indiatimes.com/weather/new-delhi-weather-forecast-today/110011', 'title': 'New Delhi Weather Forecast 30 Jun 2025 - Times of India', 'content': \"Today's Weather in New Delhi: In New Delhi today, the weather is expected to be Mist with a maximum temperature of 32°C and a minimum of 27°C. Sunrise in\", 'score': 0.9119436, 'raw_content': None}, {'title': 'PDF', 'url': 'https://mausam.imd.gov.in/newdelhi/mcdata/HeatWaveBulletin.pdf', 'content': 'FORECAST & WARNING Maximum temperatures are in the range of 32-33°C which are markedly below normal by 4-7°C over Delhi. Maximum temperatures likely to be in the range of 31-33°C on 30 June, 2025 which will be markedly below normal by 4-6 °C.', 'score': 0.9020676, 'raw_content': None}, {'url': 'https://en.climate-data.org/asia/india/delhi/new-delhi-30/t/june-6/', 'title': 'Weather New Delhi in June 2025: Temperature & Climate', 'content': 'Current temperature and weather forecast for New Delhi. New Delhi weather in ... 5.7 mm | 0.2 inch. 30. June, 32 °C | 89 °F, 36 °C | 97 °F, 27 °C | 81 °F', 'score': 0.8989177, 'raw_content': None}, {'title': 'Rains in India LIVE: Light rains in Delhi, NCR; heavy rains forecast ...', 'url': 'https://www.thehindu.com/news/national/rains-in-india-monsoon-live-updates-delhi-himachal-pradesh-uttarakhand-june-30-2025/article69754317.ece', 'content': 'The India Meteorological Department (IMD) recorded widespread precipitation across various parts of Delhi-NCR from Sunday (June 29, 2025) night. Safdarjung, the city’s base observatory, recorded 14 mm rainfall in the 24 hours until 8.30 am on Monday (June 30, 2025). Palam and Lodi Road logged 16.2 mm and 17.3 mm of rainfall respectively during the same period. The Met office has issued a yellow alert for most of Delhi and NCR. [...] Delhi and adjoining NCR witnessed light to moderate rainfall accompanied by thunderstorms and gusty winds on Monday (June 30, 2025) morning. [...] Delhi and adjoining NCR witnessed light to moderate rainfall accompanied by thunderstorms and gusty winds on Monday (June 30, 2025) morning, pushing the temperatures several degrees down and rendering the air cleaner.', 'score': 0.8900749, 'raw_content': None}, {'url': 'https://www.easeweather.com/asia/india/delhi/june', 'title': 'Weather in Delhi in June 2025 - Detailed Forecast', 'content': '| 30 Jun. | Moderate rain Moderate rain | 36° /28° | 11.7 mm | 0.9 |  |\\n| Next | | | | | | [...] | 30 Moderate rain 36° |  |  |  |  |  |  | [...] easeweather.com\\nIndia weather\\n\\n# Weather in Delhi for June 2025\\n\\n### Temperatures\\n\\nUntil now, June 2025 in Delhi is slightly cooler than the historical average by -0.8 °C.\\n\\nIn general, the average temperature in Delhi at the beginning of June is 41.6 °C. As the month progressed, temperatures tended to significantly cool down, reaching an average of 38.3 °C by the end of June.\\n\\n### Rain 🌧️', 'score': 0.8665964, 'raw_content': None}], 'response_time': 5.52}),\n",
       "  AIMessage(content='The current weather in Delhi is misty with a maximum temperature of 32°C and a minimum of 27°C. If you would like more detailed information or the latest updates, you can visit the Times of India weather forecast page for New Delhi: [New Delhi Weather Forecast - Times of India](https://timesofindia.indiatimes.com/weather/new-delhi-weather-forecast-today/110011).', additional_kwargs={'refusal': None}, response_metadata={'token_usage': {'completion_tokens': 85, 'prompt_tokens': 957, 'total_tokens': 1042, 'completion_tokens_details': {'accepted_prediction_tokens': 0, 'audio_tokens': 0, 'reasoning_tokens': 0, 'rejected_prediction_tokens': 0}, 'prompt_tokens_details': {'audio_tokens': 0, 'cached_tokens': 0}}, 'model_name': 'gpt-3.5-turbo-0125', 'system_fingerprint': None, 'finish_reason': 'stop', 'logprobs': None}, id='run--507a709f-6aa8-4371-a5e2-a9c9f6d7e713-0', usage_metadata={'input_tokens': 957, 'output_tokens': 85, 'total_tokens': 1042, 'input_token_details': {'audio': 0, 'cache_read': 0}, 'output_token_details': {'audio': 0, 'reasoning': 0}})]}"
      ]
     },
     "execution_count": 11,
     "metadata": {},
     "output_type": "execute_result"
    }
   ],
   "source": [
    "app.invoke({\"messages\": [\"what is the current weather in delhi?\"]})"
   ]
  },
  {
   "cell_type": "code",
   "execution_count": 12,
   "id": "6475fda2",
   "metadata": {},
   "outputs": [
    {
     "name": "stdout",
     "output_type": "stream",
     "text": [
      "{'messages': [HumanMessage(content='what is the current weather in delhi?', additional_kwargs={}, response_metadata={}, id='7ff48997-9603-4205-9558-d0cf16298755')]}\n",
      "{'messages': [HumanMessage(content='what is the current weather in delhi?', additional_kwargs={}, response_metadata={}, id='7ff48997-9603-4205-9558-d0cf16298755'), AIMessage(content='', additional_kwargs={'tool_calls': [{'id': 'call_Cy1Z0Id6iDxkDoYBkG1TfYFo', 'function': {'arguments': '{\"query\":\"current weather in Delhi\"}', 'name': 'tavily_search_results_json'}, 'type': 'function'}], 'refusal': None}, response_metadata={'token_usage': {'completion_tokens': 21, 'prompt_tokens': 90, 'total_tokens': 111, 'completion_tokens_details': {'accepted_prediction_tokens': 0, 'audio_tokens': 0, 'reasoning_tokens': 0, 'rejected_prediction_tokens': 0}, 'prompt_tokens_details': {'audio_tokens': 0, 'cached_tokens': 0}}, 'model_name': 'gpt-3.5-turbo-0125', 'system_fingerprint': None, 'finish_reason': 'tool_calls', 'logprobs': None}, id='run--134b01b3-ce5c-4eac-86f5-b5494fe000c0-0', tool_calls=[{'name': 'tavily_search_results_json', 'args': {'query': 'current weather in Delhi'}, 'id': 'call_Cy1Z0Id6iDxkDoYBkG1TfYFo', 'type': 'tool_call'}], usage_metadata={'input_tokens': 90, 'output_tokens': 21, 'total_tokens': 111, 'input_token_details': {'audio': 0, 'cache_read': 0}, 'output_token_details': {'audio': 0, 'reasoning': 0}})]}\n",
      "{'messages': [HumanMessage(content='what is the current weather in delhi?', additional_kwargs={}, response_metadata={}, id='7ff48997-9603-4205-9558-d0cf16298755'), AIMessage(content='', additional_kwargs={'tool_calls': [{'id': 'call_Cy1Z0Id6iDxkDoYBkG1TfYFo', 'function': {'arguments': '{\"query\":\"current weather in Delhi\"}', 'name': 'tavily_search_results_json'}, 'type': 'function'}], 'refusal': None}, response_metadata={'token_usage': {'completion_tokens': 21, 'prompt_tokens': 90, 'total_tokens': 111, 'completion_tokens_details': {'accepted_prediction_tokens': 0, 'audio_tokens': 0, 'reasoning_tokens': 0, 'rejected_prediction_tokens': 0}, 'prompt_tokens_details': {'audio_tokens': 0, 'cached_tokens': 0}}, 'model_name': 'gpt-3.5-turbo-0125', 'system_fingerprint': None, 'finish_reason': 'tool_calls', 'logprobs': None}, id='run--134b01b3-ce5c-4eac-86f5-b5494fe000c0-0', tool_calls=[{'name': 'tavily_search_results_json', 'args': {'query': 'current weather in Delhi'}, 'id': 'call_Cy1Z0Id6iDxkDoYBkG1TfYFo', 'type': 'tool_call'}], usage_metadata={'input_tokens': 90, 'output_tokens': 21, 'total_tokens': 111, 'input_token_details': {'audio': 0, 'cache_read': 0}, 'output_token_details': {'audio': 0, 'reasoning': 0}}), ToolMessage(content='[{\"title\": \"New Delhi Weather Forecast 30 Jun 2025 - Times of India\", \"url\": \"https://timesofindia.indiatimes.com/weather/new-delhi-weather-forecast-today/110011\", \"content\": \"Today\\'s Weather in New Delhi: In New Delhi today, the weather is expected to be Mist with a maximum temperature of 32°C and a minimum of 27°C. Sunrise in\", \"score\": 0.9119436}, {\"title\": \"Weather New Delhi in June 2025: Temperature & Climate\", \"url\": \"https://en.climate-data.org/asia/india/delhi/new-delhi-30/t/june-6/\", \"content\": \"Current temperature and weather forecast for New Delhi. New Delhi weather in ... 5.7 mm | 0.2 inch. 30. June, 32 °C | 89 °F, 36 °C | 97 °F, 27 °C | 81 °F\", \"score\": 0.8989177}, {\"title\": \"Rains in India LIVE: Light rains in Delhi, NCR; heavy rains forecast ...\", \"url\": \"https://www.thehindu.com/news/national/rains-in-india-monsoon-live-updates-delhi-himachal-pradesh-uttarakhand-june-30-2025/article69754317.ece\", \"content\": \"The India Meteorological Department (IMD) recorded widespread precipitation across various parts of Delhi-NCR from Sunday (June 29, 2025) night. Safdarjung, the city’s base observatory, recorded 14 mm rainfall in the 24 hours until 8.30 am on Monday (June 30, 2025). Palam and Lodi Road logged 16.2 mm and 17.3 mm of rainfall respectively during the same period. The Met office has issued a yellow alert for most of Delhi and NCR. [...] Delhi and adjoining NCR witnessed light to moderate rainfall accompanied by thunderstorms and gusty winds on Monday (June 30, 2025) morning. [...] Delhi and adjoining NCR witnessed light to moderate rainfall accompanied by thunderstorms and gusty winds on Monday (June 30, 2025) morning, pushing the temperatures several degrees down and rendering the air cleaner.\", \"score\": 0.8900749}, {\"title\": \"Weather in Delhi in June 2025 - Detailed Forecast\", \"url\": \"https://www.easeweather.com/asia/india/delhi/june\", \"content\": \"| 30 Jun. | Moderate rain Moderate rain | 36° /28° | 11.7 mm | 0.9 |  |\\\\n| Next | | | | | | [...] | 30 Moderate rain 36° |  |  |  |  |  |  | [...] easeweather.com\\\\nIndia weather\\\\n\\\\n# Weather in Delhi for June 2025\\\\n\\\\n### Temperatures\\\\n\\\\nUntil now, June 2025 in Delhi is slightly cooler than the historical average by -0.8 °C.\\\\n\\\\nIn general, the average temperature in Delhi at the beginning of June is 41.6 °C. As the month progressed, temperatures tended to significantly cool down, reaching an average of 38.3 °C by the end of June.\\\\n\\\\n### Rain 🌧️\", \"score\": 0.8665964}, {\"title\": \"New Delhi Weather in June, 2025 - Agate Travel\", \"url\": \"https://www.agatetravel.com/india/delhi/weather-in-june.html\", \"content\": \"New Delhi Weather in June is still hot with an average temperature of 32°C (89.6°F). The highest temperature is 44°C (111.2°F) and the lowest is 22°C (71.6°F).\", \"score\": 0.7923522}]', name='tavily_search_results_json', id='2cdeb3c0-f41e-4c8d-b504-fc79705ff4f4', tool_call_id='call_Cy1Z0Id6iDxkDoYBkG1TfYFo', artifact={'query': 'current weather in Delhi', 'follow_up_questions': None, 'answer': None, 'images': [], 'results': [{'url': 'https://timesofindia.indiatimes.com/weather/new-delhi-weather-forecast-today/110011', 'title': 'New Delhi Weather Forecast 30 Jun 2025 - Times of India', 'content': \"Today's Weather in New Delhi: In New Delhi today, the weather is expected to be Mist with a maximum temperature of 32°C and a minimum of 27°C. Sunrise in\", 'score': 0.9119436, 'raw_content': None}, {'url': 'https://en.climate-data.org/asia/india/delhi/new-delhi-30/t/june-6/', 'title': 'Weather New Delhi in June 2025: Temperature & Climate', 'content': 'Current temperature and weather forecast for New Delhi. New Delhi weather in ... 5.7 mm | 0.2 inch. 30. June, 32 °C | 89 °F, 36 °C | 97 °F, 27 °C | 81 °F', 'score': 0.8989177, 'raw_content': None}, {'title': 'Rains in India LIVE: Light rains in Delhi, NCR; heavy rains forecast ...', 'url': 'https://www.thehindu.com/news/national/rains-in-india-monsoon-live-updates-delhi-himachal-pradesh-uttarakhand-june-30-2025/article69754317.ece', 'content': 'The India Meteorological Department (IMD) recorded widespread precipitation across various parts of Delhi-NCR from Sunday (June 29, 2025) night. Safdarjung, the city’s base observatory, recorded 14 mm rainfall in the 24 hours until 8.30 am on Monday (June 30, 2025). Palam and Lodi Road logged 16.2 mm and 17.3 mm of rainfall respectively during the same period. The Met office has issued a yellow alert for most of Delhi and NCR. [...] Delhi and adjoining NCR witnessed light to moderate rainfall accompanied by thunderstorms and gusty winds on Monday (June 30, 2025) morning. [...] Delhi and adjoining NCR witnessed light to moderate rainfall accompanied by thunderstorms and gusty winds on Monday (June 30, 2025) morning, pushing the temperatures several degrees down and rendering the air cleaner.', 'score': 0.8900749, 'raw_content': None}, {'url': 'https://www.easeweather.com/asia/india/delhi/june', 'title': 'Weather in Delhi in June 2025 - Detailed Forecast', 'content': '| 30 Jun. | Moderate rain Moderate rain | 36° /28° | 11.7 mm | 0.9 |  |\\n| Next | | | | | | [...] | 30 Moderate rain 36° |  |  |  |  |  |  | [...] easeweather.com\\nIndia weather\\n\\n# Weather in Delhi for June 2025\\n\\n### Temperatures\\n\\nUntil now, June 2025 in Delhi is slightly cooler than the historical average by -0.8 °C.\\n\\nIn general, the average temperature in Delhi at the beginning of June is 41.6 °C. As the month progressed, temperatures tended to significantly cool down, reaching an average of 38.3 °C by the end of June.\\n\\n### Rain 🌧️', 'score': 0.8665964, 'raw_content': None}, {'url': 'https://www.agatetravel.com/india/delhi/weather-in-june.html', 'title': 'New Delhi Weather in June, 2025 - Agate Travel', 'content': 'New Delhi Weather in June is still hot with an average temperature of 32°C (89.6°F). The highest temperature is 44°C (111.2°F) and the lowest is 22°C (71.6°F).', 'score': 0.7923522, 'raw_content': None}], 'response_time': 4.68})]}\n",
      "{'messages': [HumanMessage(content='what is the current weather in delhi?', additional_kwargs={}, response_metadata={}, id='7ff48997-9603-4205-9558-d0cf16298755'), AIMessage(content='', additional_kwargs={'tool_calls': [{'id': 'call_Cy1Z0Id6iDxkDoYBkG1TfYFo', 'function': {'arguments': '{\"query\":\"current weather in Delhi\"}', 'name': 'tavily_search_results_json'}, 'type': 'function'}], 'refusal': None}, response_metadata={'token_usage': {'completion_tokens': 21, 'prompt_tokens': 90, 'total_tokens': 111, 'completion_tokens_details': {'accepted_prediction_tokens': 0, 'audio_tokens': 0, 'reasoning_tokens': 0, 'rejected_prediction_tokens': 0}, 'prompt_tokens_details': {'audio_tokens': 0, 'cached_tokens': 0}}, 'model_name': 'gpt-3.5-turbo-0125', 'system_fingerprint': None, 'finish_reason': 'tool_calls', 'logprobs': None}, id='run--134b01b3-ce5c-4eac-86f5-b5494fe000c0-0', tool_calls=[{'name': 'tavily_search_results_json', 'args': {'query': 'current weather in Delhi'}, 'id': 'call_Cy1Z0Id6iDxkDoYBkG1TfYFo', 'type': 'tool_call'}], usage_metadata={'input_tokens': 90, 'output_tokens': 21, 'total_tokens': 111, 'input_token_details': {'audio': 0, 'cache_read': 0}, 'output_token_details': {'audio': 0, 'reasoning': 0}}), ToolMessage(content='[{\"title\": \"New Delhi Weather Forecast 30 Jun 2025 - Times of India\", \"url\": \"https://timesofindia.indiatimes.com/weather/new-delhi-weather-forecast-today/110011\", \"content\": \"Today\\'s Weather in New Delhi: In New Delhi today, the weather is expected to be Mist with a maximum temperature of 32°C and a minimum of 27°C. Sunrise in\", \"score\": 0.9119436}, {\"title\": \"Weather New Delhi in June 2025: Temperature & Climate\", \"url\": \"https://en.climate-data.org/asia/india/delhi/new-delhi-30/t/june-6/\", \"content\": \"Current temperature and weather forecast for New Delhi. New Delhi weather in ... 5.7 mm | 0.2 inch. 30. June, 32 °C | 89 °F, 36 °C | 97 °F, 27 °C | 81 °F\", \"score\": 0.8989177}, {\"title\": \"Rains in India LIVE: Light rains in Delhi, NCR; heavy rains forecast ...\", \"url\": \"https://www.thehindu.com/news/national/rains-in-india-monsoon-live-updates-delhi-himachal-pradesh-uttarakhand-june-30-2025/article69754317.ece\", \"content\": \"The India Meteorological Department (IMD) recorded widespread precipitation across various parts of Delhi-NCR from Sunday (June 29, 2025) night. Safdarjung, the city’s base observatory, recorded 14 mm rainfall in the 24 hours until 8.30 am on Monday (June 30, 2025). Palam and Lodi Road logged 16.2 mm and 17.3 mm of rainfall respectively during the same period. The Met office has issued a yellow alert for most of Delhi and NCR. [...] Delhi and adjoining NCR witnessed light to moderate rainfall accompanied by thunderstorms and gusty winds on Monday (June 30, 2025) morning. [...] Delhi and adjoining NCR witnessed light to moderate rainfall accompanied by thunderstorms and gusty winds on Monday (June 30, 2025) morning, pushing the temperatures several degrees down and rendering the air cleaner.\", \"score\": 0.8900749}, {\"title\": \"Weather in Delhi in June 2025 - Detailed Forecast\", \"url\": \"https://www.easeweather.com/asia/india/delhi/june\", \"content\": \"| 30 Jun. | Moderate rain Moderate rain | 36° /28° | 11.7 mm | 0.9 |  |\\\\n| Next | | | | | | [...] | 30 Moderate rain 36° |  |  |  |  |  |  | [...] easeweather.com\\\\nIndia weather\\\\n\\\\n# Weather in Delhi for June 2025\\\\n\\\\n### Temperatures\\\\n\\\\nUntil now, June 2025 in Delhi is slightly cooler than the historical average by -0.8 °C.\\\\n\\\\nIn general, the average temperature in Delhi at the beginning of June is 41.6 °C. As the month progressed, temperatures tended to significantly cool down, reaching an average of 38.3 °C by the end of June.\\\\n\\\\n### Rain 🌧️\", \"score\": 0.8665964}, {\"title\": \"New Delhi Weather in June, 2025 - Agate Travel\", \"url\": \"https://www.agatetravel.com/india/delhi/weather-in-june.html\", \"content\": \"New Delhi Weather in June is still hot with an average temperature of 32°C (89.6°F). The highest temperature is 44°C (111.2°F) and the lowest is 22°C (71.6°F).\", \"score\": 0.7923522}]', name='tavily_search_results_json', id='2cdeb3c0-f41e-4c8d-b504-fc79705ff4f4', tool_call_id='call_Cy1Z0Id6iDxkDoYBkG1TfYFo', artifact={'query': 'current weather in Delhi', 'follow_up_questions': None, 'answer': None, 'images': [], 'results': [{'url': 'https://timesofindia.indiatimes.com/weather/new-delhi-weather-forecast-today/110011', 'title': 'New Delhi Weather Forecast 30 Jun 2025 - Times of India', 'content': \"Today's Weather in New Delhi: In New Delhi today, the weather is expected to be Mist with a maximum temperature of 32°C and a minimum of 27°C. Sunrise in\", 'score': 0.9119436, 'raw_content': None}, {'url': 'https://en.climate-data.org/asia/india/delhi/new-delhi-30/t/june-6/', 'title': 'Weather New Delhi in June 2025: Temperature & Climate', 'content': 'Current temperature and weather forecast for New Delhi. New Delhi weather in ... 5.7 mm | 0.2 inch. 30. June, 32 °C | 89 °F, 36 °C | 97 °F, 27 °C | 81 °F', 'score': 0.8989177, 'raw_content': None}, {'title': 'Rains in India LIVE: Light rains in Delhi, NCR; heavy rains forecast ...', 'url': 'https://www.thehindu.com/news/national/rains-in-india-monsoon-live-updates-delhi-himachal-pradesh-uttarakhand-june-30-2025/article69754317.ece', 'content': 'The India Meteorological Department (IMD) recorded widespread precipitation across various parts of Delhi-NCR from Sunday (June 29, 2025) night. Safdarjung, the city’s base observatory, recorded 14 mm rainfall in the 24 hours until 8.30 am on Monday (June 30, 2025). Palam and Lodi Road logged 16.2 mm and 17.3 mm of rainfall respectively during the same period. The Met office has issued a yellow alert for most of Delhi and NCR. [...] Delhi and adjoining NCR witnessed light to moderate rainfall accompanied by thunderstorms and gusty winds on Monday (June 30, 2025) morning. [...] Delhi and adjoining NCR witnessed light to moderate rainfall accompanied by thunderstorms and gusty winds on Monday (June 30, 2025) morning, pushing the temperatures several degrees down and rendering the air cleaner.', 'score': 0.8900749, 'raw_content': None}, {'url': 'https://www.easeweather.com/asia/india/delhi/june', 'title': 'Weather in Delhi in June 2025 - Detailed Forecast', 'content': '| 30 Jun. | Moderate rain Moderate rain | 36° /28° | 11.7 mm | 0.9 |  |\\n| Next | | | | | | [...] | 30 Moderate rain 36° |  |  |  |  |  |  | [...] easeweather.com\\nIndia weather\\n\\n# Weather in Delhi for June 2025\\n\\n### Temperatures\\n\\nUntil now, June 2025 in Delhi is slightly cooler than the historical average by -0.8 °C.\\n\\nIn general, the average temperature in Delhi at the beginning of June is 41.6 °C. As the month progressed, temperatures tended to significantly cool down, reaching an average of 38.3 °C by the end of June.\\n\\n### Rain 🌧️', 'score': 0.8665964, 'raw_content': None}, {'url': 'https://www.agatetravel.com/india/delhi/weather-in-june.html', 'title': 'New Delhi Weather in June, 2025 - Agate Travel', 'content': 'New Delhi Weather in June is still hot with an average temperature of 32°C (89.6°F). The highest temperature is 44°C (111.2°F) and the lowest is 22°C (71.6°F).', 'score': 0.7923522, 'raw_content': None}], 'response_time': 4.68}), AIMessage(content='The current weather in Delhi is misty with a maximum temperature of 32°C and a minimum of 27°C. If you would like more detailed information, you can visit the Times of India website for the latest weather forecast: [New Delhi Weather Forecast - Times of India](https://timesofindia.indiatimes.com/weather/new-delhi-weather-forecast-today/110011)', additional_kwargs={'refusal': None}, response_metadata={'token_usage': {'completion_tokens': 81, 'prompt_tokens': 951, 'total_tokens': 1032, 'completion_tokens_details': {'accepted_prediction_tokens': 0, 'audio_tokens': 0, 'reasoning_tokens': 0, 'rejected_prediction_tokens': 0}, 'prompt_tokens_details': {'audio_tokens': 0, 'cached_tokens': 0}}, 'model_name': 'gpt-3.5-turbo-0125', 'system_fingerprint': None, 'finish_reason': 'stop', 'logprobs': None}, id='run--4c355ce4-95ed-4fc6-aa0b-e273ccb45b3b-0', usage_metadata={'input_tokens': 951, 'output_tokens': 81, 'total_tokens': 1032, 'input_token_details': {'audio': 0, 'cache_read': 0}, 'output_token_details': {'audio': 0, 'reasoning': 0}})]}\n"
     ]
    }
   ],
   "source": [
    "input = {\"messages\": [\"what is the current weather in delhi?\"]}\n",
    "\n",
    "events = app.stream(input = input, stream_mode=\"values\")\n",
    "\n",
    "for event in events:\n",
    "    print (event)"
   ]
  },
  {
   "cell_type": "code",
   "execution_count": 14,
   "id": "f4a7595b",
   "metadata": {},
   "outputs": [
    {
     "name": "stdout",
     "output_type": "stream",
     "text": [
      "{'model': {'messages': [AIMessage(content='', additional_kwargs={'tool_calls': [{'id': 'call_Yrfy2PUtK5orUyLQ8VT4Rgkg', 'function': {'arguments': '{\"query\":\"current weather in Delhi\"}', 'name': 'tavily_search_results_json'}, 'type': 'function'}], 'refusal': None}, response_metadata={'token_usage': {'completion_tokens': 21, 'prompt_tokens': 90, 'total_tokens': 111, 'completion_tokens_details': {'accepted_prediction_tokens': 0, 'audio_tokens': 0, 'reasoning_tokens': 0, 'rejected_prediction_tokens': 0}, 'prompt_tokens_details': {'audio_tokens': 0, 'cached_tokens': 0}}, 'model_name': 'gpt-3.5-turbo-0125', 'system_fingerprint': None, 'finish_reason': 'tool_calls', 'logprobs': None}, id='run--2ad063f3-60a2-4fda-ac77-6fbcbf4313b3-0', tool_calls=[{'name': 'tavily_search_results_json', 'args': {'query': 'current weather in Delhi'}, 'id': 'call_Yrfy2PUtK5orUyLQ8VT4Rgkg', 'type': 'tool_call'}], usage_metadata={'input_tokens': 90, 'output_tokens': 21, 'total_tokens': 111, 'input_token_details': {'audio': 0, 'cache_read': 0}, 'output_token_details': {'audio': 0, 'reasoning': 0}})]}}\n",
      "{'tool_node': {'messages': [ToolMessage(content='[{\"title\": \"Weather in Delhi in June 2025\", \"url\": \"https://world-weather.info/forecast/india/delhi/june-2025/\", \"content\": \"Detailed ⚡ Delhi Weather Forecast for June 2025 – day/night 🌡 ... Monday, 30 June. +82°. Day. +88°. Drizzle. Extended weather forecast in Delhi. Hourly\", \"score\": 0.92260116}, {\"title\": \"New Delhi Weather Forecast 30 Jun 2025 - Times of India\", \"url\": \"https://timesofindia.indiatimes.com/weather/new-delhi-weather-forecast-today/110011\", \"content\": \"Today\\'s Weather in New Delhi: In New Delhi today, the weather is expected to be Mist with a maximum temperature of 32°C and a minimum of 27°C. Sunrise in\", \"score\": 0.91671574}, {\"title\": \"Delhi Weather: City braces for heavy rain and high humidity today ...\", \"url\": \"https://timesofindia.indiatimes.com/city/delhi/heavy-rain-expected-in-new-delhi-a-wet-start-to-july/articleshow/122149729.cms\", \"content\": \"New Delhi is set for a drenching start to the week on June 30, 2025, with heavy rain and high humidity expected. Today\\'s precipitation could reach 68.\", \"score\": 0.9147261}, {\"title\": \"Rains in India LIVE: Light rains in Delhi, NCR; heavy rains forecast ...\", \"url\": \"https://www.thehindu.com/news/national/rains-in-india-monsoon-live-updates-delhi-himachal-pradesh-uttarakhand-june-30-2025/article69754317.ece\", \"content\": \"The India Meteorological Department (IMD) recorded widespread precipitation across various parts of Delhi-NCR from Sunday (June 29, 2025) night. Safdarjung, the city’s base observatory, recorded 14 mm rainfall in the 24 hours until 8.30 am on Monday (June 30, 2025). Palam and Lodi Road logged 16.2 mm and 17.3 mm of rainfall respectively during the same period. The Met office has issued a yellow alert for most of Delhi and NCR. [...] Delhi and adjoining NCR witnessed light to moderate rainfall accompanied by thunderstorms and gusty winds on Monday (June 30, 2025) morning. [...] Delhi and adjoining NCR witnessed light to moderate rainfall accompanied by thunderstorms and gusty winds on Monday (June 30, 2025) morning, pushing the temperatures several degrees down and rendering the air cleaner.\", \"score\": 0.8989177}, {\"title\": \"Weather in Delhi in June 2025 - Detailed Forecast\", \"url\": \"https://www.easeweather.com/asia/india/delhi/june\", \"content\": \"| 30 Jun. | Moderate rain Moderate rain | 36° /28° | 11.7 mm | 0.9 |  |\\\\n| Next | | | | | | [...] | 30 Moderate rain 36° |  |  |  |  |  |  | [...] easeweather.com\\\\nIndia weather\\\\n\\\\n# Weather in Delhi for June 2025\\\\n\\\\n### Temperatures\\\\n\\\\nUntil now, June 2025 in Delhi is slightly cooler than the historical average by -0.8 °C.\\\\n\\\\nIn general, the average temperature in Delhi at the beginning of June is 41.6 °C. As the month progressed, temperatures tended to significantly cool down, reaching an average of 38.3 °C by the end of June.\\\\n\\\\n### Rain 🌧️\", \"score\": 0.8727061}]', name='tavily_search_results_json', id='bd9cd8f6-8e2c-4a5f-beaf-0cfde2293112', tool_call_id='call_Yrfy2PUtK5orUyLQ8VT4Rgkg', artifact={'query': 'current weather in Delhi', 'follow_up_questions': None, 'answer': None, 'images': [], 'results': [{'url': 'https://world-weather.info/forecast/india/delhi/june-2025/', 'title': 'Weather in Delhi in June 2025', 'content': 'Detailed ⚡ Delhi Weather Forecast for June 2025 – day/night 🌡 ... Monday, 30 June. +82°. Day. +88°. Drizzle. Extended weather forecast in Delhi. Hourly', 'score': 0.92260116, 'raw_content': None}, {'url': 'https://timesofindia.indiatimes.com/weather/new-delhi-weather-forecast-today/110011', 'title': 'New Delhi Weather Forecast 30 Jun 2025 - Times of India', 'content': \"Today's Weather in New Delhi: In New Delhi today, the weather is expected to be Mist with a maximum temperature of 32°C and a minimum of 27°C. Sunrise in\", 'score': 0.91671574, 'raw_content': None}, {'title': 'Delhi Weather: City braces for heavy rain and high humidity today ...', 'url': 'https://timesofindia.indiatimes.com/city/delhi/heavy-rain-expected-in-new-delhi-a-wet-start-to-july/articleshow/122149729.cms', 'content': \"New Delhi is set for a drenching start to the week on June 30, 2025, with heavy rain and high humidity expected. Today's precipitation could reach 68.\", 'score': 0.9147261, 'raw_content': None}, {'title': 'Rains in India LIVE: Light rains in Delhi, NCR; heavy rains forecast ...', 'url': 'https://www.thehindu.com/news/national/rains-in-india-monsoon-live-updates-delhi-himachal-pradesh-uttarakhand-june-30-2025/article69754317.ece', 'content': 'The India Meteorological Department (IMD) recorded widespread precipitation across various parts of Delhi-NCR from Sunday (June 29, 2025) night. Safdarjung, the city’s base observatory, recorded 14 mm rainfall in the 24 hours until 8.30 am on Monday (June 30, 2025). Palam and Lodi Road logged 16.2 mm and 17.3 mm of rainfall respectively during the same period. The Met office has issued a yellow alert for most of Delhi and NCR. [...] Delhi and adjoining NCR witnessed light to moderate rainfall accompanied by thunderstorms and gusty winds on Monday (June 30, 2025) morning. [...] Delhi and adjoining NCR witnessed light to moderate rainfall accompanied by thunderstorms and gusty winds on Monday (June 30, 2025) morning, pushing the temperatures several degrees down and rendering the air cleaner.', 'score': 0.8989177, 'raw_content': None}, {'url': 'https://www.easeweather.com/asia/india/delhi/june', 'title': 'Weather in Delhi in June 2025 - Detailed Forecast', 'content': '| 30 Jun. | Moderate rain Moderate rain | 36° /28° | 11.7 mm | 0.9 |  |\\n| Next | | | | | | [...] | 30 Moderate rain 36° |  |  |  |  |  |  | [...] easeweather.com\\nIndia weather\\n\\n# Weather in Delhi for June 2025\\n\\n### Temperatures\\n\\nUntil now, June 2025 in Delhi is slightly cooler than the historical average by -0.8 °C.\\n\\nIn general, the average temperature in Delhi at the beginning of June is 41.6 °C. As the month progressed, temperatures tended to significantly cool down, reaching an average of 38.3 °C by the end of June.\\n\\n### Rain 🌧️', 'score': 0.8727061, 'raw_content': None}], 'response_time': 4.87})]}}\n",
      "{'model': {'messages': [AIMessage(content='The current weather in Delhi indicates that there are light to moderate rains accompanied by thunderstorms and gusty winds. The temperatures have decreased due to the rainfall, making the air cleaner. The maximum temperature is expected to be around 32°C and the minimum around 27°C.', additional_kwargs={'refusal': None}, response_metadata={'token_usage': {'completion_tokens': 56, 'prompt_tokens': 938, 'total_tokens': 994, 'completion_tokens_details': {'accepted_prediction_tokens': 0, 'audio_tokens': 0, 'reasoning_tokens': 0, 'rejected_prediction_tokens': 0}, 'prompt_tokens_details': {'audio_tokens': 0, 'cached_tokens': 0}}, 'model_name': 'gpt-3.5-turbo-0125', 'system_fingerprint': None, 'finish_reason': 'stop', 'logprobs': None}, id='run--5b78e3d8-cba4-47b2-8a17-beca3f97acc4-0', usage_metadata={'input_tokens': 938, 'output_tokens': 56, 'total_tokens': 994, 'input_token_details': {'audio': 0, 'cache_read': 0}, 'output_token_details': {'audio': 0, 'reasoning': 0}})]}}\n"
     ]
    }
   ],
   "source": [
    "input = {\"messages\": [\"what is the current weather in delhi?\"]}\n",
    "\n",
    "events = app.stream(input = input, stream_mode=\"updates\")\n",
    "\n",
    "for event in events:\n",
    "    print (event)"
   ]
  },
  {
   "cell_type": "markdown",
   "id": "85472c05",
   "metadata": {},
   "source": [
    "## astream_events"
   ]
  },
  {
   "cell_type": "markdown",
   "id": "5ac62fe0",
   "metadata": {},
   "source": [
    "- ***astream_events*** is an advanced streaming interface in LangGraph that emits detailed execution events as the graph runs — including metadata about node execution, edge transitions, and yields.\n",
    "\n",
    "🔍 What is astream_events?\n",
    "\n",
    "``` python\n",
    "\n",
    "async for event in app.astream_events(input_state):\n",
    "    print(event)\n",
    "\n",
    "\n",
    "- Instead of returning only the state, astream_events yields structured event objects, which include:\n",
    "    - The type of event (e.g., on_node_start, on_node_yield, on_edge_transition, etc.)\n",
    "    - The node or edge name\n",
    "    - The current or updated state"
   ]
  },
  {
   "cell_type": "markdown",
   "id": "b2e5d732",
   "metadata": {},
   "source": [
    "### Other Possible type Values:\n",
    "- \"on_node_start\" – when a node starts running\n",
    "\n",
    "- \"on_node_yield\" – when a node yields (streaming node)\n",
    "\n",
    "- \"on_node_end\" – when a node finishes\n",
    "\n",
    "- \"on_edge_transition\" – when the graph moves to another node\n",
    "\n",
    "- \"on_graph_end\" – when the entire graph finishes"
   ]
  },
  {
   "cell_type": "markdown",
   "id": "3489fa63",
   "metadata": {},
   "source": [
    "| Method             | What it Streams                 | Best For                        |\n",
    "| ------------------ | ------------------------------- | ------------------------------- |\n",
    "| `astream()`        | Full/updated state (value/diff) | UI updates, state management    |\n",
    "| `astream_events()` | Execution **events + state**    | Debugging, tracing, custom logs |\n"
   ]
  },
  {
   "cell_type": "code",
   "execution_count": 17,
   "id": "af074c70",
   "metadata": {},
   "outputs": [
    {
     "name": "stdout",
     "output_type": "stream",
     "text": [
      "{'event': 'on_chain_start', 'data': {'input': {'messages': ['how are you?']}}, 'name': 'LangGraph', 'tags': [], 'run_id': '53a4032f-e151-410a-b943-4663d91e31a3', 'metadata': {}, 'parent_ids': []}\n",
      "{'event': 'on_chain_start', 'data': {'input': {'messages': ['how are you?']}}, 'name': '__start__', 'tags': ['graph:step:0', 'langsmith:hidden'], 'run_id': 'b85d7200-b187-4998-8a6d-7d915d2d8e55', 'metadata': {'langgraph_step': 0, 'langgraph_node': '__start__', 'langgraph_triggers': ['__start__'], 'langgraph_path': ('__pregel_pull', '__start__'), 'langgraph_checkpoint_ns': '__start__:d1e687b1-8136-9144-add2-24c04fbfa520'}, 'parent_ids': ['53a4032f-e151-410a-b943-4663d91e31a3']}\n",
      "{'event': 'on_chain_start', 'data': {'input': {'messages': ['how are you?']}}, 'name': '_write', 'tags': ['seq:step:1', 'langsmith:hidden', 'langsmith:hidden'], 'run_id': 'f3f86317-5dda-4efa-800b-e02f232c914c', 'metadata': {'langgraph_step': 0, 'langgraph_node': '__start__', 'langgraph_triggers': ['__start__'], 'langgraph_path': ('__pregel_pull', '__start__'), 'langgraph_checkpoint_ns': '__start__:d1e687b1-8136-9144-add2-24c04fbfa520'}, 'parent_ids': ['53a4032f-e151-410a-b943-4663d91e31a3', 'b85d7200-b187-4998-8a6d-7d915d2d8e55']}\n",
      "{'event': 'on_chain_end', 'data': {'output': {'messages': ['how are you?']}, 'input': {'messages': ['how are you?']}}, 'run_id': 'f3f86317-5dda-4efa-800b-e02f232c914c', 'name': '_write', 'tags': ['seq:step:1', 'langsmith:hidden', 'langsmith:hidden'], 'metadata': {'langgraph_step': 0, 'langgraph_node': '__start__', 'langgraph_triggers': ['__start__'], 'langgraph_path': ('__pregel_pull', '__start__'), 'langgraph_checkpoint_ns': '__start__:d1e687b1-8136-9144-add2-24c04fbfa520', 'LANGSMITH_ENDPOINT': 'https://api.smith.langchain.com', 'LANGSMITH_PROJECT': 'pr-another-activist-18', 'LANGSMITH_TRACING': 'true', 'revision_id': 'fb6bdd4'}, 'parent_ids': ['53a4032f-e151-410a-b943-4663d91e31a3', 'b85d7200-b187-4998-8a6d-7d915d2d8e55']}\n",
      "{'event': 'on_chain_start', 'data': {'input': {'messages': ['how are you?']}}, 'name': '_write', 'tags': ['seq:step:3', 'langsmith:hidden', 'langsmith:hidden'], 'run_id': '63954df4-de94-4071-b063-2a9438ecba66', 'metadata': {'langgraph_step': 0, 'langgraph_node': '__start__', 'langgraph_triggers': ['__start__'], 'langgraph_path': ('__pregel_pull', '__start__'), 'langgraph_checkpoint_ns': '__start__:d1e687b1-8136-9144-add2-24c04fbfa520'}, 'parent_ids': ['53a4032f-e151-410a-b943-4663d91e31a3', 'b85d7200-b187-4998-8a6d-7d915d2d8e55']}\n",
      "{'event': 'on_chain_end', 'data': {'output': {'messages': ['how are you?']}, 'input': {'messages': ['how are you?']}}, 'run_id': '63954df4-de94-4071-b063-2a9438ecba66', 'name': '_write', 'tags': ['seq:step:3', 'langsmith:hidden', 'langsmith:hidden'], 'metadata': {'langgraph_step': 0, 'langgraph_node': '__start__', 'langgraph_triggers': ['__start__'], 'langgraph_path': ('__pregel_pull', '__start__'), 'langgraph_checkpoint_ns': '__start__:d1e687b1-8136-9144-add2-24c04fbfa520', 'LANGSMITH_ENDPOINT': 'https://api.smith.langchain.com', 'LANGSMITH_PROJECT': 'pr-another-activist-18', 'LANGSMITH_TRACING': 'true', 'revision_id': 'fb6bdd4'}, 'parent_ids': ['53a4032f-e151-410a-b943-4663d91e31a3', 'b85d7200-b187-4998-8a6d-7d915d2d8e55']}\n",
      "{'event': 'on_chain_stream', 'run_id': 'b85d7200-b187-4998-8a6d-7d915d2d8e55', 'name': '__start__', 'tags': ['graph:step:0', 'langsmith:hidden'], 'metadata': {'langgraph_step': 0, 'langgraph_node': '__start__', 'langgraph_triggers': ['__start__'], 'langgraph_path': ('__pregel_pull', '__start__'), 'langgraph_checkpoint_ns': '__start__:d1e687b1-8136-9144-add2-24c04fbfa520', 'LANGSMITH_ENDPOINT': 'https://api.smith.langchain.com', 'LANGSMITH_PROJECT': 'pr-another-activist-18', 'LANGSMITH_TRACING': 'true', 'revision_id': 'fb6bdd4'}, 'data': {'chunk': {'messages': ['how are you?']}}, 'parent_ids': ['53a4032f-e151-410a-b943-4663d91e31a3']}\n",
      "{'event': 'on_chain_end', 'data': {'output': {'messages': ['how are you?']}, 'input': {'messages': ['how are you?']}}, 'run_id': 'b85d7200-b187-4998-8a6d-7d915d2d8e55', 'name': '__start__', 'tags': ['graph:step:0', 'langsmith:hidden'], 'metadata': {'langgraph_step': 0, 'langgraph_node': '__start__', 'langgraph_triggers': ['__start__'], 'langgraph_path': ('__pregel_pull', '__start__'), 'langgraph_checkpoint_ns': '__start__:d1e687b1-8136-9144-add2-24c04fbfa520', 'LANGSMITH_ENDPOINT': 'https://api.smith.langchain.com', 'LANGSMITH_PROJECT': 'pr-another-activist-18', 'LANGSMITH_TRACING': 'true', 'revision_id': 'fb6bdd4'}, 'parent_ids': ['53a4032f-e151-410a-b943-4663d91e31a3']}\n",
      "{'event': 'on_chain_start', 'data': {'input': {'messages': [HumanMessage(content='how are you?', additional_kwargs={}, response_metadata={}, id='f97300f0-1b4a-4412-89ed-f03acb1a001c')]}}, 'name': 'model', 'tags': ['graph:step:1'], 'run_id': '92101ea5-bdb8-44a9-9589-937ede8437f7', 'metadata': {'langgraph_step': 1, 'langgraph_node': 'model', 'langgraph_triggers': ['start:model'], 'langgraph_path': ('__pregel_pull', 'model'), 'langgraph_checkpoint_ns': 'model:e0d19dbd-b984-18ca-de31-dd73f3b00ca0'}, 'parent_ids': ['53a4032f-e151-410a-b943-4663d91e31a3']}\n",
      "{'event': 'on_chat_model_start', 'data': {'input': {'messages': [[HumanMessage(content='how are you?', additional_kwargs={}, response_metadata={}, id='f97300f0-1b4a-4412-89ed-f03acb1a001c')]]}}, 'name': 'ChatOpenAI', 'tags': ['seq:step:1'], 'run_id': '1dac2562-fed9-4331-a1ec-aa02cd3a473b', 'metadata': {'langgraph_step': 1, 'langgraph_node': 'model', 'langgraph_triggers': ['start:model'], 'langgraph_path': ('__pregel_pull', 'model'), 'langgraph_checkpoint_ns': 'model:e0d19dbd-b984-18ca-de31-dd73f3b00ca0', 'checkpoint_ns': 'model:e0d19dbd-b984-18ca-de31-dd73f3b00ca0', 'ls_provider': 'openai', 'ls_model_name': 'gpt-3.5-turbo', 'ls_model_type': 'chat', 'ls_temperature': None}, 'parent_ids': ['53a4032f-e151-410a-b943-4663d91e31a3', '92101ea5-bdb8-44a9-9589-937ede8437f7']}\n",
      "{'event': 'on_chat_model_stream', 'data': {'chunk': AIMessageChunk(content='', additional_kwargs={}, response_metadata={}, id='run--1dac2562-fed9-4331-a1ec-aa02cd3a473b')}, 'run_id': '1dac2562-fed9-4331-a1ec-aa02cd3a473b', 'name': 'ChatOpenAI', 'tags': ['seq:step:1'], 'metadata': {'langgraph_step': 1, 'langgraph_node': 'model', 'langgraph_triggers': ['start:model'], 'langgraph_path': ('__pregel_pull', 'model'), 'langgraph_checkpoint_ns': 'model:e0d19dbd-b984-18ca-de31-dd73f3b00ca0', 'checkpoint_ns': 'model:e0d19dbd-b984-18ca-de31-dd73f3b00ca0', 'ls_provider': 'openai', 'ls_model_name': 'gpt-3.5-turbo', 'ls_model_type': 'chat', 'ls_temperature': None}, 'parent_ids': ['53a4032f-e151-410a-b943-4663d91e31a3', '92101ea5-bdb8-44a9-9589-937ede8437f7']}\n",
      "{'event': 'on_chat_model_stream', 'data': {'chunk': AIMessageChunk(content='I', additional_kwargs={}, response_metadata={}, id='run--1dac2562-fed9-4331-a1ec-aa02cd3a473b')}, 'run_id': '1dac2562-fed9-4331-a1ec-aa02cd3a473b', 'name': 'ChatOpenAI', 'tags': ['seq:step:1'], 'metadata': {'langgraph_step': 1, 'langgraph_node': 'model', 'langgraph_triggers': ['start:model'], 'langgraph_path': ('__pregel_pull', 'model'), 'langgraph_checkpoint_ns': 'model:e0d19dbd-b984-18ca-de31-dd73f3b00ca0', 'checkpoint_ns': 'model:e0d19dbd-b984-18ca-de31-dd73f3b00ca0', 'ls_provider': 'openai', 'ls_model_name': 'gpt-3.5-turbo', 'ls_model_type': 'chat', 'ls_temperature': None}, 'parent_ids': ['53a4032f-e151-410a-b943-4663d91e31a3', '92101ea5-bdb8-44a9-9589-937ede8437f7']}\n",
      "{'event': 'on_chat_model_stream', 'data': {'chunk': AIMessageChunk(content=\"'m\", additional_kwargs={}, response_metadata={}, id='run--1dac2562-fed9-4331-a1ec-aa02cd3a473b')}, 'run_id': '1dac2562-fed9-4331-a1ec-aa02cd3a473b', 'name': 'ChatOpenAI', 'tags': ['seq:step:1'], 'metadata': {'langgraph_step': 1, 'langgraph_node': 'model', 'langgraph_triggers': ['start:model'], 'langgraph_path': ('__pregel_pull', 'model'), 'langgraph_checkpoint_ns': 'model:e0d19dbd-b984-18ca-de31-dd73f3b00ca0', 'checkpoint_ns': 'model:e0d19dbd-b984-18ca-de31-dd73f3b00ca0', 'ls_provider': 'openai', 'ls_model_name': 'gpt-3.5-turbo', 'ls_model_type': 'chat', 'ls_temperature': None}, 'parent_ids': ['53a4032f-e151-410a-b943-4663d91e31a3', '92101ea5-bdb8-44a9-9589-937ede8437f7']}\n",
      "{'event': 'on_chat_model_stream', 'data': {'chunk': AIMessageChunk(content=' here', additional_kwargs={}, response_metadata={}, id='run--1dac2562-fed9-4331-a1ec-aa02cd3a473b')}, 'run_id': '1dac2562-fed9-4331-a1ec-aa02cd3a473b', 'name': 'ChatOpenAI', 'tags': ['seq:step:1'], 'metadata': {'langgraph_step': 1, 'langgraph_node': 'model', 'langgraph_triggers': ['start:model'], 'langgraph_path': ('__pregel_pull', 'model'), 'langgraph_checkpoint_ns': 'model:e0d19dbd-b984-18ca-de31-dd73f3b00ca0', 'checkpoint_ns': 'model:e0d19dbd-b984-18ca-de31-dd73f3b00ca0', 'ls_provider': 'openai', 'ls_model_name': 'gpt-3.5-turbo', 'ls_model_type': 'chat', 'ls_temperature': None}, 'parent_ids': ['53a4032f-e151-410a-b943-4663d91e31a3', '92101ea5-bdb8-44a9-9589-937ede8437f7']}\n",
      "{'event': 'on_chat_model_stream', 'data': {'chunk': AIMessageChunk(content=' and', additional_kwargs={}, response_metadata={}, id='run--1dac2562-fed9-4331-a1ec-aa02cd3a473b')}, 'run_id': '1dac2562-fed9-4331-a1ec-aa02cd3a473b', 'name': 'ChatOpenAI', 'tags': ['seq:step:1'], 'metadata': {'langgraph_step': 1, 'langgraph_node': 'model', 'langgraph_triggers': ['start:model'], 'langgraph_path': ('__pregel_pull', 'model'), 'langgraph_checkpoint_ns': 'model:e0d19dbd-b984-18ca-de31-dd73f3b00ca0', 'checkpoint_ns': 'model:e0d19dbd-b984-18ca-de31-dd73f3b00ca0', 'ls_provider': 'openai', 'ls_model_name': 'gpt-3.5-turbo', 'ls_model_type': 'chat', 'ls_temperature': None}, 'parent_ids': ['53a4032f-e151-410a-b943-4663d91e31a3', '92101ea5-bdb8-44a9-9589-937ede8437f7']}\n",
      "{'event': 'on_chat_model_stream', 'data': {'chunk': AIMessageChunk(content=' ready', additional_kwargs={}, response_metadata={}, id='run--1dac2562-fed9-4331-a1ec-aa02cd3a473b')}, 'run_id': '1dac2562-fed9-4331-a1ec-aa02cd3a473b', 'name': 'ChatOpenAI', 'tags': ['seq:step:1'], 'metadata': {'langgraph_step': 1, 'langgraph_node': 'model', 'langgraph_triggers': ['start:model'], 'langgraph_path': ('__pregel_pull', 'model'), 'langgraph_checkpoint_ns': 'model:e0d19dbd-b984-18ca-de31-dd73f3b00ca0', 'checkpoint_ns': 'model:e0d19dbd-b984-18ca-de31-dd73f3b00ca0', 'ls_provider': 'openai', 'ls_model_name': 'gpt-3.5-turbo', 'ls_model_type': 'chat', 'ls_temperature': None}, 'parent_ids': ['53a4032f-e151-410a-b943-4663d91e31a3', '92101ea5-bdb8-44a9-9589-937ede8437f7']}\n",
      "{'event': 'on_chat_model_stream', 'data': {'chunk': AIMessageChunk(content=' to', additional_kwargs={}, response_metadata={}, id='run--1dac2562-fed9-4331-a1ec-aa02cd3a473b')}, 'run_id': '1dac2562-fed9-4331-a1ec-aa02cd3a473b', 'name': 'ChatOpenAI', 'tags': ['seq:step:1'], 'metadata': {'langgraph_step': 1, 'langgraph_node': 'model', 'langgraph_triggers': ['start:model'], 'langgraph_path': ('__pregel_pull', 'model'), 'langgraph_checkpoint_ns': 'model:e0d19dbd-b984-18ca-de31-dd73f3b00ca0', 'checkpoint_ns': 'model:e0d19dbd-b984-18ca-de31-dd73f3b00ca0', 'ls_provider': 'openai', 'ls_model_name': 'gpt-3.5-turbo', 'ls_model_type': 'chat', 'ls_temperature': None}, 'parent_ids': ['53a4032f-e151-410a-b943-4663d91e31a3', '92101ea5-bdb8-44a9-9589-937ede8437f7']}\n",
      "{'event': 'on_chat_model_stream', 'data': {'chunk': AIMessageChunk(content=' assist', additional_kwargs={}, response_metadata={}, id='run--1dac2562-fed9-4331-a1ec-aa02cd3a473b')}, 'run_id': '1dac2562-fed9-4331-a1ec-aa02cd3a473b', 'name': 'ChatOpenAI', 'tags': ['seq:step:1'], 'metadata': {'langgraph_step': 1, 'langgraph_node': 'model', 'langgraph_triggers': ['start:model'], 'langgraph_path': ('__pregel_pull', 'model'), 'langgraph_checkpoint_ns': 'model:e0d19dbd-b984-18ca-de31-dd73f3b00ca0', 'checkpoint_ns': 'model:e0d19dbd-b984-18ca-de31-dd73f3b00ca0', 'ls_provider': 'openai', 'ls_model_name': 'gpt-3.5-turbo', 'ls_model_type': 'chat', 'ls_temperature': None}, 'parent_ids': ['53a4032f-e151-410a-b943-4663d91e31a3', '92101ea5-bdb8-44a9-9589-937ede8437f7']}\n",
      "{'event': 'on_chat_model_stream', 'data': {'chunk': AIMessageChunk(content=' you', additional_kwargs={}, response_metadata={}, id='run--1dac2562-fed9-4331-a1ec-aa02cd3a473b')}, 'run_id': '1dac2562-fed9-4331-a1ec-aa02cd3a473b', 'name': 'ChatOpenAI', 'tags': ['seq:step:1'], 'metadata': {'langgraph_step': 1, 'langgraph_node': 'model', 'langgraph_triggers': ['start:model'], 'langgraph_path': ('__pregel_pull', 'model'), 'langgraph_checkpoint_ns': 'model:e0d19dbd-b984-18ca-de31-dd73f3b00ca0', 'checkpoint_ns': 'model:e0d19dbd-b984-18ca-de31-dd73f3b00ca0', 'ls_provider': 'openai', 'ls_model_name': 'gpt-3.5-turbo', 'ls_model_type': 'chat', 'ls_temperature': None}, 'parent_ids': ['53a4032f-e151-410a-b943-4663d91e31a3', '92101ea5-bdb8-44a9-9589-937ede8437f7']}\n",
      "{'event': 'on_chat_model_stream', 'data': {'chunk': AIMessageChunk(content='!', additional_kwargs={}, response_metadata={}, id='run--1dac2562-fed9-4331-a1ec-aa02cd3a473b')}, 'run_id': '1dac2562-fed9-4331-a1ec-aa02cd3a473b', 'name': 'ChatOpenAI', 'tags': ['seq:step:1'], 'metadata': {'langgraph_step': 1, 'langgraph_node': 'model', 'langgraph_triggers': ['start:model'], 'langgraph_path': ('__pregel_pull', 'model'), 'langgraph_checkpoint_ns': 'model:e0d19dbd-b984-18ca-de31-dd73f3b00ca0', 'checkpoint_ns': 'model:e0d19dbd-b984-18ca-de31-dd73f3b00ca0', 'ls_provider': 'openai', 'ls_model_name': 'gpt-3.5-turbo', 'ls_model_type': 'chat', 'ls_temperature': None}, 'parent_ids': ['53a4032f-e151-410a-b943-4663d91e31a3', '92101ea5-bdb8-44a9-9589-937ede8437f7']}\n",
      "{'event': 'on_chat_model_stream', 'data': {'chunk': AIMessageChunk(content=' How', additional_kwargs={}, response_metadata={}, id='run--1dac2562-fed9-4331-a1ec-aa02cd3a473b')}, 'run_id': '1dac2562-fed9-4331-a1ec-aa02cd3a473b', 'name': 'ChatOpenAI', 'tags': ['seq:step:1'], 'metadata': {'langgraph_step': 1, 'langgraph_node': 'model', 'langgraph_triggers': ['start:model'], 'langgraph_path': ('__pregel_pull', 'model'), 'langgraph_checkpoint_ns': 'model:e0d19dbd-b984-18ca-de31-dd73f3b00ca0', 'checkpoint_ns': 'model:e0d19dbd-b984-18ca-de31-dd73f3b00ca0', 'ls_provider': 'openai', 'ls_model_name': 'gpt-3.5-turbo', 'ls_model_type': 'chat', 'ls_temperature': None}, 'parent_ids': ['53a4032f-e151-410a-b943-4663d91e31a3', '92101ea5-bdb8-44a9-9589-937ede8437f7']}\n",
      "{'event': 'on_chat_model_stream', 'data': {'chunk': AIMessageChunk(content=' can', additional_kwargs={}, response_metadata={}, id='run--1dac2562-fed9-4331-a1ec-aa02cd3a473b')}, 'run_id': '1dac2562-fed9-4331-a1ec-aa02cd3a473b', 'name': 'ChatOpenAI', 'tags': ['seq:step:1'], 'metadata': {'langgraph_step': 1, 'langgraph_node': 'model', 'langgraph_triggers': ['start:model'], 'langgraph_path': ('__pregel_pull', 'model'), 'langgraph_checkpoint_ns': 'model:e0d19dbd-b984-18ca-de31-dd73f3b00ca0', 'checkpoint_ns': 'model:e0d19dbd-b984-18ca-de31-dd73f3b00ca0', 'ls_provider': 'openai', 'ls_model_name': 'gpt-3.5-turbo', 'ls_model_type': 'chat', 'ls_temperature': None}, 'parent_ids': ['53a4032f-e151-410a-b943-4663d91e31a3', '92101ea5-bdb8-44a9-9589-937ede8437f7']}\n",
      "{'event': 'on_chat_model_stream', 'data': {'chunk': AIMessageChunk(content=' I', additional_kwargs={}, response_metadata={}, id='run--1dac2562-fed9-4331-a1ec-aa02cd3a473b')}, 'run_id': '1dac2562-fed9-4331-a1ec-aa02cd3a473b', 'name': 'ChatOpenAI', 'tags': ['seq:step:1'], 'metadata': {'langgraph_step': 1, 'langgraph_node': 'model', 'langgraph_triggers': ['start:model'], 'langgraph_path': ('__pregel_pull', 'model'), 'langgraph_checkpoint_ns': 'model:e0d19dbd-b984-18ca-de31-dd73f3b00ca0', 'checkpoint_ns': 'model:e0d19dbd-b984-18ca-de31-dd73f3b00ca0', 'ls_provider': 'openai', 'ls_model_name': 'gpt-3.5-turbo', 'ls_model_type': 'chat', 'ls_temperature': None}, 'parent_ids': ['53a4032f-e151-410a-b943-4663d91e31a3', '92101ea5-bdb8-44a9-9589-937ede8437f7']}\n",
      "{'event': 'on_chat_model_stream', 'data': {'chunk': AIMessageChunk(content=' help', additional_kwargs={}, response_metadata={}, id='run--1dac2562-fed9-4331-a1ec-aa02cd3a473b')}, 'run_id': '1dac2562-fed9-4331-a1ec-aa02cd3a473b', 'name': 'ChatOpenAI', 'tags': ['seq:step:1'], 'metadata': {'langgraph_step': 1, 'langgraph_node': 'model', 'langgraph_triggers': ['start:model'], 'langgraph_path': ('__pregel_pull', 'model'), 'langgraph_checkpoint_ns': 'model:e0d19dbd-b984-18ca-de31-dd73f3b00ca0', 'checkpoint_ns': 'model:e0d19dbd-b984-18ca-de31-dd73f3b00ca0', 'ls_provider': 'openai', 'ls_model_name': 'gpt-3.5-turbo', 'ls_model_type': 'chat', 'ls_temperature': None}, 'parent_ids': ['53a4032f-e151-410a-b943-4663d91e31a3', '92101ea5-bdb8-44a9-9589-937ede8437f7']}\n",
      "{'event': 'on_chat_model_stream', 'data': {'chunk': AIMessageChunk(content=' you', additional_kwargs={}, response_metadata={}, id='run--1dac2562-fed9-4331-a1ec-aa02cd3a473b')}, 'run_id': '1dac2562-fed9-4331-a1ec-aa02cd3a473b', 'name': 'ChatOpenAI', 'tags': ['seq:step:1'], 'metadata': {'langgraph_step': 1, 'langgraph_node': 'model', 'langgraph_triggers': ['start:model'], 'langgraph_path': ('__pregel_pull', 'model'), 'langgraph_checkpoint_ns': 'model:e0d19dbd-b984-18ca-de31-dd73f3b00ca0', 'checkpoint_ns': 'model:e0d19dbd-b984-18ca-de31-dd73f3b00ca0', 'ls_provider': 'openai', 'ls_model_name': 'gpt-3.5-turbo', 'ls_model_type': 'chat', 'ls_temperature': None}, 'parent_ids': ['53a4032f-e151-410a-b943-4663d91e31a3', '92101ea5-bdb8-44a9-9589-937ede8437f7']}\n",
      "{'event': 'on_chat_model_stream', 'data': {'chunk': AIMessageChunk(content=' today', additional_kwargs={}, response_metadata={}, id='run--1dac2562-fed9-4331-a1ec-aa02cd3a473b')}, 'run_id': '1dac2562-fed9-4331-a1ec-aa02cd3a473b', 'name': 'ChatOpenAI', 'tags': ['seq:step:1'], 'metadata': {'langgraph_step': 1, 'langgraph_node': 'model', 'langgraph_triggers': ['start:model'], 'langgraph_path': ('__pregel_pull', 'model'), 'langgraph_checkpoint_ns': 'model:e0d19dbd-b984-18ca-de31-dd73f3b00ca0', 'checkpoint_ns': 'model:e0d19dbd-b984-18ca-de31-dd73f3b00ca0', 'ls_provider': 'openai', 'ls_model_name': 'gpt-3.5-turbo', 'ls_model_type': 'chat', 'ls_temperature': None}, 'parent_ids': ['53a4032f-e151-410a-b943-4663d91e31a3', '92101ea5-bdb8-44a9-9589-937ede8437f7']}\n",
      "{'event': 'on_chat_model_stream', 'data': {'chunk': AIMessageChunk(content='?', additional_kwargs={}, response_metadata={}, id='run--1dac2562-fed9-4331-a1ec-aa02cd3a473b')}, 'run_id': '1dac2562-fed9-4331-a1ec-aa02cd3a473b', 'name': 'ChatOpenAI', 'tags': ['seq:step:1'], 'metadata': {'langgraph_step': 1, 'langgraph_node': 'model', 'langgraph_triggers': ['start:model'], 'langgraph_path': ('__pregel_pull', 'model'), 'langgraph_checkpoint_ns': 'model:e0d19dbd-b984-18ca-de31-dd73f3b00ca0', 'checkpoint_ns': 'model:e0d19dbd-b984-18ca-de31-dd73f3b00ca0', 'ls_provider': 'openai', 'ls_model_name': 'gpt-3.5-turbo', 'ls_model_type': 'chat', 'ls_temperature': None}, 'parent_ids': ['53a4032f-e151-410a-b943-4663d91e31a3', '92101ea5-bdb8-44a9-9589-937ede8437f7']}\n",
      "{'event': 'on_chat_model_stream', 'data': {'chunk': AIMessageChunk(content='', additional_kwargs={}, response_metadata={'finish_reason': 'stop', 'model_name': 'gpt-3.5-turbo-0125'}, id='run--1dac2562-fed9-4331-a1ec-aa02cd3a473b')}, 'run_id': '1dac2562-fed9-4331-a1ec-aa02cd3a473b', 'name': 'ChatOpenAI', 'tags': ['seq:step:1'], 'metadata': {'langgraph_step': 1, 'langgraph_node': 'model', 'langgraph_triggers': ['start:model'], 'langgraph_path': ('__pregel_pull', 'model'), 'langgraph_checkpoint_ns': 'model:e0d19dbd-b984-18ca-de31-dd73f3b00ca0', 'checkpoint_ns': 'model:e0d19dbd-b984-18ca-de31-dd73f3b00ca0', 'ls_provider': 'openai', 'ls_model_name': 'gpt-3.5-turbo', 'ls_model_type': 'chat', 'ls_temperature': None}, 'parent_ids': ['53a4032f-e151-410a-b943-4663d91e31a3', '92101ea5-bdb8-44a9-9589-937ede8437f7']}\n",
      "{'event': 'on_chat_model_end', 'data': {'output': AIMessage(content=\"I'm here and ready to assist you! How can I help you today?\", additional_kwargs={}, response_metadata={'finish_reason': 'stop', 'model_name': 'gpt-3.5-turbo-0125'}, id='run--1dac2562-fed9-4331-a1ec-aa02cd3a473b'), 'input': {'messages': [[HumanMessage(content='how are you?', additional_kwargs={}, response_metadata={}, id='f97300f0-1b4a-4412-89ed-f03acb1a001c')]]}}, 'run_id': '1dac2562-fed9-4331-a1ec-aa02cd3a473b', 'name': 'ChatOpenAI', 'tags': ['seq:step:1'], 'metadata': {'langgraph_step': 1, 'langgraph_node': 'model', 'langgraph_triggers': ['start:model'], 'langgraph_path': ('__pregel_pull', 'model'), 'langgraph_checkpoint_ns': 'model:e0d19dbd-b984-18ca-de31-dd73f3b00ca0', 'checkpoint_ns': 'model:e0d19dbd-b984-18ca-de31-dd73f3b00ca0', 'ls_provider': 'openai', 'ls_model_name': 'gpt-3.5-turbo', 'ls_model_type': 'chat', 'ls_temperature': None, 'LANGSMITH_ENDPOINT': 'https://api.smith.langchain.com', 'LANGSMITH_PROJECT': 'pr-another-activist-18', 'LANGSMITH_TRACING': 'true', 'revision_id': 'fb6bdd4'}, 'parent_ids': ['53a4032f-e151-410a-b943-4663d91e31a3', '92101ea5-bdb8-44a9-9589-937ede8437f7']}\n",
      "{'event': 'on_chain_start', 'data': {'input': {'messages': [AIMessage(content=\"I'm here and ready to assist you! How can I help you today?\", additional_kwargs={}, response_metadata={'finish_reason': 'stop', 'model_name': 'gpt-3.5-turbo-0125'}, id='run--1dac2562-fed9-4331-a1ec-aa02cd3a473b')]}}, 'name': '_write', 'tags': ['seq:step:2', 'langsmith:hidden'], 'run_id': '1afbca02-d080-490f-bcc7-00afd10099b1', 'metadata': {'langgraph_step': 1, 'langgraph_node': 'model', 'langgraph_triggers': ['start:model'], 'langgraph_path': ('__pregel_pull', 'model'), 'langgraph_checkpoint_ns': 'model:e0d19dbd-b984-18ca-de31-dd73f3b00ca0'}, 'parent_ids': ['53a4032f-e151-410a-b943-4663d91e31a3', '92101ea5-bdb8-44a9-9589-937ede8437f7']}\n",
      "{'event': 'on_chain_end', 'data': {'output': {'messages': [AIMessage(content=\"I'm here and ready to assist you! How can I help you today?\", additional_kwargs={}, response_metadata={'finish_reason': 'stop', 'model_name': 'gpt-3.5-turbo-0125'}, id='run--1dac2562-fed9-4331-a1ec-aa02cd3a473b')]}, 'input': {'messages': [AIMessage(content=\"I'm here and ready to assist you! How can I help you today?\", additional_kwargs={}, response_metadata={'finish_reason': 'stop', 'model_name': 'gpt-3.5-turbo-0125'}, id='run--1dac2562-fed9-4331-a1ec-aa02cd3a473b')]}}, 'run_id': '1afbca02-d080-490f-bcc7-00afd10099b1', 'name': '_write', 'tags': ['seq:step:2', 'langsmith:hidden'], 'metadata': {'langgraph_step': 1, 'langgraph_node': 'model', 'langgraph_triggers': ['start:model'], 'langgraph_path': ('__pregel_pull', 'model'), 'langgraph_checkpoint_ns': 'model:e0d19dbd-b984-18ca-de31-dd73f3b00ca0', 'LANGSMITH_ENDPOINT': 'https://api.smith.langchain.com', 'LANGSMITH_PROJECT': 'pr-another-activist-18', 'LANGSMITH_TRACING': 'true', 'revision_id': 'fb6bdd4'}, 'parent_ids': ['53a4032f-e151-410a-b943-4663d91e31a3', '92101ea5-bdb8-44a9-9589-937ede8437f7']}\n",
      "{'event': 'on_chain_start', 'data': {'input': {'messages': [HumanMessage(content='how are you?', additional_kwargs={}, response_metadata={}, id='f97300f0-1b4a-4412-89ed-f03acb1a001c'), AIMessage(content=\"I'm here and ready to assist you! How can I help you today?\", additional_kwargs={}, response_metadata={'finish_reason': 'stop', 'model_name': 'gpt-3.5-turbo-0125'}, id='run--1dac2562-fed9-4331-a1ec-aa02cd3a473b')]}}, 'name': 'tools_router', 'tags': ['seq:step:4'], 'run_id': '69a4b05d-f9be-4676-8bab-b34ba8c80d43', 'metadata': {'langgraph_step': 1, 'langgraph_node': 'model', 'langgraph_triggers': ['start:model'], 'langgraph_path': ('__pregel_pull', 'model'), 'langgraph_checkpoint_ns': 'model:e0d19dbd-b984-18ca-de31-dd73f3b00ca0'}, 'parent_ids': ['53a4032f-e151-410a-b943-4663d91e31a3', '92101ea5-bdb8-44a9-9589-937ede8437f7']}\n",
      "{'event': 'on_chain_end', 'data': {'output': '__end__', 'input': {'messages': [HumanMessage(content='how are you?', additional_kwargs={}, response_metadata={}, id='f97300f0-1b4a-4412-89ed-f03acb1a001c'), AIMessage(content=\"I'm here and ready to assist you! How can I help you today?\", additional_kwargs={}, response_metadata={'finish_reason': 'stop', 'model_name': 'gpt-3.5-turbo-0125'}, id='run--1dac2562-fed9-4331-a1ec-aa02cd3a473b')]}}, 'run_id': '69a4b05d-f9be-4676-8bab-b34ba8c80d43', 'name': 'tools_router', 'tags': ['seq:step:4'], 'metadata': {'langgraph_step': 1, 'langgraph_node': 'model', 'langgraph_triggers': ['start:model'], 'langgraph_path': ('__pregel_pull', 'model'), 'langgraph_checkpoint_ns': 'model:e0d19dbd-b984-18ca-de31-dd73f3b00ca0', 'LANGSMITH_ENDPOINT': 'https://api.smith.langchain.com', 'LANGSMITH_PROJECT': 'pr-another-activist-18', 'LANGSMITH_TRACING': 'true', 'revision_id': 'fb6bdd4'}, 'parent_ids': ['53a4032f-e151-410a-b943-4663d91e31a3', '92101ea5-bdb8-44a9-9589-937ede8437f7']}\n",
      "{'event': 'on_chain_stream', 'run_id': '92101ea5-bdb8-44a9-9589-937ede8437f7', 'name': 'model', 'tags': ['graph:step:1'], 'metadata': {'langgraph_step': 1, 'langgraph_node': 'model', 'langgraph_triggers': ['start:model'], 'langgraph_path': ('__pregel_pull', 'model'), 'langgraph_checkpoint_ns': 'model:e0d19dbd-b984-18ca-de31-dd73f3b00ca0', 'LANGSMITH_ENDPOINT': 'https://api.smith.langchain.com', 'LANGSMITH_PROJECT': 'pr-another-activist-18', 'LANGSMITH_TRACING': 'true', 'revision_id': 'fb6bdd4'}, 'data': {'chunk': {'messages': [AIMessage(content=\"I'm here and ready to assist you! How can I help you today?\", additional_kwargs={}, response_metadata={'finish_reason': 'stop', 'model_name': 'gpt-3.5-turbo-0125'}, id='run--1dac2562-fed9-4331-a1ec-aa02cd3a473b')]}}, 'parent_ids': ['53a4032f-e151-410a-b943-4663d91e31a3']}\n",
      "{'event': 'on_chain_end', 'data': {'output': {'messages': [AIMessage(content=\"I'm here and ready to assist you! How can I help you today?\", additional_kwargs={}, response_metadata={'finish_reason': 'stop', 'model_name': 'gpt-3.5-turbo-0125'}, id='run--1dac2562-fed9-4331-a1ec-aa02cd3a473b')]}, 'input': {'messages': [HumanMessage(content='how are you?', additional_kwargs={}, response_metadata={}, id='f97300f0-1b4a-4412-89ed-f03acb1a001c')]}}, 'run_id': '92101ea5-bdb8-44a9-9589-937ede8437f7', 'name': 'model', 'tags': ['graph:step:1'], 'metadata': {'langgraph_step': 1, 'langgraph_node': 'model', 'langgraph_triggers': ['start:model'], 'langgraph_path': ('__pregel_pull', 'model'), 'langgraph_checkpoint_ns': 'model:e0d19dbd-b984-18ca-de31-dd73f3b00ca0', 'LANGSMITH_ENDPOINT': 'https://api.smith.langchain.com', 'LANGSMITH_PROJECT': 'pr-another-activist-18', 'LANGSMITH_TRACING': 'true', 'revision_id': 'fb6bdd4'}, 'parent_ids': ['53a4032f-e151-410a-b943-4663d91e31a3']}\n",
      "{'event': 'on_chain_stream', 'run_id': '53a4032f-e151-410a-b943-4663d91e31a3', 'name': 'LangGraph', 'tags': [], 'metadata': {}, 'data': {'chunk': {'model': {'messages': [AIMessage(content=\"I'm here and ready to assist you! How can I help you today?\", additional_kwargs={}, response_metadata={'finish_reason': 'stop', 'model_name': 'gpt-3.5-turbo-0125'}, id='run--1dac2562-fed9-4331-a1ec-aa02cd3a473b')]}}}, 'parent_ids': []}\n",
      "{'event': 'on_chain_end', 'data': {'output': {'messages': [HumanMessage(content='how are you?', additional_kwargs={}, response_metadata={}, id='f97300f0-1b4a-4412-89ed-f03acb1a001c'), AIMessage(content=\"I'm here and ready to assist you! How can I help you today?\", additional_kwargs={}, response_metadata={'finish_reason': 'stop', 'model_name': 'gpt-3.5-turbo-0125'}, id='run--1dac2562-fed9-4331-a1ec-aa02cd3a473b')]}}, 'run_id': '53a4032f-e151-410a-b943-4663d91e31a3', 'name': 'LangGraph', 'tags': [], 'metadata': {}, 'parent_ids': []}\n"
     ]
    }
   ],
   "source": [
    "input = {'messages' :['how are you?']}\n",
    "events = app.astream_events(input=input, version='v2')\n",
    "\n",
    "async for event in events:\n",
    "    print (event)"
   ]
  },
  {
   "cell_type": "code",
   "execution_count": null,
   "id": "1d8dd53f",
   "metadata": {},
   "outputs": [],
   "source": []
  }
 ],
 "metadata": {
  "kernelspec": {
   "display_name": "base",
   "language": "python",
   "name": "python3"
  },
  "language_info": {
   "codemirror_mode": {
    "name": "ipython",
    "version": 3
   },
   "file_extension": ".py",
   "mimetype": "text/x-python",
   "name": "python",
   "nbconvert_exporter": "python",
   "pygments_lexer": "ipython3",
   "version": "3.12.7"
  }
 },
 "nbformat": 4,
 "nbformat_minor": 5
}
