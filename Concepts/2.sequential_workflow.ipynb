{
 "cells": [
  {
   "cell_type": "markdown",
   "id": "8dc1e417",
   "metadata": {},
   "source": [
    "# 🧮 BMI Calculator – Linear Sequential Workflow\n",
    "\n",
    "## 📌 Problem Statement\n",
    "\n",
    "Design a basic LangGraph-inspired workflow for a BMI calculator using a linear, sequential approach. The system should simulate node-based processing through clear steps:\n",
    "\n",
    "1. **Input Node**  \n",
    "   Accept user inputs: `height` in centimeters and `weight` in kilograms.\n",
    "\n",
    "2. **Notes Node**  \n",
    "   Store the input values into a structured format (e.g., a dictionary) to simulate a note-taking node.\n",
    "\n",
    "3. **Calculation Node**  \n",
    "   Compute the Body Mass Index (BMI) using the formula:  \n",
    "   \\[\n",
    "   BMI = \\frac{weight\\_kg}{(height\\_m)^2}\n",
    "   \\]  \n",
    "   where height is converted from centimeters to meters.\n",
    "\n",
    "4. **Output Node**  \n",
    "   Display the calculated BMI along with an interpretation category:\n",
    "   - Underweight\n",
    "   - Normal weight\n",
    "   - Overweight\n",
    "   - Obese\n",
    "\n",
    "This workflow should be implemented in a modular Jupyter Notebook format, using clear code cells to reflect each node's logic."
   ]
  },
  {
   "cell_type": "code",
   "execution_count": 1,
   "id": "4e4ac464",
   "metadata": {},
   "outputs": [],
   "source": [
    "from langgraph.graph import StateGraph , END\n",
    "from typing import TypedDict\n",
    "from dotenv import load_dotenv\n",
    "load_dotenv()\n",
    "\n",
    "from langchain_openai import ChatOpenAI\n",
    "from langchain.schema import HumanMessage, SystemMessage"
   ]
  },
  {
   "cell_type": "code",
   "execution_count": 5,
   "id": "ead05d6a",
   "metadata": {},
   "outputs": [],
   "source": [
    "llm = ChatOpenAI()\n",
    "\n",
    "class State(TypedDict):\n",
    "    weight: float\n",
    "    height:  float\n",
    "    BMI : float\n",
    "    set_lable : str\n",
    "    advice : str\n",
    "\n",
    "def calculate_bmi(state : State) -> State:\n",
    "    bmi_score = round(state[\"weight\"]/(state[\"height\"]**2),2)\n",
    "    state[\"BMI\"] = bmi_score\n",
    "    return state\n",
    "\n",
    "def set_lable(state: State) -> State:\n",
    "    if state[\"BMI\"] > 25:\n",
    "        state[\"set_lable\"] = \"Overweight\"\n",
    "    elif state[\"BMI\"] > 20:\n",
    "        state[\"set_lable\"] = \"Normal\"\n",
    "    else:\n",
    "        state[\"set_lable\"] = \"Underweight\"\n",
    "    return state\n",
    "\n",
    "def advice(state: State) -> State:\n",
    "    if state[\"BMI\"] > 25:\n",
    "        prompt = \"The user's BMI is high. Suggest 3 actionable tips to reduce it.\"\n",
    "    elif state[\"BMI\"] < 20:\n",
    "        prompt = \"The user's BMI is low. Suggest 3 actionable tips to increase it.\"\n",
    "    else:\n",
    "        prompt = \"The user's BMI is normal. Suggest 3 tips to maintain it.\"\n",
    "\n",
    "    response = llm.invoke([HumanMessage(content= prompt)])\n",
    "    state['advice'] = response.content\n",
    "    return state\n",
    "\n",
    "\n",
    "\n",
    "graph = StateGraph(State)\n",
    "\n",
    "graph.add_node(\"calculate_bmi\", calculate_bmi)\n",
    "graph.add_node(\"labels\", set_lable)\n",
    "graph.add_node(\"give_advice\", advice)\n",
    "graph.add_edge(\"calculate_bmi\",\"labels\" )\n",
    "graph.add_edge(\"labels\", \"give_advice\")\n",
    "graph.set_entry_point(\"calculate_bmi\")\n",
    "\n",
    "app = graph.compile()\n"
   ]
  },
  {
   "cell_type": "code",
   "execution_count": 8,
   "id": "85cbec2d",
   "metadata": {},
   "outputs": [],
   "source": [
    "input_state = {\"weight\": 88, \"height\": 1.66}"
   ]
  },
  {
   "cell_type": "code",
   "execution_count": 10,
   "id": "7ab720d1",
   "metadata": {},
   "outputs": [
    {
     "name": "stdout",
     "output_type": "stream",
     "text": [
      "1. Increase physical activity: Engage in regular exercise such as walking, jogging, cycling, swimming, or any other form of physical activity that you enjoy. Aim for at least 30 minutes of moderate-intensity exercise most days of the week to help burn calories and improve overall health.\n",
      "\n",
      "2. Make healthier food choices: Focus on eating a balanced diet that includes plenty of fruits, vegetables, whole grains, lean proteins, and healthy fats. Avoid highly processed foods, sugary beverages, and excessive amounts of unhealthy fats and sugars. Keep track of your caloric intake and aim to create a calorie deficit to help you lose weight.\n",
      "\n",
      "3. Seek support: Consider seeking the help of a registered dietitian or a personal trainer to help you create a personalized plan for achieving a healthier BMI. Joining a support group or finding a buddy to exercise with can also provide motivation and accountability as you work towards your health goals. Remember that it's important to make sustainable lifestyle changes rather than resorting to crash diets or extreme measures.\n"
     ]
    }
   ],
   "source": [
    "result = app.invoke(input_state)\n",
    "print (result[\"advice\"])"
   ]
  },
  {
   "cell_type": "code",
   "execution_count": null,
   "id": "5031ccb5",
   "metadata": {},
   "outputs": [],
   "source": []
  },
  {
   "cell_type": "code",
   "execution_count": null,
   "id": "03ed3894",
   "metadata": {},
   "outputs": [],
   "source": []
  }
 ],
 "metadata": {
  "kernelspec": {
   "display_name": "base",
   "language": "python",
   "name": "python3"
  },
  "language_info": {
   "codemirror_mode": {
    "name": "ipython",
    "version": 3
   },
   "file_extension": ".py",
   "mimetype": "text/x-python",
   "name": "python",
   "nbconvert_exporter": "python",
   "pygments_lexer": "ipython3",
   "version": "3.12.7"
  }
 },
 "nbformat": 4,
 "nbformat_minor": 5
}
