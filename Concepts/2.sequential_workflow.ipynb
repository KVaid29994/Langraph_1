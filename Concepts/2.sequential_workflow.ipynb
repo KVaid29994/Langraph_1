{
 "cells": [
  {
   "cell_type": "markdown",
   "id": "8dc1e417",
   "metadata": {},
   "source": [
    "# 🧮 BMI Calculator – Linear Sequential Workflow\n",
    "\n",
    "## 📌 Problem Statement\n",
    "\n",
    "Design a basic LangGraph-inspired workflow for a BMI calculator using a linear, sequential approach. The system should simulate node-based processing through clear steps:\n",
    "\n",
    "1. **Input Node**  \n",
    "   Accept user inputs: `height` in centimeters and `weight` in kilograms.\n",
    "\n",
    "2. **Notes Node**  \n",
    "   Store the input values into a structured format (e.g., a dictionary) to simulate a note-taking node.\n",
    "\n",
    "3. **Calculation Node**  \n",
    "   Compute the Body Mass Index (BMI) using the formula:  \n",
    "   \\[\n",
    "   BMI = \\frac{weight\\_kg}{(height\\_m)^2}\n",
    "   \\]  \n",
    "   where height is converted from centimeters to meters.\n",
    "\n",
    "4. **Output Node**  \n",
    "   Display the calculated BMI along with an interpretation category:\n",
    "   - Underweight\n",
    "   - Normal weight\n",
    "   - Overweight\n",
    "   - Obese\n",
    "\n",
    "This workflow should be implemented in a modular Jupyter Notebook format, using clear code cells to reflect each node's logic."
   ]
  },
  {
   "cell_type": "code",
   "execution_count": 1,
   "id": "4e4ac464",
   "metadata": {},
   "outputs": [],
   "source": [
    "from langgraph.graph import StateGraph , END\n",
    "from typing import TypedDict\n",
    "from dotenv import load_dotenv\n",
    "load_dotenv()\n",
    "\n",
    "from langchain_openai import ChatOpenAI\n",
    "from langchain.schema import HumanMessage, SystemMessage"
   ]
  },
  {
   "cell_type": "code",
   "execution_count": 5,
   "id": "ead05d6a",
   "metadata": {},
   "outputs": [],
   "source": [
    "llm = ChatOpenAI()\n",
    "\n",
    "class State(TypedDict):\n",
    "    weight: float\n",
    "    height:  float\n",
    "    BMI : float\n",
    "    set_lable : str\n",
    "    advice : str\n",
    "\n",
    "def calculate_bmi(state : State) -> State:\n",
    "    bmi_score = round(state[\"weight\"]/(state[\"height\"]**2),2)\n",
    "    state[\"BMI\"] = bmi_score\n",
    "    return state\n",
    "\n",
    "def set_lable(state: State) -> State:\n",
    "    if state[\"BMI\"] > 25:\n",
    "        state[\"set_lable\"] = \"Overweight\"\n",
    "    elif state[\"BMI\"] > 20:\n",
    "        state[\"set_lable\"] = \"Normal\"\n",
    "    else:\n",
    "        state[\"set_lable\"] = \"Underweight\"\n",
    "    return state\n",
    "\n",
    "def advice(state: State) -> State:\n",
    "    if state[\"BMI\"] > 25:\n",
    "        prompt = \"The user's BMI is high. Suggest 3 actionable tips to reduce it.\"\n",
    "    elif state[\"BMI\"] < 20:\n",
    "        prompt = \"The user's BMI is low. Suggest 3 actionable tips to increase it.\"\n",
    "    else:\n",
    "        prompt = \"The user's BMI is normal. Suggest 3 tips to maintain it.\"\n",
    "\n",
    "    response = llm.invoke([HumanMessage(content= prompt)])\n",
    "    state['advice'] = response.content\n",
    "    return state\n",
    "\n",
    "\n",
    "\n",
    "graph = StateGraph(State)\n",
    "\n",
    "graph.add_node(\"calculate_bmi\", calculate_bmi)\n",
    "graph.add_node(\"labels\", set_lable)\n",
    "graph.add_node(\"give_advice\", advice)\n",
    "graph.add_edge(\"calculate_bmi\",\"labels\" )\n",
    "graph.add_edge(\"labels\", \"give_advice\")\n",
    "graph.set_entry_point(\"calculate_bmi\")\n",
    "\n",
    "app = graph.compile()\n"
   ]
  },
  {
   "cell_type": "code",
   "execution_count": 8,
   "id": "85cbec2d",
   "metadata": {},
   "outputs": [],
   "source": [
    "input_state = {\"weight\": 88, \"height\": 1.66}"
   ]
  },
  {
   "cell_type": "code",
   "execution_count": 10,
   "id": "7ab720d1",
   "metadata": {},
   "outputs": [
    {
     "name": "stdout",
     "output_type": "stream",
     "text": [
      "1. Increase physical activity: Engage in regular exercise such as walking, jogging, cycling, swimming, or any other form of physical activity that you enjoy. Aim for at least 30 minutes of moderate-intensity exercise most days of the week to help burn calories and improve overall health.\n",
      "\n",
      "2. Make healthier food choices: Focus on eating a balanced diet that includes plenty of fruits, vegetables, whole grains, lean proteins, and healthy fats. Avoid highly processed foods, sugary beverages, and excessive amounts of unhealthy fats and sugars. Keep track of your caloric intake and aim to create a calorie deficit to help you lose weight.\n",
      "\n",
      "3. Seek support: Consider seeking the help of a registered dietitian or a personal trainer to help you create a personalized plan for achieving a healthier BMI. Joining a support group or finding a buddy to exercise with can also provide motivation and accountability as you work towards your health goals. Remember that it's important to make sustainable lifestyle changes rather than resorting to crash diets or extreme measures.\n"
     ]
    }
   ],
   "source": [
    "result = app.invoke(input_state)\n",
    "print (result[\"advice\"])"
   ]
  },
  {
   "cell_type": "code",
   "execution_count": 11,
   "id": "5031ccb5",
   "metadata": {},
   "outputs": [
    {
     "data": {
      "image/png": "[encoded data removed]",
      "text/plain": [
       "<IPython.core.display.Image object>"
      ]
     },
     "execution_count": 11,
     "metadata": {},
     "output_type": "execute_result"
    }
   ],
   "source": [
    "from IPython.display import Image\n",
    "Image(app.get_graph().draw_mermaid_png())"
   ]
  },
  {
   "cell_type": "markdown",
   "id": "4b48d755",
   "metadata": {},
   "source": [
    "---"
   ]
  },
  {
   "cell_type": "markdown",
   "id": "3b4a1ad6",
   "metadata": {},
   "source": [
    "### ***LLM Simple Workflow***"
   ]
  },
  {
   "cell_type": "code",
   "execution_count": null,
   "id": "f42508d6",
   "metadata": {},
   "outputs": [
    {
     "name": "stdout",
     "output_type": "stream",
     "text": [
      "Question: {'question': 'what is the capital of nepa;?', 'answer': 'The capital of Nepal is Kathmandu.'}\n",
      "Answer: The capital of Nepal is Kathmandu.\n"
     ]
    }
   ],
   "source": [
    "class QAstate(TypedDict):\n",
    "    question : str\n",
    "    answer : str\n",
    "\n",
    "def qa_bot(state:QAstate)-> QAstate:\n",
    "    user_q = state[\"question\"]\n",
    "    bot_a = llm.invoke(user_q).content\n",
    "    state['answer'] = bot_a\n",
    "    return state\n",
    "\n",
    "graph = StateGraph(QAstate)\n",
    "\n",
    "graph.add_node(\"qa\", qa_bot)\n",
    "graph.set_entry_point(\"qa\")\n",
    "\n",
    "app = graph.compile()\n",
    "# Run in a loop\n",
    "while True:\n",
    "    user_input = input(\"Please enter the question (type 'end' to stop): \")\n",
    "    if user_input.lower().strip() in (\"end\", \"exit\", \"quit\"):\n",
    "        break\n",
    "    else:\n",
    "        output = app.invoke({\"question\": user_input, \"answer\": \"\"})\n",
    "        print(\"Question:\", output['question'])\n",
    "        print(\"Answer:\", output[\"answer\"])"
   ]
  },
  {
   "cell_type": "markdown",
   "id": "3c350b77",
   "metadata": {},
   "source": [
    "---"
   ]
  },
  {
   "cell_type": "markdown",
   "id": "edfedefb",
   "metadata": {},
   "source": [
    "## ***Prompt Chaining***"
   ]
  },
  {
   "cell_type": "code",
   "execution_count": 26,
   "id": "b7a53c18",
   "metadata": {},
   "outputs": [],
   "source": [
    "from langgraph.graph import START, END, StateGraph"
   ]
  },
  {
   "cell_type": "code",
   "execution_count": 27,
   "id": "50fcf54a",
   "metadata": {},
   "outputs": [],
   "source": [
    "class BlogState(TypedDict):\n",
    "    topic : str\n",
    "    outline : str\n",
    "    content : str"
   ]
  },
  {
   "cell_type": "code",
   "execution_count": null,
   "id": "1028a388",
   "metadata": {},
   "outputs": [],
   "source": [
    "def generate_outline(state:BlogState)-> BlogState   :\n",
    "    user_topic = state['topic']\n",
    "    prompt  = f\"Generate an outline for writing a blog on the topic {user_topic}\"\n",
    "    response = llm.invoke(prompt)\n",
    "    state['outline'] = response.content\n",
    "    return state\n",
    "\n",
    "def generate_blog(state:BlogState)-> BlogState:\n",
    "    outline_topic = state['outline']\n",
    "    prompt_1  = f\"Generate an blog based on the outline that is {outline_topic}. the blog should be 100 words\"\n",
    "    response_1 = llm.invoke(prompt_1)\n",
    "    state['content'] = response_1.content\n",
    "    return state\n",
    "\n"
   ]
  },
  {
   "cell_type": "code",
   "execution_count": 33,
   "id": "a37b8af6",
   "metadata": {},
   "outputs": [],
   "source": [
    "graph = StateGraph(BlogState)\n",
    "\n",
    "graph.add_node(\"outlines\", generate_outline)\n",
    "graph.add_node(\"blog\", generate_blog)\n",
    "graph.set_entry_point(\"outlines\")\n",
    "\n",
    "graph.add_edge(\"outlines\", \"blog\")\n",
    "graph.add_edge(\"blog\", END)\n",
    "\n",
    "app = graph.compile()"
   ]
  },
  {
   "cell_type": "code",
   "execution_count": 34,
   "id": "9579cc22",
   "metadata": {},
   "outputs": [
    {
     "data": {
      "text/plain": [
       "{'topic': 'Rajma Chawak',\n",
       " 'outline': 'I. Introduction\\n    A. Brief explanation of what rajma chawal is\\n    B. Personal connection to the dish\\n\\nII. History of Rajma Chawal \\n    A. Origin of the dish \\n    B. Cultural significance \\n    C. How it has evolved over time \\n\\nIII. Ingredients and Preparation \\n    A. List of ingredients commonly used \\n    B. Step-by-step guide on how to make rajma chawal \\n    C. Tips for cooking the dish perfectly \\n\\nIV. Health Benefits \\n    A. Nutritional value of rajma chawal \\n    B. How it fits into a balanced diet \\n    C. Potential health benefits of the ingredients \\n\\nV. Variations of Rajma Chawal \\n    A. Regional variations \\n    B. Different ways to flavor the dish \\n    C. Vegan or vegetarian alternatives \\n\\nVI. Serving Suggestions \\n    A. Side dishes that complement rajma chawal \\n    B. Garnishes and toppings \\n    C. Beverage pairings \\n\\nVII. Rajma Chawal in Popular Culture \\n    A. References to the dish in movies, books, and music \\n    B. Famous chefs or food bloggers who have featured the dish \\n    C. Why it has become a beloved comfort food \\n\\nVIII. Conclusion \\n    A. Recap of the main points discussed \\n    B. Personal reflections on the importance of rajma chawal \\n    C. Call to action for readers to try making the dish themselves',\n",
       " 'content': \"Rajma chawal, a classic Indian comfort food, holds a special place in my heart. The delicious combination of red kidney beans cooked in a rich tomato gravy, paired with fluffy basmati rice, reminds me of home-cooked meals shared with loved ones. \\n\\nOriginating in North India, rajma chawal has been a staple in households for generations. Its cultural significance lies in its warmth and heartiness, making it a popular choice for gatherings and celebrations. Over time, the dish has evolved with different variations, flavors, and dietary preferences.\\n\\nTo make rajma chawal, you'll need simple ingredients like kidney beans, tomatoes, onions, and spices. Follow our step-by-step guide for a foolproof recipe. The dish offers a balanced mix of protein, fiber, and essential nutrients, fitting perfectly into a healthy diet. \\n\\nVarious regional variations and vegan alternatives cater to different preferences. Experiment with different flavors and pairings to create a unique experience. Serve with sides like raita, pickle, or salad, and top with cilantro and fried onions for extra flavor. \\n\\nWith references in popular culture and a loyal following, rajma chawal has earned its place as a beloved comfort food. Give it a try and experience the warmth and nostalgia of this timeless dish for yourself.\"}"
      ]
     },
     "execution_count": 34,
     "metadata": {},
     "output_type": "execute_result"
    }
   ],
   "source": [
    "app.invoke({\"topic\":\"Rajma Chawak\"})"
   ]
  },
  {
   "cell_type": "code",
   "execution_count": null,
   "id": "d65dd41d",
   "metadata": {},
   "outputs": [],
   "source": [
    "    "
   ]
  }
 ],
 "metadata": {
  "kernelspec": {
   "display_name": "base",
   "language": "python",
   "name": "python3"
  },
  "language_info": {
   "codemirror_mode": {
    "name": "ipython",
    "version": 3
   },
   "file_extension": ".py",
   "mimetype": "text/x-python",
   "name": "python",
   "nbconvert_exporter": "python",
   "pygments_lexer": "ipython3",
   "version": "3.12.7"
  }
 },
 "nbformat": 4,
 "nbformat_minor": 5
}
