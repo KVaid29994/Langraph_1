{
 "cells": [
  {
   "cell_type": "markdown",
   "id": "9c0ab68c",
   "metadata": {},
   "source": [
    "# 📘 Conditional Workflow in LangGraph\n",
    "\n",
    "## 🔍 What is a Conditional Workflow?\n",
    "\n",
    "A **conditional workflow** in LangGraph is a dynamic execution path where the flow of nodes depends on certain **conditions** or **branching logic**. Instead of executing all nodes in a fixed order, LangGraph allows decision-making at runtime to determine which nodes should be triggered next, based on state values or outputs.\n",
    "\n",
    "---\n",
    "\n",
    "## 🧠 Key Concepts\n",
    "\n",
    "### 1. **State**\n",
    "- The shared memory (or context) passed between nodes.\n",
    "- Conditions are evaluated based on the current state.\n",
    "\n",
    "### 2. **Edges with Conditions**\n",
    "- Each node can have multiple **edges** leading to different nodes.\n",
    "- Edges can be conditionally activated using **functions** that return the name of the next node(s) based on the state.\n",
    "\n",
    "### 3. **Conditional Edge Function**\n",
    "- A Python function that takes `state` as input and returns:\n",
    "  - A string (name of the next node)\n",
    "  - Or a list of strings (multiple next nodes)\n",
    "\n",
    "```python\n",
    "def route(state):\n",
    "    if state[\"feedback\"] == \"positive\":\n",
    "        return \"follow_up\"\n",
    "    else:\n",
    "        return \"retry\"\n",
    "```\n",
    "\n",
    "### ⚙️ When to Use Conditional Workflows\n",
    "\n",
    "- ✅ Evaluating form responses (e.g., survey logic)\n",
    "- ✅ Handling user inputs in chatbots (e.g., yes/no logic)\n",
    "- ✅ Adaptive tutoring flows based on learner performance\n",
    "- ✅ Early stopping or retries in LLM pipelines\n",
    "\n",
    "\n",
    "### 📌 Structure Example (No Code)\n",
    "- start node → evaluates prompt\n",
    "- Conditional route based on sentiment:\n",
    "- If sentiment = \"positive\" → go to thanks\n",
    "- If sentiment = \"negative\" → go to retry\n",
    "- Else → go to escalate\n",
    "\n",
    "> This ensures that the workflow adapts its behavior based on real-time evaluations.\n",
    "\n"
   ]
  },
  {
   "cell_type": "markdown",
   "id": "59b68a71",
   "metadata": {},
   "source": [
    "# 🎯 Problem Statement: Solving a Quadratic Equation using LangGraph Conditional Flow\n",
    "\n",
    "## 🧩 Objective\n",
    "\n",
    "\n",
    "Design a **LangGraph-based conditional workflow** to solve a quadratic equation of the form:\n",
    "\n",
    "\\[\n",
    "ax^2 + bx + c = 0\n",
    "\\]\n",
    "\n",
    "The workflow should intelligently **branch** based on the value of the **discriminant**:\n",
    "\n",
    "\\[\n",
    "D = b^2 - 4ac\n",
    "\\]\n",
    "\n",
    "---\n",
    "\n",
    "## 📌 Goals\n",
    "\n",
    "- Accept input values for `a`, `b`, and `c`.\n",
    "- Calculate the **discriminant** `D`.\n",
    "- Based on `D`, conditionally route to the correct solution path:\n",
    "  - **Two Real Roots** if `D > 0`\n",
    "  - **One Real Root** if `D == 0`\n",
    "  - **No Real Roots** (complex roots) if `D < 0`\n",
    "  \n",
    "- Output the solution(s) accordingly.\n",
    "\n",
    "---\n",
    "\n",
    "## 🔁 Workflow Logic (Node Structure)\n",
    "\n",
    "1. **Input Node**  \n",
    "   - Collects values of `a`, `b`, and `c`.\n",
    "\n",
    "2. **Discriminant Calculator Node**  \n",
    "   - Computes `D = b² - 4ac`.\n",
    "\n",
    "3. **Conditional Router Node**  \n",
    "   - Based on `D`, routes to one of the following:\n",
    "     - `TwoRootsNode` → if `D > 0` - 2 real notes\n",
    "     - `OneRootNode` → if `D == 0` - 1 real root\n",
    "     - `ComplexRootNode` → if `D < 0` - has no real roots\n",
    "\n",
    "4. **Output Node**  \n",
    "   - Returns the result in human-readable format.\n",
    "\n",
    "---\n",
    "\n",
    "## 🔍 Example Use Case\n",
    "\n",
    "Given: `a = 1`, `b = -3`, `c = 2`  \n",
    "Discriminant `D = (-3)^2 - 4(1)(2) = 1` → **Two distinct real roots**  \n",
    "Workflow routes to `TwoRootsNode` and outputs the roots.\n",
    "\n",
    "---\n",
    "\n",
    "## ✅ Success Criteria\n",
    "\n",
    "- Accurate root calculation based on input.\n",
    "- Correct conditional routing using LangGraph.\n",
    "- Clean, readable state transitions and outputs.\n",
    "\n",
    "---\n"
   ]
  },
  {
   "cell_type": "code",
   "execution_count": 2,
   "id": "60f97711",
   "metadata": {},
   "outputs": [],
   "source": [
    "from langgraph.graph import StateGraph, END, START\n",
    "from typing import TypedDict, Literal\n"
   ]
  },
  {
   "cell_type": "code",
   "execution_count": 3,
   "id": "9e8a4a33",
   "metadata": {},
   "outputs": [],
   "source": [
    "class QuadState(TypedDict):\n",
    "    a : int\n",
    "    b : int\n",
    "    c : int\n",
    "    equation : str\n",
    "    discriminant : float\n",
    "    result : str"
   ]
  },
  {
   "cell_type": "code",
   "execution_count": 16,
   "id": "4c3e5db0",
   "metadata": {},
   "outputs": [],
   "source": [
    "def show_equation(state : QuadState):\n",
    "    equation = f'{state[\"a\"]}x2 + {state[\"b\"]}x {state[\"c\"]}'\n",
    "    return {'equation': equation}\n",
    "\n",
    "def calculate_discriminant(state: QuadState):\n",
    "    discriminant = state['b']**2 - (4*state['a']*state['c'])\n",
    "    return {'discriminant': discriminant}\n",
    "\n",
    "\n",
    "def real_roots(state:QuadState):\n",
    "    root1 = (-state['b'] + (state['discriminant'])**0.5) /(2*state['a'])\n",
    "    root2 = (-state['b'] - (state['discriminant'])**0.5) /(2*state['a'])\n",
    "\n",
    "    result = f\"The roots are {root1} and {root2}\"\n",
    "    return {'result':result}\n",
    "\n",
    "def repeated_roots(state:QuadState):\n",
    "    root = (-state['b']) /(2*state['a'])\n",
    "    result = f\"The ony repeated root is {root}\"\n",
    "    return {'result':result}\n",
    "\n",
    "def no_real_roots(state:QuadState):\n",
    "    result = \"no real roots\"\n",
    "    return {'result':result}\n"
   ]
  },
  {
   "cell_type": "code",
   "execution_count": 20,
   "id": "f1cd8b70",
   "metadata": {},
   "outputs": [],
   "source": [
    "## create condition\n",
    "\n",
    "def check_condition(state:QuadState) -> Literal['real_roots', 'no_real_roots', 'repeated_roots']:\n",
    "    if state['discriminant']>0:\n",
    "        return \"real_roots\"\n",
    "    elif state['discriminant']==0:\n",
    "        return \"repeated_roots\"\n",
    "    else:\n",
    "        return \"no_real_roots\""
   ]
  },
  {
   "cell_type": "code",
   "execution_count": 21,
   "id": "8484abde",
   "metadata": {},
   "outputs": [
    {
     "data": {
      "text/plain": [
       "<langgraph.graph.state.StateGraph at 0x1a801533e60>"
      ]
     },
     "execution_count": 21,
     "metadata": {},
     "output_type": "execute_result"
    }
   ],
   "source": [
    "graph = StateGraph(QuadState)\n",
    "\n",
    "## add nodes\n",
    "graph.add_node(\"show_equation\", show_equation)\n",
    "graph.add_node(\"calculate_discriminant\", calculate_discriminant)\n",
    "\n",
    "graph.add_node(\"real_roots\", real_roots)\n",
    "graph.add_node(\"repeated_roots\", repeated_roots)\n",
    "graph.add_node(\"no_real_roots\", no_real_roots)\n",
    "\n",
    "\n",
    "## add edges\n",
    "graph.add_edge(START, 'show_equation')\n",
    "graph.add_edge('show_equation', 'calculate_discriminant')\n",
    "\n",
    "graph.add_conditional_edges(\"calculate_discriminant\",check_condition)\n",
    "graph.add_edge('real_roots', END)\n",
    "graph.add_edge('no_real_roots', END)\n",
    "graph.add_edge('repeated_roots', END)\n",
    "\n",
    "\n"
   ]
  },
  {
   "cell_type": "code",
   "execution_count": 24,
   "id": "67eec238",
   "metadata": {},
   "outputs": [],
   "source": [
    "app = graph.compile()"
   ]
  },
  {
   "cell_type": "code",
   "execution_count": 30,
   "id": "00dd7c80",
   "metadata": {},
   "outputs": [
    {
     "data": {
      "text/plain": [
       "{'a': 4,\n",
       " 'b': 2,\n",
       " 'c': 2,\n",
       " 'equation': '4x2 + 2x 2',\n",
       " 'discriminant': -28,\n",
       " 'result': 'no real roots'}"
      ]
     },
     "execution_count": 30,
     "metadata": {},
     "output_type": "execute_result"
    }
   ],
   "source": [
    "initial_state = {'a':4, 'b':2, 'c':2}\n",
    "\n",
    "app.invoke(initial_state)"
   ]
  },
  {
   "cell_type": "code",
   "execution_count": null,
   "id": "cf138e2d",
   "metadata": {},
   "outputs": [],
   "source": []
  }
 ],
 "metadata": {
  "kernelspec": {
   "display_name": "base",
   "language": "python",
   "name": "python3"
  },
  "language_info": {
   "codemirror_mode": {
    "name": "ipython",
    "version": 3
   },
   "file_extension": ".py",
   "mimetype": "text/x-python",
   "name": "python",
   "nbconvert_exporter": "python",
   "pygments_lexer": "ipython3",
   "version": "3.12.7"
  }
 },
 "nbformat": 4,
 "nbformat_minor": 5
}
