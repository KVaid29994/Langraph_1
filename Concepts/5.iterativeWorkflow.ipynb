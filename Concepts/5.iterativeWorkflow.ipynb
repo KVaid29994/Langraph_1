{
 "cells": [
  {
   "cell_type": "markdown",
   "id": "ed5952d9",
   "metadata": {},
   "source": [
    "## ***ITERATIVE WORKFLOW***"
   ]
  },
  {
   "cell_type": "markdown",
   "id": "4bb34e86",
   "metadata": {},
   "source": [
    "### 🧩 ***Problem Statement***\n",
    "\n",
    "Creating high-quality content consistently for platforms like LinkedIn and Instagram is time-consuming and subjective. Automating this process requires a robust system that ensures the content is relevant, engaging, and well-aligned with platform norms.\n"
   ]
  },
  {
   "cell_type": "markdown",
   "id": "7f62e740",
   "metadata": {},
   "source": [
    "### 🔄 Proposed Solution: Content Generation Workflow\n",
    "\n",
    "We'll design a modular, automated workflow that transforms a topic into platform-ready content. The workflow follows these steps:\n",
    "\n",
    "- Input Topic\n",
    "The user provides a brief topic or prompt (e.g., “AI and mental health”).\n",
    "\n",
    "- Content Generation Pipeline\n",
    "The workflow—built using LangChain and integrated tools—generates a polished post using templates, embeddings, and style tuning suited for each platform.\n",
    "\n",
    "- Platform Deployment\n",
    "Finalized content is automatically scheduled or posted via API integrations for LinkedIn, Instagram, etc.\n"
   ]
  },
  {
   "cell_type": "markdown",
   "id": "dc2a49df",
   "metadata": {},
   "source": [
    "```text\n",
    "graph TD\n",
    "    A[Input Topic] --> B[Generate Content]\n",
    "    B --> C[Evaluate Quality]\n",
    "    C -->|Approved| D[Deploy to Platform]\n",
    "    C -->|Needs Improvement| E[Optimiser Refines Post]\n",
    "    E --> B\n",
    "```"
   ]
  },
  {
   "cell_type": "code",
   "execution_count": 21,
   "id": "e630a71b",
   "metadata": {},
   "outputs": [],
   "source": [
    "from langgraph.graph import StateGraph, END, START\n",
    "from typing import TypedDict, Literal, Annotated\n",
    "from langchain_openai import ChatOpenAI\n",
    "\n",
    "from langchain_core.messages import SystemMessage, HumanMessage\n",
    "\n",
    "import operator\n"
   ]
  },
  {
   "cell_type": "code",
   "execution_count": 22,
   "id": "54d9f22d",
   "metadata": {},
   "outputs": [],
   "source": [
    "generator_llm = ChatOpenAI(model ='gpt-4o')\n",
    "evaluator_llm = ChatOpenAI(model ='gpt-4o-mini')\n",
    "optimizer_llm = ChatOpenAI(model ='gpt-4o')"
   ]
  },
  {
   "cell_type": "code",
   "execution_count": 23,
   "id": "97745fd9",
   "metadata": {},
   "outputs": [],
   "source": [
    "# state \n",
    "\n",
    "class TweetState(TypedDict):\n",
    "    topic : str\n",
    "    tweet : str\n",
    "    evaluation : Literal[\"approved\", \"needs_improvement\"]\n",
    "    feedback : str\n",
    "    iteration : int\n",
    "    max_iterations : int\n",
    "    tweet_history : Annotated[list[str],operator.add]\n",
    "    feedback_history :Annotated[list[str],operator.add]\n"
   ]
  },
  {
   "cell_type": "code",
   "execution_count": 24,
   "id": "ba30650e",
   "metadata": {},
   "outputs": [],
   "source": [
    "from pydantic import BaseModel, Field\n",
    "class TweetEvaluation(BaseModel):\n",
    "    evaluation: Literal['approved', 'needs_improvement'] = Field(..., description=\"Final evaluation output\")\n",
    "    feedback: str = Field(..., description=\"Feedback for the tweet\")"
   ]
  },
  {
   "cell_type": "code",
   "execution_count": 25,
   "id": "aeed8277",
   "metadata": {},
   "outputs": [],
   "source": [
    "structured_evaluator_llm = evaluator_llm.with_structured_output(TweetEvaluation)"
   ]
  },
  {
   "cell_type": "code",
   "execution_count": 39,
   "id": "b8a2e89c",
   "metadata": {},
   "outputs": [],
   "source": [
    "def generate_tweet(state: TweetState):\n",
    "    messages = [\n",
    "        SystemMessage(content=\"You are a funny and clever Twitter/X influencer.\"),\n",
    "        HumanMessage(content=f\"\"\"\n",
    "Write a short, original, and hilarious tweet on the topic: \"{state['topic']}\".\n",
    "\n",
    "Rules:\n",
    "- Do NOT use question-answer format.\n",
    "- Max 280 characters.\n",
    "- Use observational humor, irony, sarcasm, or cultural references.\n",
    "- Think in meme logic, punchlines, or relatable takes.\n",
    "- Use simple, day to day English.\n",
    "\"\"\")\n",
    "    ]\n",
    "    response = generator_llm.invoke(messages).content\n",
    "    return {'tweet': response, \"tweet_history\": [response]}\n",
    "\n",
    "# --- Node 2: Evaluation ---\n",
    "def evaluate_tweet(state: TweetState):\n",
    "    messages = [\n",
    "        SystemMessage(content=\"\"\"\n",
    "You are a ruthless and dry-humored Twitter critic. You do not laugh, empathize, or offer encouragement.\n",
    "Your job is to evaluate tweets solely for performance and quality. You reject tweets without hesitation.\n",
    "\"\"\"),\n",
    "        HumanMessage(content=f\"\"\"Evaluate the following tweet:\n",
    "Tweet: {state['tweet']}\n",
    "\n",
    "Strictly evaluate using these criteria:\n",
    "- Originality: is this fresh or overused?\n",
    "- Humor (if intended)\n",
    "- Punchiness\n",
    "- Virality Potential\n",
    "- Format Compliance:\n",
    "    - REJECT if Q&A format\n",
    "    - REJECT if exceeds 280 characters\n",
    "    - REJECT if ends with vague statements like “Let that sink in.”\n",
    "- ⚖️ Bias Neutrality: REJECT if overly opinionated\n",
    "\n",
    "Respond ONLY in this format:\n",
    "Evaluation: \"approved\" or \"needs_improvement\"\n",
    "Feedback: <feedback>\n",
    "\"\"\")\n",
    "    ]\n",
    "    response = structured_evaluator_llm.invoke(messages)\n",
    "    return {\n",
    "        'evaluation': response.evaluation,\n",
    "        'feedback': response.feedback,\n",
    "        'feedback_history': [response.feedback]\n",
    "    }\n",
    "\n",
    "# --- Node 3: Optimizer ---\n",
    "def optimize_tweet(state: TweetState):\n",
    "    messages = [\n",
    "        SystemMessage(content=\"You punch up tweets for virality and humor based on given feedback.\"),\n",
    "        HumanMessage(content=f\"\"\"\n",
    "Improve the tweet based on the feedback: \"{state['feedback']}\"\n",
    "\n",
    "Topic: \"{state['topic']}\"\n",
    "Original Tweet: \"{state['tweet']}\"\n",
    "\n",
    "Make it as short as possible, under 200 characters. No Q&A format.\n",
    "\"\"\")\n",
    "    ]\n",
    "    response = optimizer_llm.invoke(messages).content\n",
    "    return {\n",
    "        'tweet': response,\n",
    "        \"tweet_history\": [response],\n",
    "        'iteration': state['iteration'] + 1\n",
    "    }\n",
    "\n",
    "# --- Routing function ---\n",
    "def route_evaluation(state: TweetState):\n",
    "    if state['evaluation'] == \"approved\" or state['iteration'] >= state['max_iterations']:\n",
    "        return \"approved\"\n",
    "    else:\n",
    "        return \"needs_improvement\" \n"
   ]
  },
  {
   "cell_type": "code",
   "execution_count": 40,
   "id": "a6a8c479",
   "metadata": {},
   "outputs": [],
   "source": [
    "graph = StateGraph(TweetState)\n",
    "\n",
    "graph.add_node(\"generate\", generate_tweet)\n",
    "graph.add_node(\"evaluate\", evaluate_tweet)\n",
    "graph.add_node(\"optimize\", optimize_tweet)\n",
    "\n",
    "graph.add_edge(START, \"generate\")\n",
    "graph.add_edge(\"generate\", \"evaluate\")\n",
    "graph.add_conditional_edges(\"evaluate\", route_evaluation, {\n",
    "    \"approved\": END,\n",
    "    \"needs_improvement\": \"optimize\"\n",
    "})\n",
    "graph.add_edge(\"optimize\", \"evaluate\")\n",
    "\n",
    "# Compile and run\n",
    "workflow = graph.compile()"
   ]
  },
  {
   "cell_type": "code",
   "execution_count": 41,
   "id": "d1d84f17",
   "metadata": {},
   "outputs": [],
   "source": [
    "workflow = graph.compile()"
   ]
  },
  {
   "cell_type": "code",
   "execution_count": 42,
   "id": "fc51f75c",
   "metadata": {},
   "outputs": [
    {
     "data": {
      "text/plain": [
       "{'topic': 'indian national flag',\n",
       " 'tweet': 'Forget coffee, my morning routine: salute the Indian flag and reset the Wi-Fi. 🇮🇳 #PatrioticPriorities',\n",
       " 'evaluation': 'needs_improvement',\n",
       " 'feedback': \"The tweet suffers from a lack of originality, as the concept of prioritizing items in morning routines is overused. The humor attempts are mild at best, and it lacks punchiness. The combination of flag saluting and Wi-Fi resetting feels forced and lacks a cohesive theme, diminishing its virality potential. Overall, it's a mediocre attempt that fails to resonate.\",\n",
       " 'iteration': 4,\n",
       " 'max_iterations': 4,\n",
       " 'tweet_history': [\"When I see the Indian flag waving proudly, it reminds me of my Wi-Fi—looks strong, but I always pray it doesn't suddenly crash during important moments. 🇮🇳 #TricolorTales\",\n",
       "  \"Seeing the Indian flag wave is like my Wi-Fi—majestic from afar, but closer inspection reveals a signal I pray won't drop during crucial moments. 🇮🇳 #TricolorTruth\",\n",
       "  'The Indian flag: a symbol of unity and a reminder to secure your Wi-Fi for those \"hold your breath\" moments. 🇮🇳',\n",
       "  'Forget coffee, my morning routine: salute the Indian flag and reset the Wi-Fi. 🇮🇳 #PatrioticPriorities'],\n",
       " 'feedback_history': ['The analogy of Wi-Fi strength to the Indian flag lacks originality and depth. The humor falls flat and does not deliver a strong punch. Additionally, the tweet feels forced in its attempt at connecting two unrelated concepts. Overall, it struggles to have viral potential due to its weak execution.',\n",
       "  \"The analogy between the Indian flag and Wi-Fi lacks originality and comes off as forced. The humor attempts to be dry but falls flat. It's neither punchy nor impactful enough to catch attention, and the use of a hashtag feels contrived. Overall, it's a mediocre effort with low virality potential.\",\n",
       "  \"The connection between the Indian flag and securing Wi-Fi is forced and lacks originality. The humor doesn't land effectively, and the punchiness is diminished by the convoluted message. Overall, it does not have strong viral potential.\",\n",
       "  \"The tweet suffers from a lack of originality, as the concept of prioritizing items in morning routines is overused. The humor attempts are mild at best, and it lacks punchiness. The combination of flag saluting and Wi-Fi resetting feels forced and lacks a cohesive theme, diminishing its virality potential. Overall, it's a mediocre attempt that fails to resonate.\"]}"
      ]
     },
     "execution_count": 42,
     "metadata": {},
     "output_type": "execute_result"
    }
   ],
   "source": [
    "initial_state = {\n",
    "    \"topic\": \"indian national flag\",\n",
    "    \"max_iterations\": 4,\n",
    "    \"iteration\": 1,\n",
    "    \"tweet\": \"\",\n",
    "    \"evaluation\": \"needs_improvement\",\n",
    "    \"feedback\": \"\"\n",
    "}\n",
    "\n",
    "workflow.invoke(initial_state)\n"
   ]
  },
  {
   "cell_type": "code",
   "execution_count": null,
   "id": "d97a0d48",
   "metadata": {},
   "outputs": [
    {
     "data": {
      "text/plain": [
       "{'topic': 'Donald trump',\n",
       " 'tweet': '\"New Trump trading cards: brimming with powers, deals, and debts! Watch out, these aren\\'t your usual collectibles—saddle up for a political adventure! #TrumpCards\"',\n",
       " 'evaluation': 'needs_improvement',\n",
       " 'feedback': \"The tweet attempts to be catchy but falls flat on originality; the concept of trading cards featuring politicians is not fresh. It's also overly wordy without delivering a clear punch. The humor is forced and lacks real wit. The virality potential is low, as it doesn't offer a compelling hook or engaging insight. It leans toward opinionated language like 'political adventure,' which may alienate neutral viewers.\",\n",
       " 'iteration': 4,\n",
       " 'max_iterations': 4}"
      ]
     },
     "execution_count": 11,
     "metadata": {},
     "output_type": "execute_result"
    }
   ],
   "source": [
    "initial_state = {\n",
    "    \"topic\": \"Donald trump\",\n",
    "    \"max_iterations\": 4,\n",
    "    \"iteration\": 1,\n",
    "    \"tweet\": \"\",\n",
    "    \"evaluation\": \"needs_improvement\",\n",
    "    \"feedback\": \"\"\n",
    "}\n",
    "\n",
    "workflow.invoke(initial_state)\n"
   ]
  },
  {
   "cell_type": "code",
   "execution_count": null,
   "id": "d250ad3e",
   "metadata": {},
   "outputs": [],
   "source": []
  },
  {
   "cell_type": "code",
   "execution_count": null,
   "id": "3a96d25b",
   "metadata": {},
   "outputs": [],
   "source": []
  },
  {
   "cell_type": "code",
   "execution_count": null,
   "id": "35643c3b",
   "metadata": {},
   "outputs": [],
   "source": []
  }
 ],
 "metadata": {
  "kernelspec": {
   "display_name": "base",
   "language": "python",
   "name": "python3"
  },
  "language_info": {
   "codemirror_mode": {
    "name": "ipython",
    "version": 3
   },
   "file_extension": ".py",
   "mimetype": "text/x-python",
   "name": "python",
   "nbconvert_exporter": "python",
   "pygments_lexer": "ipython3",
   "version": "3.12.7"
  }
 },
 "nbformat": 4,
 "nbformat_minor": 5
}
