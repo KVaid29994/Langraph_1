{
 "cells": [
  {
   "cell_type": "markdown",
   "id": "175813dc",
   "metadata": {},
   "source": [
    "<h1 style=\"font-family: 'Playfair Display', serif; color: yellow; text-shadow: 1px 1px 2px #f3faffff;\">\n",
    "  Simple parallel workflow using LangGraph\n",
    "</h1>\n"
   ]
  },
  {
   "cell_type": "code",
   "execution_count": 73,
   "id": "bfe09a50",
   "metadata": {},
   "outputs": [],
   "source": [
    "from langgraph.graph import StateGraph , START, END\n",
    "from typing import TypedDict"
   ]
  },
  {
   "cell_type": "code",
   "execution_count": 74,
   "id": "b4f5b207",
   "metadata": {},
   "outputs": [],
   "source": [
    "class BatsmanState(TypedDict):\n",
    "    run : int\n",
    "    balls : int\n",
    "    fours : int\n",
    "    sixes : int\n",
    "\n",
    "    sr : float\n",
    "    bpb : float\n",
    "    boundary_percent : float\n",
    "    summary : str"
   ]
  },
  {
   "cell_type": "code",
   "execution_count": 75,
   "id": "5e0b7984",
   "metadata": {},
   "outputs": [],
   "source": [
    "def calculate_sr(state : BatsmanState) -> BatsmanState:\n",
    "    sr = (state['run']/state['balls'])*100\n",
    "\n",
    "    return {'sr':sr}"
   ]
  },
  {
   "cell_type": "code",
   "execution_count": 76,
   "id": "ada51ce6",
   "metadata": {},
   "outputs": [],
   "source": [
    "def calculate_bpb(state : BatsmanState) -> BatsmanState:\n",
    "    bpb = state['balls']/(state['fours'] + state['sixes'])\n",
    "    state['bpb'] = bpb\n",
    "    return {\"bpb\":bpb}"
   ]
  },
  {
   "cell_type": "code",
   "execution_count": 77,
   "id": "0b07d5e3",
   "metadata": {},
   "outputs": [],
   "source": [
    "def  calculate_boundary_percent(state : BatsmanState) -> BatsmanState:\n",
    "    boundary_percent = (((state['fours']*4) + (state['sixes']*6))/state['run'])*100\n",
    "    \n",
    "    return {\"boundary_percent\":boundary_percent}"
   ]
  },
  {
   "cell_type": "code",
   "execution_count": 78,
   "id": "ba2ac231",
   "metadata": {},
   "outputs": [],
   "source": [
    "def summary1(state : BatsmanState) -> BatsmanState:\n",
    "    summary = f''' \n",
    "strike_rate - {state['sr']}\\n\n",
    "balls_per_boundary = {state['bpb']}\\n\n",
    "boundary_percent = {state['boundary_percent']}\n",
    "'''\n",
    "    state['summary'] = summary\n",
    "    return state"
   ]
  },
  {
   "cell_type": "code",
   "execution_count": 79,
   "id": "6e843b81",
   "metadata": {},
   "outputs": [
    {
     "data": {
      "text/plain": [
       "<langgraph.graph.state.StateGraph at 0x252114ea300>"
      ]
     },
     "execution_count": 79,
     "metadata": {},
     "output_type": "execute_result"
    }
   ],
   "source": [
    "graph = StateGraph(BatsmanState)\n",
    "\n",
    "graph.add_node(\"calculate_sr\", calculate_sr)\n",
    "graph.add_node(\"calculate_bpb\", calculate_bpb)\n",
    "graph.add_node(\"calculate_boundary_percent\", calculate_boundary_percent )\n",
    "graph.add_node(\"summary1\", summary1)\n",
    "\n",
    "##edges\n",
    "\n",
    "graph.add_edge(START, \"calculate_sr\")\n",
    "graph.add_edge(START, \"calculate_bpb\")\n",
    "graph.add_edge(START, \"calculate_boundary_percent\")\n",
    "\n",
    "\n",
    "graph.add_edge(\"calculate_sr\", 'summary1')\n",
    "graph.add_edge(\"calculate_bpb\", 'summary1')\n",
    "graph.add_edge(\"calculate_boundary_percent\", 'summary1')\n",
    "\n",
    "##summary to end\n",
    "\n",
    "graph.add_edge(\"summary1\" ,END)\n"
   ]
  },
  {
   "cell_type": "code",
   "execution_count": 80,
   "id": "faa27ee5",
   "metadata": {},
   "outputs": [
    {
     "data": {
      "image/png": "[encoded data removed]",
      "text/plain": [
       "<langgraph.graph.state.CompiledStateGraph object at 0x000002520FC576B0>"
      ]
     },
     "execution_count": 80,
     "metadata": {},
     "output_type": "execute_result"
    }
   ],
   "source": [
    "graph.compile()"
   ]
  },
  {
   "cell_type": "code",
   "execution_count": 81,
   "id": "7393d8a4",
   "metadata": {},
   "outputs": [],
   "source": [
    "workflow = graph.compile()"
   ]
  },
  {
   "cell_type": "code",
   "execution_count": 82,
   "id": "b055182a",
   "metadata": {},
   "outputs": [],
   "source": [
    "initial_state = {\"run\":100,\n",
    "                 \"balls\":50,\n",
    "                 \"fours\":6,\n",
    "                 \"sixes\":4}"
   ]
  },
  {
   "cell_type": "code",
   "execution_count": 83,
   "id": "4b5f8e2e",
   "metadata": {},
   "outputs": [
    {
     "data": {
      "text/plain": [
       "{'run': 100,\n",
       " 'balls': 50,\n",
       " 'fours': 6,\n",
       " 'sixes': 4,\n",
       " 'sr': 200.0,\n",
       " 'bpb': 5.0,\n",
       " 'boundary_percent': 48.0,\n",
       " 'summary': ' \\nstrike_rate - 200.0\\n\\nballs_per_boundary = 5.0\\n\\nboundary_percent = 48.0\\n'}"
      ]
     },
     "execution_count": 83,
     "metadata": {},
     "output_type": "execute_result"
    }
   ],
   "source": [
    "workflow.invoke(initial_state)"
   ]
  },
  {
   "cell_type": "code",
   "execution_count": null,
   "id": "0480cf05",
   "metadata": {},
   "outputs": [],
   "source": []
  }
 ],
 "metadata": {
  "kernelspec": {
   "display_name": "base",
   "language": "python",
   "name": "python3"
  },
  "language_info": {
   "codemirror_mode": {
    "name": "ipython",
    "version": 3
   },
   "file_extension": ".py",
   "mimetype": "text/x-python",
   "name": "python",
   "nbconvert_exporter": "python",
   "pygments_lexer": "ipython3",
   "version": "3.12.7"
  }
 },
 "nbformat": 4,
 "nbformat_minor": 5
}
