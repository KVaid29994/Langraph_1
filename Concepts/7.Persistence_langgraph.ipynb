{
 "cells": [
  {
   "cell_type": "markdown",
   "id": "cd7780ea",
   "metadata": {},
   "source": [
    "# 🧠 Persistence in LangGraph\n",
    "\n",
    "## 📌 What is Persistence?\n",
    "\n",
    "In LangGraph, **persistence** refers to the ability to **store and reload the graph state** between different executions.\n",
    "\n",
    "This is essential for:\n",
    "- Long-running workflows\n",
    "- Error recovery\n",
    "- Human in the loop\n",
    "- Short term memory\n",
    "- Time travel\n",
    "- Stateful applications (e.g., agents that remember conversations)\n",
    "- Distributed processing\n",
    "\n",
    "Without persistence, all state is lost once execution stops.\n",
    "\n",
    "---\n",
    "\n",
    "## 💾 Why is Persistence Needed?\n",
    "\n",
    "LangGraph maintains a **graph state** which tracks:\n",
    "- Node outputs\n",
    "- Variable values\n",
    "- Control flow decisions\n",
    "\n",
    "If you don’t persist this state:\n",
    "- You cannot resume the graph from where it stopped\n",
    "- You lose all memory/context of what happened before\n",
    "\n",
    "---\n",
    "\n",
    "## 🔧 How is Persistence Implemented?\n",
    "\n",
    "LangGraph provides **persistence interfaces** through:\n",
    "\n",
    "### 1. `StateStore`:\n",
    "An interface for how states are stored.\n",
    "\n",
    "Implementations include:\n",
    "- `InMemoryStateStore`: Keeps everything in memory (good for testing)\n",
    "- `RedisStateStore`: Uses Redis for scalable, fault-tolerant persistence\n",
    "- `MongoDBStateStore`: Persists state in MongoDB\n",
    "- Custom backends: You can define your own `StateStore`\n",
    "\n",
    "### 2. `graph.persist()`\n",
    "You call this method (or configure the graph) to make sure it writes state to the storage backend.\n",
    "\n",
    "---\n",
    "\n",
    "## ✅ Example\n",
    "\n",
    "```python\n",
    "from langgraph.graph import StateGraph\n",
    "from langgraph.storage import RedisStateStore\n",
    "\n",
    "store = RedisStateStore(url=\"redis://localhost:6379\")\n",
    "\n",
    "graph = StateGraph()\n",
    "graph.configure(persistence=store)\n",
    "\n",
    "```\n",
    "\n",
    "Now:\n",
    "\n",
    "- Every step's state will be written to Redis.\n",
    "- If execution crashes or is paused, you can resume from last state.\n",
    "\n"
   ]
  },
  {
   "cell_type": "markdown",
   "id": "c2287617",
   "metadata": {},
   "source": [
    "## 🧵 What are Threads in LangGraph Persistence?\n",
    "\n",
    "In LangGraph, a thread is a unique instance of a graph execution — like a session or conversation.\n",
    "\n",
    "Each thread has:\n",
    "- Its own state\n",
    "- A unique thread_id\n",
    "- A history of all updates and steps taken in the graph"
   ]
  },
  {
   "cell_type": "code",
   "execution_count": 1,
   "id": "047e1b80",
   "metadata": {},
   "outputs": [],
   "source": [
    "from langgraph.graph import START, END, StateGraph\n",
    "from typing import TypedDict\n",
    "from langchain_openai import ChatOpenAI\n",
    "\n",
    "from dotenv import load_dotenv\n",
    "load_dotenv()\n",
    "\n",
    "from langgraph.checkpoint.memory import InMemorySaver"
   ]
  },
  {
   "cell_type": "code",
   "execution_count": 2,
   "id": "b7188d38",
   "metadata": {},
   "outputs": [],
   "source": [
    "class JokeState(TypedDict):\n",
    "    topic : str\n",
    "    joke : str\n",
    "    explanation : str"
   ]
  },
  {
   "cell_type": "code",
   "execution_count": 3,
   "id": "1dff27da",
   "metadata": {},
   "outputs": [],
   "source": [
    "llm = ChatOpenAI()"
   ]
  },
  {
   "cell_type": "code",
   "execution_count": 8,
   "id": "2e0f0671",
   "metadata": {},
   "outputs": [],
   "source": [
    "def generate_joke(state: JokeState):\n",
    "    prompt = f\"Write a funny joke on the topic {state['topic']}\"\n",
    "    response = llm.invoke(prompt).content\n",
    "    return {'joke': response}\n",
    "\n",
    "def generate_explanation(state:JokeState):\n",
    "    prompt = f'write an explanation on the following joke: {state['joke']}'\n",
    "    response1 = llm.invoke(prompt).content\n",
    "    return{'explanation':response1}"
   ]
  },
  {
   "cell_type": "code",
   "execution_count": 9,
   "id": "638b2380",
   "metadata": {},
   "outputs": [
    {
     "data": {
      "text/plain": [
       "<langgraph.graph.state.StateGraph at 0x23941d60770>"
      ]
     },
     "execution_count": 9,
     "metadata": {},
     "output_type": "execute_result"
    }
   ],
   "source": [
    "graph = StateGraph(JokeState)\n",
    "\n",
    "graph.add_node('generate_joke', generate_joke)\n",
    "\n",
    "graph.add_node(\"generate_explanation\", generate_explanation)\n",
    "\n",
    "graph.add_edge(START,\"generate_joke\")\n",
    "graph.add_edge('generate_joke', \"generate_explanation\")\n",
    "graph.add_edge('generate_explanation', END)"
   ]
  },
  {
   "cell_type": "code",
   "execution_count": 10,
   "id": "bac34525",
   "metadata": {},
   "outputs": [],
   "source": [
    "checkpointer = InMemorySaver()\n",
    "\n",
    "workflow = graph.compile(checkpointer= checkpointer)"
   ]
  },
  {
   "cell_type": "code",
   "execution_count": 12,
   "id": "b0030e79",
   "metadata": {},
   "outputs": [
    {
     "data": {
      "text/plain": [
       "{'topic': 'humans',\n",
       " 'joke': 'Why did the human bring a ladder to the bar?\\n\\nBecause they heard the drinks were on the house!',\n",
       " 'explanation': 'This joke plays on the double meaning of the phrase \"on the house.\" In a bar or restaurant, when something is \"on the house,\" it means that it is free of charge. However, in this joke, the human brings a ladder to the bar because they interpret \"on the house\" literally - as in, the drinks are positioned on top of the bar building. This misunderstanding adds humor to the situation and creates a playful and silly image of someone bringing a ladder to a bar to reach their free drinks.'}"
      ]
     },
     "execution_count": 12,
     "metadata": {},
     "output_type": "execute_result"
    }
   ],
   "source": [
    "config1 = {'configurable':{'thread_id':'1'}}\n",
    "\n",
    "workflow.invoke({'topic':\"humans\"}, config = config1)"
   ]
  },
  {
   "cell_type": "code",
   "execution_count": 13,
   "id": "d165e7df",
   "metadata": {},
   "outputs": [
    {
     "data": {
      "text/plain": [
       "StateSnapshot(values={'topic': 'humans', 'joke': 'Why did the human bring a ladder to the bar?\\n\\nBecause they heard the drinks were on the house!', 'explanation': 'This joke plays on the double meaning of the phrase \"on the house.\" In a bar or restaurant, when something is \"on the house,\" it means that it is free of charge. However, in this joke, the human brings a ladder to the bar because they interpret \"on the house\" literally - as in, the drinks are positioned on top of the bar building. This misunderstanding adds humor to the situation and creates a playful and silly image of someone bringing a ladder to a bar to reach their free drinks.'}, next=(), config={'configurable': {'thread_id': '1', 'checkpoint_ns': '', 'checkpoint_id': '1f06fb66-b407-65b9-8006-de9fefaf23f7'}}, metadata={'source': 'loop', 'writes': {'generate_explanation': {'explanation': 'This joke plays on the double meaning of the phrase \"on the house.\" In a bar or restaurant, when something is \"on the house,\" it means that it is free of charge. However, in this joke, the human brings a ladder to the bar because they interpret \"on the house\" literally - as in, the drinks are positioned on top of the bar building. This misunderstanding adds humor to the situation and creates a playful and silly image of someone bringing a ladder to a bar to reach their free drinks.'}}, 'thread_id': '1', 'step': 6, 'parents': {}}, created_at='2025-08-02T15:36:12.260293+00:00', parent_config={'configurable': {'thread_id': '1', 'checkpoint_ns': '', 'checkpoint_id': '1f06fb66-543b-6345-8005-036b6062d536'}}, tasks=())"
      ]
     },
     "execution_count": 13,
     "metadata": {},
     "output_type": "execute_result"
    }
   ],
   "source": [
    "workflow.get_state((config1))"
   ]
  },
  {
   "cell_type": "code",
   "execution_count": 14,
   "id": "f7f5c2a4",
   "metadata": {},
   "outputs": [
    {
     "data": {
      "text/plain": [
       "[StateSnapshot(values={'topic': 'humans', 'joke': 'Why did the human bring a ladder to the bar?\\n\\nBecause they heard the drinks were on the house!', 'explanation': 'This joke plays on the double meaning of the phrase \"on the house.\" In a bar or restaurant, when something is \"on the house,\" it means that it is free of charge. However, in this joke, the human brings a ladder to the bar because they interpret \"on the house\" literally - as in, the drinks are positioned on top of the bar building. This misunderstanding adds humor to the situation and creates a playful and silly image of someone bringing a ladder to a bar to reach their free drinks.'}, next=(), config={'configurable': {'thread_id': '1', 'checkpoint_ns': '', 'checkpoint_id': '1f06fb66-b407-65b9-8006-de9fefaf23f7'}}, metadata={'source': 'loop', 'writes': {'generate_explanation': {'explanation': 'This joke plays on the double meaning of the phrase \"on the house.\" In a bar or restaurant, when something is \"on the house,\" it means that it is free of charge. However, in this joke, the human brings a ladder to the bar because they interpret \"on the house\" literally - as in, the drinks are positioned on top of the bar building. This misunderstanding adds humor to the situation and creates a playful and silly image of someone bringing a ladder to a bar to reach their free drinks.'}}, 'thread_id': '1', 'step': 6, 'parents': {}}, created_at='2025-08-02T15:36:12.260293+00:00', parent_config={'configurable': {'thread_id': '1', 'checkpoint_ns': '', 'checkpoint_id': '1f06fb66-543b-6345-8005-036b6062d536'}}, tasks=()),\n",
       " StateSnapshot(values={'topic': 'humans', 'joke': 'Why did the human bring a ladder to the bar?\\n\\nBecause they heard the drinks were on the house!', 'explanation': 'This joke plays on the double meaning of the word \"juice.\" In one sense, juice refers to the liquid inside an apple. When the joke says the apple \"ran out of juice,\" it is implying that the apple no longer had any liquid inside it, which would cause it to stop rolling down the hill. \\n\\nHowever, \"juice\" can also refer to energy or power. So, the joke is also playing on the idea that the apple stopped rolling because it had no more energy to keep going, similar to how a battery might run out of juice and stop working. \\n\\nOverall, the humor in this joke comes from the clever play on words and the unexpected twist on why the apple stopped rolling.'}, next=('generate_explanation',), config={'configurable': {'thread_id': '1', 'checkpoint_ns': '', 'checkpoint_id': '1f06fb66-543b-6345-8005-036b6062d536'}}, metadata={'source': 'loop', 'writes': {'generate_joke': {'joke': 'Why did the human bring a ladder to the bar?\\n\\nBecause they heard the drinks were on the house!'}}, 'thread_id': '1', 'step': 5, 'parents': {}}, created_at='2025-08-02T15:36:02.215200+00:00', parent_config={'configurable': {'thread_id': '1', 'checkpoint_ns': '', 'checkpoint_id': '1f06fb66-42c1-6ab3-8004-2b2e2c6ebf87'}}, tasks=(PregelTask(id='3d4ef280-0520-97d4-9391-24f4c2ebc9c7', name='generate_explanation', path=('__pregel_pull', 'generate_explanation'), error=None, interrupts=(), state=None, result={'explanation': 'This joke plays on the double meaning of the phrase \"on the house.\" In a bar or restaurant, when something is \"on the house,\" it means that it is free of charge. However, in this joke, the human brings a ladder to the bar because they interpret \"on the house\" literally - as in, the drinks are positioned on top of the bar building. This misunderstanding adds humor to the situation and creates a playful and silly image of someone bringing a ladder to a bar to reach their free drinks.'}),)),\n",
       " StateSnapshot(values={'topic': 'humans', 'joke': 'Why did the apple stop rolling down the hill?\\n\\nBecause it ran out of juice!', 'explanation': 'This joke plays on the double meaning of the word \"juice.\" In one sense, juice refers to the liquid inside an apple. When the joke says the apple \"ran out of juice,\" it is implying that the apple no longer had any liquid inside it, which would cause it to stop rolling down the hill. \\n\\nHowever, \"juice\" can also refer to energy or power. So, the joke is also playing on the idea that the apple stopped rolling because it had no more energy to keep going, similar to how a battery might run out of juice and stop working. \\n\\nOverall, the humor in this joke comes from the clever play on words and the unexpected twist on why the apple stopped rolling.'}, next=('generate_joke',), config={'configurable': {'thread_id': '1', 'checkpoint_ns': '', 'checkpoint_id': '1f06fb66-42c1-6ab3-8004-2b2e2c6ebf87'}}, metadata={'source': 'loop', 'writes': None, 'thread_id': '1', 'step': 4, 'parents': {}}, created_at='2025-08-02T15:36:00.382840+00:00', parent_config={'configurable': {'thread_id': '1', 'checkpoint_ns': '', 'checkpoint_id': '1f06fb66-42a4-6b8d-8003-d5aec45c2195'}}, tasks=(PregelTask(id='b543e7af-0085-f168-41de-ddfaded89069', name='generate_joke', path=('__pregel_pull', 'generate_joke'), error=None, interrupts=(), state=None, result={'joke': 'Why did the human bring a ladder to the bar?\\n\\nBecause they heard the drinks were on the house!'}),)),\n",
       " StateSnapshot(values={'topic': 'apple', 'joke': 'Why did the apple stop rolling down the hill?\\n\\nBecause it ran out of juice!', 'explanation': 'This joke plays on the double meaning of the word \"juice.\" In one sense, juice refers to the liquid inside an apple. When the joke says the apple \"ran out of juice,\" it is implying that the apple no longer had any liquid inside it, which would cause it to stop rolling down the hill. \\n\\nHowever, \"juice\" can also refer to energy or power. So, the joke is also playing on the idea that the apple stopped rolling because it had no more energy to keep going, similar to how a battery might run out of juice and stop working. \\n\\nOverall, the humor in this joke comes from the clever play on words and the unexpected twist on why the apple stopped rolling.'}, next=('__start__',), config={'configurable': {'thread_id': '1', 'checkpoint_ns': '', 'checkpoint_id': '1f06fb66-42a4-6b8d-8003-d5aec45c2195'}}, metadata={'source': 'input', 'writes': {'__start__': {'topic': 'humans'}}, 'thread_id': '1', 'step': 3, 'parents': {}}, created_at='2025-08-02T15:36:00.370983+00:00', parent_config={'configurable': {'thread_id': '1', 'checkpoint_ns': '', 'checkpoint_id': '1f06fb65-cc2f-6ec1-8002-a2f85d67fd02'}}, tasks=(PregelTask(id='6ed9ebe4-8936-2eb5-7e22-a580ed07a8cd', name='__start__', path=('__pregel_pull', '__start__'), error=None, interrupts=(), state=None, result={'topic': 'humans'}),)),\n",
       " StateSnapshot(values={'topic': 'apple', 'joke': 'Why did the apple stop rolling down the hill?\\n\\nBecause it ran out of juice!', 'explanation': 'This joke plays on the double meaning of the word \"juice.\" In one sense, juice refers to the liquid inside an apple. When the joke says the apple \"ran out of juice,\" it is implying that the apple no longer had any liquid inside it, which would cause it to stop rolling down the hill. \\n\\nHowever, \"juice\" can also refer to energy or power. So, the joke is also playing on the idea that the apple stopped rolling because it had no more energy to keep going, similar to how a battery might run out of juice and stop working. \\n\\nOverall, the humor in this joke comes from the clever play on words and the unexpected twist on why the apple stopped rolling.'}, next=(), config={'configurable': {'thread_id': '1', 'checkpoint_ns': '', 'checkpoint_id': '1f06fb65-cc2f-6ec1-8002-a2f85d67fd02'}}, metadata={'source': 'loop', 'writes': {'generate_explanation': {'explanation': 'This joke plays on the double meaning of the word \"juice.\" In one sense, juice refers to the liquid inside an apple. When the joke says the apple \"ran out of juice,\" it is implying that the apple no longer had any liquid inside it, which would cause it to stop rolling down the hill. \\n\\nHowever, \"juice\" can also refer to energy or power. So, the joke is also playing on the idea that the apple stopped rolling because it had no more energy to keep going, similar to how a battery might run out of juice and stop working. \\n\\nOverall, the humor in this joke comes from the clever play on words and the unexpected twist on why the apple stopped rolling.'}}, 'thread_id': '1', 'step': 2, 'parents': {}}, created_at='2025-08-02T15:35:47.949945+00:00', parent_config={'configurable': {'thread_id': '1', 'checkpoint_ns': '', 'checkpoint_id': '1f06fb65-9e8f-6a03-8001-1321959fb2e2'}}, tasks=()),\n",
       " StateSnapshot(values={'topic': 'apple', 'joke': 'Why did the apple stop rolling down the hill?\\n\\nBecause it ran out of juice!'}, next=('generate_explanation',), config={'configurable': {'thread_id': '1', 'checkpoint_ns': '', 'checkpoint_id': '1f06fb65-9e8f-6a03-8001-1321959fb2e2'}}, metadata={'source': 'loop', 'writes': {'generate_joke': {'joke': 'Why did the apple stop rolling down the hill?\\n\\nBecause it ran out of juice!'}}, 'thread_id': '1', 'step': 1, 'parents': {}}, created_at='2025-08-02T15:35:43.165696+00:00', parent_config={'configurable': {'thread_id': '1', 'checkpoint_ns': '', 'checkpoint_id': '1f06fb65-90b1-6133-8000-ddef2fa02c19'}}, tasks=(PregelTask(id='df49e116-ee24-6837-95d7-f742c8a1b3a0', name='generate_explanation', path=('__pregel_pull', 'generate_explanation'), error=None, interrupts=(), state=None, result={'explanation': 'This joke plays on the double meaning of the word \"juice.\" In one sense, juice refers to the liquid inside an apple. When the joke says the apple \"ran out of juice,\" it is implying that the apple no longer had any liquid inside it, which would cause it to stop rolling down the hill. \\n\\nHowever, \"juice\" can also refer to energy or power. So, the joke is also playing on the idea that the apple stopped rolling because it had no more energy to keep going, similar to how a battery might run out of juice and stop working. \\n\\nOverall, the humor in this joke comes from the clever play on words and the unexpected twist on why the apple stopped rolling.'}),)),\n",
       " StateSnapshot(values={'topic': 'apple'}, next=('generate_joke',), config={'configurable': {'thread_id': '1', 'checkpoint_ns': '', 'checkpoint_id': '1f06fb65-90b1-6133-8000-ddef2fa02c19'}}, metadata={'source': 'loop', 'writes': None, 'thread_id': '1', 'step': 0, 'parents': {}}, created_at='2025-08-02T15:35:41.711390+00:00', parent_config={'configurable': {'thread_id': '1', 'checkpoint_ns': '', 'checkpoint_id': '1f06fb65-9064-6d64-bfff-f2465ea754d5'}}, tasks=(PregelTask(id='f4550f59-a762-99e6-6f9b-fdde8b6faa50', name='generate_joke', path=('__pregel_pull', 'generate_joke'), error=None, interrupts=(), state=None, result={'joke': 'Why did the apple stop rolling down the hill?\\n\\nBecause it ran out of juice!'}),)),\n",
       " StateSnapshot(values={}, next=('__start__',), config={'configurable': {'thread_id': '1', 'checkpoint_ns': '', 'checkpoint_id': '1f06fb65-9064-6d64-bfff-f2465ea754d5'}}, metadata={'source': 'input', 'writes': {'__start__': {'topic': 'apple'}}, 'thread_id': '1', 'step': -1, 'parents': {}}, created_at='2025-08-02T15:35:41.680163+00:00', parent_config=None, tasks=(PregelTask(id='4649f2c6-2f0d-7080-baac-514784642e3c', name='__start__', path=('__pregel_pull', '__start__'), error=None, interrupts=(), state=None, result={'topic': 'apple'}),))]"
      ]
     },
     "execution_count": 14,
     "metadata": {},
     "output_type": "execute_result"
    }
   ],
   "source": [
    "list(workflow.get_state_history(config1))"
   ]
  },
  {
   "cell_type": "code",
   "execution_count": 15,
   "id": "9a47c3eb",
   "metadata": {},
   "outputs": [
    {
     "data": {
      "text/plain": [
       "{'topic': 'cricket',\n",
       " 'joke': 'Why did the cricket team go to the library?\\n\\nBecause they wanted to improve their bowling skills!',\n",
       " 'explanation': 'This joke plays on the word \"bowling,\" which can refer to both the sport of cricket and the sport of bowling in a library. In cricket, bowling refers to the act of throwing the ball towards the batsman, while in a library, bowling refers to the act of rolling a ball down a lane to knock over pins.\\n\\nThe punchline of the joke suggests that the cricket team went to the library not to improve their cricket skills, which one might expect, but rather to improve their bowling skills in the sense of knocking down pins. This unexpected twist in the joke adds humor and a playful element of surprise for the audience.'}"
      ]
     },
     "execution_count": 15,
     "metadata": {},
     "output_type": "execute_result"
    }
   ],
   "source": [
    "config2 = {'configurable':{\"thread_id\":\"2\"}}\n",
    "\n",
    "workflow.invoke({'topic':'cricket'}, config= config2)"
   ]
  },
  {
   "cell_type": "code",
   "execution_count": 18,
   "id": "6c0415b9",
   "metadata": {},
   "outputs": [
    {
     "data": {
      "text/plain": [
       "[StateSnapshot(values={'topic': 'cricket', 'joke': 'Why did the cricket team go to the library?\\n\\nBecause they wanted to improve their bowling skills!', 'explanation': 'This joke plays on the word \"bowling,\" which can refer to both the sport of cricket and the sport of bowling in a library. In cricket, bowling refers to the act of throwing the ball towards the batsman, while in a library, bowling refers to the act of rolling a ball down a lane to knock over pins.\\n\\nThe punchline of the joke suggests that the cricket team went to the library not to improve their cricket skills, which one might expect, but rather to improve their bowling skills in the sense of knocking down pins. This unexpected twist in the joke adds humor and a playful element of surprise for the audience.'}, next=(), config={'configurable': {'thread_id': '2', 'checkpoint_ns': '', 'checkpoint_id': '1f06fb77-26dc-6198-8002-e0a2069dc834'}}, metadata={'source': 'loop', 'writes': {'generate_explanation': {'explanation': 'This joke plays on the word \"bowling,\" which can refer to both the sport of cricket and the sport of bowling in a library. In cricket, bowling refers to the act of throwing the ball towards the batsman, while in a library, bowling refers to the act of rolling a ball down a lane to knock over pins.\\n\\nThe punchline of the joke suggests that the cricket team went to the library not to improve their cricket skills, which one might expect, but rather to improve their bowling skills in the sense of knocking down pins. This unexpected twist in the joke adds humor and a playful element of surprise for the audience.'}}, 'thread_id': '2', 'step': 2, 'parents': {}}, created_at='2025-08-02T15:43:33.797928+00:00', parent_config={'configurable': {'thread_id': '2', 'checkpoint_ns': '', 'checkpoint_id': '1f06fb77-1113-6654-8001-bfbabfa74209'}}, tasks=()),\n",
       " StateSnapshot(values={'topic': 'cricket', 'joke': 'Why did the cricket team go to the library?\\n\\nBecause they wanted to improve their bowling skills!'}, next=('generate_explanation',), config={'configurable': {'thread_id': '2', 'checkpoint_ns': '', 'checkpoint_id': '1f06fb77-1113-6654-8001-bfbabfa74209'}}, metadata={'source': 'loop', 'writes': {'generate_joke': {'joke': 'Why did the cricket team go to the library?\\n\\nBecause they wanted to improve their bowling skills!'}}, 'thread_id': '2', 'step': 1, 'parents': {}}, created_at='2025-08-02T15:43:31.513710+00:00', parent_config={'configurable': {'thread_id': '2', 'checkpoint_ns': '', 'checkpoint_id': '1f06fb77-0233-6b6a-8000-c6ce88353d00'}}, tasks=(PregelTask(id='125dc694-17c4-c80e-a3e5-da6bc57644f9', name='generate_explanation', path=('__pregel_pull', 'generate_explanation'), error=None, interrupts=(), state=None, result={'explanation': 'This joke plays on the word \"bowling,\" which can refer to both the sport of cricket and the sport of bowling in a library. In cricket, bowling refers to the act of throwing the ball towards the batsman, while in a library, bowling refers to the act of rolling a ball down a lane to knock over pins.\\n\\nThe punchline of the joke suggests that the cricket team went to the library not to improve their cricket skills, which one might expect, but rather to improve their bowling skills in the sense of knocking down pins. This unexpected twist in the joke adds humor and a playful element of surprise for the audience.'}),)),\n",
       " StateSnapshot(values={'topic': 'cricket'}, next=('generate_joke',), config={'configurable': {'thread_id': '2', 'checkpoint_ns': '', 'checkpoint_id': '1f06fb77-0233-6b6a-8000-c6ce88353d00'}}, metadata={'source': 'loop', 'writes': None, 'thread_id': '2', 'step': 0, 'parents': {}}, created_at='2025-08-02T15:43:29.954084+00:00', parent_config={'configurable': {'thread_id': '2', 'checkpoint_ns': '', 'checkpoint_id': '1f06fb77-021a-6dca-bfff-58bfad9560b1'}}, tasks=(PregelTask(id='1a1e5cc5-2a53-94b9-007a-c4ba82c3aa51', name='generate_joke', path=('__pregel_pull', 'generate_joke'), error=None, interrupts=(), state=None, result={'joke': 'Why did the cricket team go to the library?\\n\\nBecause they wanted to improve their bowling skills!'}),)),\n",
       " StateSnapshot(values={}, next=('__start__',), config={'configurable': {'thread_id': '2', 'checkpoint_ns': '', 'checkpoint_id': '1f06fb77-021a-6dca-bfff-58bfad9560b1'}}, metadata={'source': 'input', 'writes': {'__start__': {'topic': 'cricket'}}, 'thread_id': '2', 'step': -1, 'parents': {}}, created_at='2025-08-02T15:43:29.943905+00:00', parent_config=None, tasks=(PregelTask(id='50c54bcd-3a89-f012-c08d-2dc6f6a03285', name='__start__', path=('__pregel_pull', '__start__'), error=None, interrupts=(), state=None, result={'topic': 'cricket'}),))]"
      ]
     },
     "execution_count": 18,
     "metadata": {},
     "output_type": "execute_result"
    }
   ],
   "source": [
    "list(workflow.get_state_history(config2))"
   ]
  },
  {
   "cell_type": "code",
   "execution_count": null,
   "id": "56f6a813",
   "metadata": {},
   "outputs": [],
   "source": []
  }
 ],
 "metadata": {
  "kernelspec": {
   "display_name": "base",
   "language": "python",
   "name": "python3"
  },
  "language_info": {
   "codemirror_mode": {
    "name": "ipython",
    "version": 3
   },
   "file_extension": ".py",
   "mimetype": "text/x-python",
   "name": "python",
   "nbconvert_exporter": "python",
   "pygments_lexer": "ipython3",
   "version": "3.12.7"
  }
 },
 "nbformat": 4,
 "nbformat_minor": 5
}
