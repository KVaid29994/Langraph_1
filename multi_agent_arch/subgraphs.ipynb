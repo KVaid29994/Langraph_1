{
 "cells": [
  {
   "cell_type": "code",
   "execution_count": 25,
   "id": "3cb7d8d9",
   "metadata": {},
   "outputs": [],
   "source": [
    "from typing import TypedDict, Annotated\n",
    "\n",
    "from langgraph.graph import add_messages, StateGraph, END\n",
    "from langchain_groq import ChatGroq\n",
    "from langchain_core.messages import AIMessage, HumanMessage\n",
    "from dotenv import load_dotenv\n",
    "from langchain_community.tools.tavily_search import TavilySearchResults\n",
    "from langgraph.prebuilt import ToolNode\n"
   ]
  },
  {
   "cell_type": "code",
   "execution_count": 26,
   "id": "37dabd9b",
   "metadata": {},
   "outputs": [
    {
     "data": {
      "text/plain": [
       "True"
      ]
     },
     "execution_count": 26,
     "metadata": {},
     "output_type": "execute_result"
    }
   ],
   "source": [
    "load_dotenv()"
   ]
  },
  {
   "cell_type": "code",
   "execution_count": 27,
   "id": "182c0d80",
   "metadata": {},
   "outputs": [],
   "source": [
    "class ChildState(TypedDict):\n",
    "    messages : Annotated[list, add_messages]"
   ]
  },
  {
   "cell_type": "code",
   "execution_count": 28,
   "id": "273702bf",
   "metadata": {},
   "outputs": [],
   "source": [
    "search_tool = TavilySearchResults()\n",
    "\n",
    "tools = [search_tool]"
   ]
  },
  {
   "cell_type": "code",
   "execution_count": 29,
   "id": "d13c3ca0",
   "metadata": {},
   "outputs": [],
   "source": [
    "llm = ChatGroq( model = \"llama-3.1-8b-instant\")"
   ]
  },
  {
   "cell_type": "code",
   "execution_count": 30,
   "id": "77e74864",
   "metadata": {},
   "outputs": [],
   "source": [
    "llm_with_tools = llm.bind_tools(tools)"
   ]
  },
  {
   "cell_type": "code",
   "execution_count": 31,
   "id": "ac805925",
   "metadata": {},
   "outputs": [],
   "source": [
    "def agent (state : ChildState):\n",
    "    return {\n",
    "\n",
    "        \"messages\" : llm_with_tools.invoke(state[\"messages\"])\n",
    "    }"
   ]
  },
  {
   "cell_type": "code",
   "execution_count": 32,
   "id": "4ef4f946",
   "metadata": {},
   "outputs": [],
   "source": [
    "def tools_router(state : ChildState):\n",
    "    last_message = state[\"messages\"][-1]\n",
    "\n",
    "    if (hasattr(last_message,\"tool_calls\") and len(last_message.tool_calls)>0):\n",
    "        return \"tool_node\"\n",
    "    else:\n",
    "        return END"
   ]
  },
  {
   "cell_type": "code",
   "execution_count": 33,
   "id": "7ae458d4",
   "metadata": {},
   "outputs": [],
   "source": [
    "tool_node = ToolNode(tools = tools)"
   ]
  },
  {
   "cell_type": "code",
   "execution_count": 34,
   "id": "54c61d00",
   "metadata": {},
   "outputs": [],
   "source": [
    "subgraph = StateGraph(ChildState)"
   ]
  },
  {
   "cell_type": "code",
   "execution_count": 35,
   "id": "51b88ec0",
   "metadata": {},
   "outputs": [],
   "source": [
    "subgraph.add_node(\"agent\", agent)\n",
    "subgraph.add_node(\"tool_node\", tool_node)\n",
    "subgraph.set_entry_point(\"agent\")\n",
    "\n",
    "subgraph.add_conditional_edges(\"agent\",tools_router)\n",
    "subgraph.add_edge(\"tool_node\", \"agent\")\n",
    "\n",
    "search_app = subgraph.compile()"
   ]
  },
  {
   "cell_type": "code",
   "execution_count": 36,
   "id": "251dbc15",
   "metadata": {},
   "outputs": [
    {
     "data": {
      "image/png": "[encoded data removed]",
      "text/plain": [
       "<IPython.core.display.Image object>"
      ]
     },
     "metadata": {},
     "output_type": "display_data"
    }
   ],
   "source": [
    "from IPython.display import Image, display\n",
    "from langchain_core.runnables.graph import MermaidDrawMethod\n",
    "\n",
    "display(\n",
    "Image(\n",
    "    search_app.get_graph().draw_mermaid_png(draw_method=MermaidDrawMethod.API)\n",
    ")\n",
    ")"
   ]
  },
  {
   "cell_type": "code",
   "execution_count": 45,
   "id": "7f0130f5",
   "metadata": {},
   "outputs": [],
   "source": [
    "response = search_app.invoke({\"messages\":[HumanMessage(content = \"what is the weather in delhi\")]})"
   ]
  },
  {
   "cell_type": "code",
   "execution_count": 49,
   "id": "6f6b006b",
   "metadata": {},
   "outputs": [
    {
     "name": "stdout",
     "output_type": "stream",
     "text": [
      "{'messages': [HumanMessage(content='what is the weather in delhi', additional_kwargs={}, response_metadata={}, id='6c297468-ffc8-47f2-b084-5d3f8a3cd48f'), AIMessage(content='', additional_kwargs={'tool_calls': [{'id': 'jpnynn675', 'function': {'arguments': '{\"query\":\"delhi weather\"}', 'name': 'tavily_search_results_json'}, 'type': 'function'}]}, response_metadata={'token_usage': {'completion_tokens': 20, 'prompt_tokens': 285, 'total_tokens': 305, 'completion_time': 0.032296444, 'prompt_time': 0.020327099, 'queue_time': 0.049225705999999994, 'total_time': 0.052623543}, 'model_name': 'llama-3.1-8b-instant', 'system_fingerprint': 'fp_510c177af0', 'finish_reason': 'tool_calls', 'logprobs': None}, id='run--422c4134-f643-4a1d-9eab-ce1d73a79bf0-0', tool_calls=[{'name': 'tavily_search_results_json', 'args': {'query': 'delhi weather'}, 'id': 'jpnynn675', 'type': 'tool_call'}], usage_metadata={'input_tokens': 285, 'output_tokens': 20, 'total_tokens': 305}), ToolMessage(content='[{\"title\": \"Delhi records minimum temperature of 26.8° C; rain, thunderstorm likely\", \"url\": \"https://www.thehindu.com/news/cities/Delhi/delhi-records-minimum-temperature-of-268-c-rain-thunderstorm-likely/article69750922.ece\", \"content\": \"The national capital on Sunday (June 29, 2025) recorded a minimum temperature of 26.8° Celsius, 1.1 notch below the season\\'s average, according to the India Meteorological Department (IMD).\", \"score\": 0.94933707}, {\"title\": \"Weather Forecast Today, June 29: Check Weather Updates ... - LatestLY\", \"url\": \"https://www.latestly.com/socially/india/news/weather-forecast-today-june-29-check-weather-updates-heatwave-warning-rain-predictions-for-mumbai-delhi-chennai-bengaluru-hyderabad-shimla-and-kolkata-6959736.html\", \"content\": \"On June 29, 2025, major Indian cities will experience mixed weather. Mumbai, Kolkata, and Hyderabad are set for intermittent rainfall and thunderstorms, while Delhi may see cloudy skies with afternoon showers but no heatwave. Chennai will remain hot and humid, touching 39°C, with possible evening thunderstorms. Shimla stays cool with frequent rain, offering relief from the plains’ humidity. Bengaluru remains pleasant with mild temperatures and overcast skies, no significant rain expected. [...] Published Time: 2025-06-29T05:55:09+05:30\\\\n\\\\nWeather Forecast Today, June 29: Check Weather Updates, Heatwave Warning, Rain Predictions for Mumbai, Delhi, Chennai, Bengaluru, Hyderabad, Shimla and Kolkata | 📰 LatestLY\\\\n\\\\n===============\\\\n\\\\nImage 2: Close;)\\\\n\\\\nAdvertisement\\\\n\\\\n Live Breaking News: [...] Image 38: Weather Forecast Today, June 29: Check Weather Updates, Heatwave Warning, Rain Predictions for Mumbai, Delhi, Chennai, Bengaluru, Hyderabad, Shimla and Kolkata\\\\n\\\\nRepresentational Image (Photo Credits: File Photo) \\\\n\\\\nSociallyTeam Latestly|Jun 29, 2025 05:57 AM IST\", \"score\": 0.94326943}, {\"title\": \"Weather New Delhi in June 2025: Temperature & Climate\", \"url\": \"https://en.climate-data.org/asia/india/delhi/new-delhi-30/t/june-6/\", \"content\": \"Are you planning a holiday with hopefully nice weather in New Delhi in June 2025? ... 3.6 mm | 0.1 inch. 29. June, 32 °C | 89 °F, 36 °C | 97 °F, 27 °C | 81 °F\", \"score\": 0.9379027}, {\"title\": \"New Delhi Weather Forecast 29 Jun 2025 - Times of India\", \"url\": \"https://timesofindia.indiatimes.com/weather/new-delhi-weather-forecast-today/110011\", \"content\": \"Today\\'s Weather in New Delhi: In New Delhi today, the weather is expected to be Mist with a maximum temperature of 36°C and a minimum of 28°C. Sunrise in\", \"score\": 0.9322132}, {\"title\": \"Weather Delhi in June 2025: Temperature & Climate\", \"url\": \"https://en.climate-data.org/asia/india/delhi/delhi-967662/t/june-6/\", \"content\": \"| 29. June | 32 °C | 89 °F | 36 °C | 97 °F | 27 °C | 81 °F | 5.7 mm | 0.2 inch. |\\\\n| 30. June | 32 °C | 89 °F | 36 °C | 97 °F | 27 °C | 81 °F | 5.6 mm | 0.2 inch. |\\\\nData: 1999 - 2019 [...] | Max. Temperature °C (°F) | 19.8 °C (67.7) °F | 23.4 °C (74.2) °F | 29.7 °C (85.4) °F | 36.6 °C (97.9) °F | 39.5 °C (103.1) °F | 38.1 °C (100.7) °F | 33.6 °C (92.5) °F | 32.4 °C (90.3) °F | 32.3 °C (90.2) °F | 31.9 °C (89.4) °F | 27.3 °C (81.2) °F | 22.1 °C (71.8) °F |\\\\n| Precipitation / Rainfall mm (in) | 25 (0) | 37 (1) | 22 (0) | 15 (0) | 19 (0) | 74 (2) | 205 (8) | 182 (7) | 105 (4) | 14 (0) | 5 (0) | 8 (0) |\", \"score\": 0.89545894}]', name='tavily_search_results_json', id='969aff4c-4cd8-411a-bbec-02edef9c41a4', tool_call_id='jpnynn675', artifact={'query': 'delhi weather', 'follow_up_questions': None, 'answer': None, 'images': [], 'results': [{'title': 'Delhi records minimum temperature of 26.8° C; rain, thunderstorm likely', 'url': 'https://www.thehindu.com/news/cities/Delhi/delhi-records-minimum-temperature-of-268-c-rain-thunderstorm-likely/article69750922.ece', 'content': \"The national capital on Sunday (June 29, 2025) recorded a minimum temperature of 26.8° Celsius, 1.1 notch below the season's average, according to the India Meteorological Department (IMD).\", 'score': 0.94933707, 'raw_content': None}, {'title': 'Weather Forecast Today, June 29: Check Weather Updates ... - LatestLY', 'url': 'https://www.latestly.com/socially/india/news/weather-forecast-today-june-29-check-weather-updates-heatwave-warning-rain-predictions-for-mumbai-delhi-chennai-bengaluru-hyderabad-shimla-and-kolkata-6959736.html', 'content': 'On June 29, 2025, major Indian cities will experience mixed weather. Mumbai, Kolkata, and Hyderabad are set for intermittent rainfall and thunderstorms, while Delhi may see cloudy skies with afternoon showers but no heatwave. Chennai will remain hot and humid, touching 39°C, with possible evening thunderstorms. Shimla stays cool with frequent rain, offering relief from the plains’ humidity. Bengaluru remains pleasant with mild temperatures and overcast skies, no significant rain expected. [...] Published Time: 2025-06-29T05:55:09+05:30\\n\\nWeather Forecast Today, June 29: Check Weather Updates, Heatwave Warning, Rain Predictions for Mumbai, Delhi, Chennai, Bengaluru, Hyderabad, Shimla and Kolkata | 📰 LatestLY\\n\\n===============\\n\\nImage 2: Close;)\\n\\nAdvertisement\\n\\n Live Breaking News: [...] Image 38: Weather Forecast Today, June 29: Check Weather Updates, Heatwave Warning, Rain Predictions for Mumbai, Delhi, Chennai, Bengaluru, Hyderabad, Shimla and Kolkata\\n\\nRepresentational Image (Photo Credits: File Photo) \\n\\nSociallyTeam Latestly|Jun 29, 2025 05:57 AM IST', 'score': 0.94326943, 'raw_content': None}, {'url': 'https://en.climate-data.org/asia/india/delhi/new-delhi-30/t/june-6/', 'title': 'Weather New Delhi in June 2025: Temperature & Climate', 'content': 'Are you planning a holiday with hopefully nice weather in New Delhi in June 2025? ... 3.6 mm | 0.1 inch. 29. June, 32 °C | 89 °F, 36 °C | 97 °F, 27 °C | 81 °F', 'score': 0.9379027, 'raw_content': None}, {'url': 'https://timesofindia.indiatimes.com/weather/new-delhi-weather-forecast-today/110011', 'title': 'New Delhi Weather Forecast 29 Jun 2025 - Times of India', 'content': \"Today's Weather in New Delhi: In New Delhi today, the weather is expected to be Mist with a maximum temperature of 36°C and a minimum of 28°C. Sunrise in\", 'score': 0.9322132, 'raw_content': None}, {'url': 'https://en.climate-data.org/asia/india/delhi/delhi-967662/t/june-6/', 'title': 'Weather Delhi in June 2025: Temperature & Climate', 'content': '| 29. June | 32 °C | 89 °F | 36 °C | 97 °F | 27 °C | 81 °F | 5.7 mm | 0.2 inch. |\\n| 30. June | 32 °C | 89 °F | 36 °C | 97 °F | 27 °C | 81 °F | 5.6 mm | 0.2 inch. |\\nData: 1999 - 2019 [...] | Max. Temperature °C (°F) | 19.8 °C (67.7) °F | 23.4 °C (74.2) °F | 29.7 °C (85.4) °F | 36.6 °C (97.9) °F | 39.5 °C (103.1) °F | 38.1 °C (100.7) °F | 33.6 °C (92.5) °F | 32.4 °C (90.3) °F | 32.3 °C (90.2) °F | 31.9 °C (89.4) °F | 27.3 °C (81.2) °F | 22.1 °C (71.8) °F |\\n| Precipitation / Rainfall mm (in) | 25 (0) | 37 (1) | 22 (0) | 15 (0) | 19 (0) | 74 (2) | 205 (8) | 182 (7) | 105 (4) | 14 (0) | 5 (0) | 8 (0) |', 'score': 0.89545894, 'raw_content': None}], 'response_time': 1.09}), AIMessage(content='The current weather in Delhi is expected to be misty with a maximum temperature of 36°C and a minimum of 28°C. There is a possibility of afternoon showers but no heatwave.', additional_kwargs={}, response_metadata={'token_usage': {'completion_tokens': 40, 'prompt_tokens': 1463, 'total_tokens': 1503, 'completion_time': 0.053333333, 'prompt_time': 0.094289611, 'queue_time': 0.050665757000000006, 'total_time': 0.147622944}, 'model_name': 'llama-3.1-8b-instant', 'system_fingerprint': 'fp_0f5c9bc037', 'finish_reason': 'stop', 'logprobs': None}, id='run--a8b28c90-79b8-4255-b0e0-8c42317c2ff8-0', usage_metadata={'input_tokens': 1463, 'output_tokens': 40, 'total_tokens': 1503})]}\n"
     ]
    }
   ],
   "source": [
    "print (response)"
   ]
  },
  {
   "cell_type": "code",
   "execution_count": null,
   "id": "acf14566",
   "metadata": {},
   "outputs": [],
   "source": []
  }
 ],
 "metadata": {
  "kernelspec": {
   "display_name": "base",
   "language": "python",
   "name": "python3"
  },
  "language_info": {
   "codemirror_mode": {
    "name": "ipython",
    "version": 3
   },
   "file_extension": ".py",
   "mimetype": "text/x-python",
   "name": "python",
   "nbconvert_exporter": "python",
   "pygments_lexer": "ipython3",
   "version": "3.12.7"
  }
 },
 "nbformat": 4,
 "nbformat_minor": 5
}
