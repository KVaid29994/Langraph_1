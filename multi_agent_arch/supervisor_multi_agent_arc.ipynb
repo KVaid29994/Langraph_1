{
 "cells": [
  {
   "cell_type": "markdown",
   "id": "d1c7bca2",
   "metadata": {},
   "source": [
    "# ***Multi-Agent Supervisor Architecture 🏗️***\n",
    "\n",
    "### Overview 📋\n",
    "\n",
    "The Multi-Agent Supervisor Architecture is a distributed system design pattern where multiple autonomous agents operate under the coordination of a central supervisor agent. This architecture enables complex task decomposition, parallel processing, and intelligent orchestration of specialized agents working toward common objectives."
   ]
  },
  {
   "cell_type": "markdown",
   "id": "ea8cb655",
   "metadata": {},
   "source": [
    "## ***Core Components 🔧***\n",
    "\n",
    "1. **Supervisor Agent 👨‍💼**\n",
    "The central coordinator that manages the entire system:\n",
    "\n",
    "- Task Distribution: Breaks down complex problems into manageable subtasks\n",
    "- Agent Orchestration: Coordinates communication and workflow between agents\n",
    "- Resource Management: Allocates computational resources and manages priorities\n",
    "- Quality Control: Monitors performance and ensures task completion\n",
    "- Conflict Resolution: Handles disputes and deadlocks between agents\n",
    "\n",
    "---"
   ]
  },
  {
   "cell_type": "markdown",
   "id": "9f711949",
   "metadata": {},
   "source": [
    "2. ***Worker Agents 🤖***\n",
    "\n",
    "Specialized autonomous units that execute specific tasks:\n",
    "\n",
    "- Domain Expertise: Each agent focuses on particular capabilities or knowledge areas\n",
    "- Independent Processing: Can make decisions within their scope of responsibility\n",
    "- Communication Interface: Maintains channels with supervisor and peer agents\n",
    "- State Management: Tracks progress and maintains internal state\n",
    "- Feedback Mechanism: Reports results and status updates\n",
    "\n",
    "---"
   ]
  },
  {
   "cell_type": "markdown",
   "id": "3f2f47e9",
   "metadata": {},
   "source": [
    "3. ***Communication Layer 📡***\n",
    "\n",
    "The message passing infrastructure that enables coordination:\n",
    "\n",
    "- Protocol Standards: Defines message formats and communication rules\n",
    "- Routing Logic: Ensures messages reach intended recipients\n",
    "- Load Balancing: Distributes communication overhead efficiently\n",
    "- Error Handling: Manages failed transmissions and timeouts\n",
    "\n",
    "---"
   ]
  },
  {
   "cell_type": "markdown",
   "id": "bd084dcc",
   "metadata": {},
   "source": [
    "### ***Common Use Cases 🌍***\n",
    "- Enterprise Applications 🏢\n",
    "\n",
    "    - Customer service systems with specialized agents for different departments\n",
    "    - Supply chain management with agents handling inventory, logistics, and procurement\n",
    "    - Financial trading platforms with agents for analysis, execution, and risk management\n",
    "\n",
    "- Research and Development 🔬\n",
    "\n",
    "    - Scientific simulations with agents modeling different phenomena\n",
    "    - Data analysis pipelines with specialized preprocessing, analysis, and visualization agents\n",
    "    - AI model training with agents handling different aspects of the learning process\n",
    "\n",
    "- Smart Systems 🏠\n",
    "\n",
    "    - Home automation with agents controlling lighting, temperature, security, and entertainment\n",
    "    - Traffic management with agents monitoring different intersections and routes\n",
    "    - Industrial IoT with agents managing sensors, actuators, and control systems"
   ]
  },
  {
   "cell_type": "markdown",
   "id": "583ea114",
   "metadata": {},
   "source": [
    "---\n",
    "---"
   ]
  },
  {
   "cell_type": "code",
   "execution_count": 21,
   "id": "d1f863f0",
   "metadata": {},
   "outputs": [],
   "source": [
    "from typing import Annotated, Sequence, List, Literal \n",
    "from pydantic import BaseModel, Field \n",
    "from langchain_core.messages import HumanMessage\n",
    "from langchain_community.tools.tavily_search import TavilySearchResults \n",
    "from langgraph.types import Command \n",
    "from langgraph.graph import StateGraph, START, END, MessagesState\n",
    "from langgraph.prebuilt import create_react_agent \n",
    "from IPython.display import Image, display \n",
    "from dotenv import load_dotenv\n",
    "from langchain_experimental.tools import PythonREPLTool\n",
    "\n",
    "load_dotenv()\n",
    "\n",
    "from langchain_openai import ChatOpenAI\n",
    "\n",
    "llm = ChatOpenAI(model=\"gpt-4o\")\n",
    "\n",
    "tavily_search = TavilySearchResults(max_results=2)\n",
    "\n",
    "python_repl_tool = PythonREPLTool()"
   ]
  },
  {
   "cell_type": "code",
   "execution_count": 22,
   "id": "503007cb",
   "metadata": {},
   "outputs": [
    {
     "data": {
      "text/plain": [
       "'9\\n'"
      ]
     },
     "execution_count": 22,
     "metadata": {},
     "output_type": "execute_result"
    }
   ],
   "source": [
    "python_repl_tool.invoke(\"x =4; y=5 ; print(x+y)\")"
   ]
  },
  {
   "cell_type": "code",
   "execution_count": 23,
   "id": "d0e2a162",
   "metadata": {},
   "outputs": [],
   "source": [
    "class Supervisor(BaseModel):\n",
    "    next : Literal[\"enhancer\", \"researcher\", \"coder\"] = Field( description=\"Determines which specialist to activate next in the workflow sequence: \"\n",
    "                    \"'enhancer' when user input requires clarification, expansion, or refinement, \"\n",
    "                    \"'researcher' when additional facts, context, or data collection is necessary, \"\n",
    "                    \"'coder' when implementation, computation, or technical problem-solving is required.\"\n",
    "    )\n",
    "\n",
    "    reason: str = Field(\n",
    "        description=\"Detailed justification for the routing decision, explaining the rationale behind selecting the particular specialist and how this advances the task toward completion.\"\n",
    "    )"
   ]
  },
  {
   "cell_type": "code",
   "execution_count": 24,
   "id": "c085cc75",
   "metadata": {},
   "outputs": [],
   "source": [
    "def supervisor_node(state: MessagesState) -> Command[Literal[\"enhancer\", \"researcher\", \"coder\"]]:\n",
    "\n",
    "    system_prompt = ('''\n",
    "                 \n",
    "        You are a workflow supervisor managing a team of three specialized agents: Prompt Enhancer, Researcher, and Coder. Your role is to orchestrate the workflow by selecting the most appropriate next agent based on the current state and needs of the task. Provide a clear, concise rationale for each decision to ensure transparency in your decision-making process.\n",
    "\n",
    "        **Team Members**:\n",
    "        1. **Prompt Enhancer**: Always consider this agent first. They clarify ambiguous requests, improve poorly defined queries, and ensure the task is well-structured before deeper processing begins.\n",
    "        2. **Researcher**: Specializes in information gathering, fact-finding, and collecting relevant data needed to address the user's request.\n",
    "        3. **Coder**: Focuses on technical implementation, calculations, data analysis, algorithm development, and coding solutions.\n",
    "\n",
    "        **Your Responsibilities**:\n",
    "        1. Analyze each user request and agent response for completeness, accuracy, and relevance.\n",
    "        2. Route the task to the most appropriate agent at each decision point.\n",
    "        3. Maintain workflow momentum by avoiding redundant agent assignments.\n",
    "        4. Continue the process until the user's request is fully and satisfactorily resolved.\n",
    "\n",
    "        Your objective is to create an efficient workflow that leverages each agent's strengths while minimizing unnecessary steps, ultimately delivering complete and accurate solutions to user requests.\n",
    "                 \n",
    "    ''')\n",
    "\n",
    "    messages = [\n",
    "        {\"role\": \"system\", \"content\": system_prompt},  \n",
    "    ] + state[\"messages\"] \n",
    "\n",
    "    response = llm.with_structured_output(Supervisor).invoke(messages)\n",
    "\n",
    "    goto = response.next\n",
    "    reason = response.reason\n",
    "\n",
    "    print(f\"--- Workflow Transition: Supervisor → {goto.upper()} ---\")\n",
    "    \n",
    "    return Command(\n",
    "        update={\n",
    "            \"messages\": [\n",
    "                HumanMessage(content=reason, name=\"supervisor\")\n",
    "            ]\n",
    "        },\n",
    "        goto=goto,  \n",
    "    )\n",
    "    "
   ]
  },
  {
   "cell_type": "code",
   "execution_count": 25,
   "id": "25f2aebb",
   "metadata": {},
   "outputs": [],
   "source": [
    "def enhancer_node(state: MessagesState) -> Command[Literal[\"supervisor\"]]:\n",
    "\n",
    "    \"\"\"\n",
    "        Enhancer agent node that improves and clarifies user queries.\n",
    "        Takes the original user input and transforms it into a more precise,\n",
    "        actionable request before passing it to the supervisor.\n",
    "    \"\"\"\n",
    "   \n",
    "    system_prompt = (\n",
    "        \"You are a Query Refinement Specialist with expertise in transforming vague requests into precise instructions. Your responsibilities include:\\n\\n\"\n",
    "        \"1. Analyzing the original query to identify key intent and requirements\\n\"\n",
    "        \"2. Resolving any ambiguities without requesting additional user input\\n\"\n",
    "        \"3. Expanding underdeveloped aspects of the query with reasonable assumptions\\n\"\n",
    "        \"4. Restructuring the query for clarity and actionability\\n\"\n",
    "        \"5. Ensuring all technical terminology is properly defined in context\\n\\n\"\n",
    "        \"Important: Never ask questions back to the user. Instead, make informed assumptions and create the most comprehensive version of their request possible.\"\n",
    "    )\n",
    "\n",
    "    messages = [\n",
    "        {\"role\": \"system\", \"content\": system_prompt},  \n",
    "    ] + state[\"messages\"]  \n",
    "\n",
    "    enhanced_query = llm.invoke(messages)\n",
    "\n",
    "    print(f\"--- Workflow Transition: Prompt Enhancer → Supervisor ---\")\n",
    "\n",
    "    return Command(\n",
    "        update={\n",
    "            \"messages\": [  \n",
    "                HumanMessage(\n",
    "                    content=enhanced_query.content, \n",
    "                    name=\"enhancer\"  \n",
    "                )\n",
    "            ]\n",
    "        },\n",
    "        goto=\"supervisor\", \n",
    "    )"
   ]
  },
  {
   "cell_type": "code",
   "execution_count": 26,
   "id": "0b4c2850",
   "metadata": {},
   "outputs": [],
   "source": [
    "def research_node(state: MessagesState) -> Command[Literal[\"validator\"]]:\n",
    "\n",
    "    \"\"\"\n",
    "        Research agent node that gathers information using Tavily search.\n",
    "        Takes the current task state, performs relevant research,\n",
    "        and returns findings for validation.\n",
    "    \"\"\"\n",
    "    \n",
    "    research_agent = create_react_agent(\n",
    "        llm,  \n",
    "        tools=[tavily_search],  \n",
    "        state_modifier= \"You are an Information Specialist with expertise in comprehensive research. Your responsibilities include:\\n\\n\"\n",
    "            \"1. Identifying key information needs based on the query context\\n\"\n",
    "            \"2. Gathering relevant, accurate, and up-to-date information from reliable sources\\n\"\n",
    "            \"3. Organizing findings in a structured, easily digestible format\\n\"\n",
    "            \"4. Citing sources when possible to establish credibility\\n\"\n",
    "            \"5. Focusing exclusively on information gathering - avoid analysis or implementation\\n\\n\"\n",
    "            \"Provide thorough, factual responses without speculation where information is unavailable.\"\n",
    "    )\n",
    "\n",
    "    result = research_agent.invoke(state)\n",
    "\n",
    "    print(f\"--- Workflow Transition: Researcher → Validator ---\")\n",
    "\n",
    "    return Command(\n",
    "        update={\n",
    "            \"messages\": [ \n",
    "                HumanMessage(\n",
    "                    content=result[\"messages\"][-1].content,  \n",
    "                    name=\"researcher\"  \n",
    "                )\n",
    "            ]\n",
    "        },\n",
    "        goto=\"validator\", \n",
    "    )"
   ]
  },
  {
   "cell_type": "code",
   "execution_count": 27,
   "id": "a31cf13b",
   "metadata": {},
   "outputs": [],
   "source": [
    "def code_node(state: MessagesState) -> Command[Literal[\"validator\"]]:\n",
    "\n",
    "    code_agent = create_react_agent(\n",
    "        llm,\n",
    "        tools=[python_repl_tool],\n",
    "        state_modifier=(\n",
    "            \"You are a coder and analyst. Focus on mathematical calculations, analyzing, solving math questions, \"\n",
    "            \"and executing code. Handle technical problem-solving and data tasks.\"\n",
    "        )\n",
    "    )\n",
    "\n",
    "    result = code_agent.invoke(state)\n",
    "\n",
    "    print(f\"--- Workflow Transition: Coder → Validator ---\")\n",
    "\n",
    "    return Command(\n",
    "        update={\n",
    "            \"messages\": [\n",
    "                HumanMessage(content=result[\"messages\"][-1].content, name=\"coder\")\n",
    "            ]\n",
    "        },\n",
    "        goto=\"validator\",\n",
    "    )"
   ]
  },
  {
   "cell_type": "code",
   "execution_count": 28,
   "id": "18f93067",
   "metadata": {},
   "outputs": [],
   "source": [
    "# System prompt providing clear instructions to the validator agent\n",
    "system_prompt = '''\n",
    "    Your task is to ensure reasonable quality. \n",
    "    Specifically, you must:\n",
    "    - Review the user's question (the first message in the workflow).\n",
    "    - Review the answer (the last message in the workflow).\n",
    "    - If the answer addresses the core intent of the question, even if not perfectly, signal to end the workflow with 'FINISH'.\n",
    "    - Only route back to the supervisor if the answer is completely off-topic, harmful, or fundamentally misunderstands the question.\n",
    "    \n",
    "    - Accept answers that are \"good enough\" rather than perfect\n",
    "    - Prioritize workflow completion over perfect responses\n",
    "    - Give benefit of doubt to borderline answers\n",
    "    \n",
    "    Routing Guidelines:\n",
    "    1. 'supervisor' Agent: ONLY for responses that are completely incorrect or off-topic.\n",
    "    2. Respond with 'FINISH' in all other cases to end the workflow.\n",
    "'''\n",
    "\n",
    "class Validator(BaseModel):\n",
    "    next: Literal[\"supervisor\", \"FINISH\"] = Field(\n",
    "        description=\"Specifies the next worker in the pipeline: 'supervisor' to continue or 'FINISH' to terminate.\"\n",
    "    )\n",
    "    reason: str = Field(\n",
    "        description=\"The reason for the decision.\"\n",
    "    )\n",
    "\n",
    "def validator_node(state: MessagesState) -> Command[Literal[\"supervisor\", \"__end__\"]]:\n",
    "\n",
    "    user_question = state[\"messages\"][0].content\n",
    "    agent_answer = state[\"messages\"][-1].content\n",
    "\n",
    "    messages = [\n",
    "        {\"role\": \"system\", \"content\": system_prompt},\n",
    "        {\"role\": \"user\", \"content\": user_question},\n",
    "        {\"role\": \"assistant\", \"content\": agent_answer},\n",
    "    ]\n",
    "\n",
    "    response = llm.with_structured_output(Validator).invoke(messages)\n",
    "\n",
    "    goto = response.next\n",
    "    reason = response.reason\n",
    "\n",
    "    if goto == \"FINISH\" or goto == END:\n",
    "        goto = END  \n",
    "        print(\" --- Transitioning to END ---\")  \n",
    "    else:\n",
    "        print(f\"--- Workflow Transition: Validator → Supervisor ---\")\n",
    " \n",
    "\n",
    "    return Command(\n",
    "        update={\n",
    "            \"messages\": [\n",
    "                HumanMessage(content=reason, name=\"validator\")\n",
    "            ]\n",
    "        },\n",
    "        goto=goto, \n",
    "    )"
   ]
  },
  {
   "cell_type": "code",
   "execution_count": 29,
   "id": "d52cf6e0",
   "metadata": {},
   "outputs": [],
   "source": [
    "graph = StateGraph(MessagesState)\n",
    "\n",
    "graph.add_node(\"supervisor\", supervisor_node) \n",
    "graph.add_node(\"enhancer\", enhancer_node)  \n",
    "graph.add_node(\"researcher\", research_node) \n",
    "graph.add_node(\"coder\", code_node) \n",
    "graph.add_node(\"validator\", validator_node)  \n",
    "\n",
    "graph.add_edge(START, \"supervisor\")  \n",
    "app = graph.compile()"
   ]
  },
  {
   "cell_type": "code",
   "execution_count": 30,
   "id": "9c5b8b3f",
   "metadata": {},
   "outputs": [
    {
     "data": {
      "image/png": "[encoded data removed]",
      "text/plain": [
       "<IPython.core.display.Image object>"
      ]
     },
     "metadata": {},
     "output_type": "display_data"
    }
   ],
   "source": [
    "display(Image(app.get_graph(xray=True).draw_mermaid_png())) \n"
   ]
  },
  {
   "cell_type": "code",
   "execution_count": 31,
   "id": "83bacb5b",
   "metadata": {},
   "outputs": [
    {
     "name": "stdout",
     "output_type": "stream",
     "text": [
      "--- Workflow Transition: Supervisor → ENHANCER ---\n",
      "\"Output from node 'supervisor':\"\n",
      "HumanMessage(content='The user request \"Weather in Delhi\" is quite broad and lacks specificity. The Prompt Enhancer can help refine this request by determining whether the user is interested in the current weather, a forecast for a specific period, historical weather data, or some other weather-related information about Delhi. Clarifying this will provide a more precise direction for the Researcher to gather the appropriate data.', additional_kwargs={}, response_metadata={}, name='supervisor', id='adbeb752-afed-4cc0-aabf-3487a44c8ae5')\n",
      "\n",
      "--- Workflow Transition: Prompt Enhancer → Supervisor ---\n",
      "\"Output from node 'enhancer':\"\n",
      "HumanMessage(content='Provide a detailed report on the current weather conditions in Delhi, including key elements such as temperature, humidity, wind speed, visibility, and any weather advisories. Additionally, include a 7-day forecast outlining expected temperature ranges, precipitation probabilities, and general weather patterns. Define terms such as \"humidity\" (the amount of moisture in the air), \"wind speed\" (the rate at which air is moving), and \"precipitation\" (any form of water, liquid or solid, falling from the sky) to ensure clarity. If relevant, highlight any significant weather events or alerts currently in effect in the region.', additional_kwargs={}, response_metadata={}, name='enhancer', id='3f0fcc3a-4f9b-48b6-b904-e375a5c22223')\n",
      "\n",
      "--- Workflow Transition: Supervisor → RESEARCHER ---\n",
      "\"Output from node 'supervisor':\"\n",
      "HumanMessage(content='The task now requires gathering specific current weather data and a 7-day forecast for Delhi. The Researcher is best suited to collect this accurate, up-to-date information from reliable weather sources and include important definitions and alerts.', additional_kwargs={}, response_metadata={}, name='supervisor', id='6d54e637-ce07-4598-8732-6a8ecf4fbcd6')\n",
      "\n",
      "--- Workflow Transition: Researcher → Validator ---\n",
      "\"Output from node 'researcher':\"\n",
      "HumanMessage(content='Here is a detailed report on the current weather conditions in Delhi along with a 7-day forecast based on recent data:\\n\\n### Current Weather in Delhi\\n- **Temperature**: Not specified for today.\\n- **Humidity**: Various reports indicate high humidity levels, e.g., 75% reported during a recent forecast.\\n- **Wind Speed**: Wind speeds are generally mild, with examples being around 8 mph.\\n- **Visibility**: The sky conditions vary from mostly clear to partly cloudy, impacting visibility.\\n- **Precipitation**: Current risk of thunderstorms and showers with a precipitation probability (POP) ranging up to 100%, indicating significant weather activity potentially impacting visibility and outdoor conditions.\\n\\n### 7-Day Weather Forecast for Delhi\\n1. **Today**: \\n   - Mostly sunny, very hot.\\n   - Temperatures: Highs of around 102°F, RealFeel can reach 106°F.\\n   - Winds: WNW at 8 mph.\\n\\n2. **Tomorrow**: \\n   - Mostly sunny, high temperatures continuing around 103°F.\\n   - Mild winds with chances of partial sunshine.\\n\\n3. **3 Days from Now**: \\n   - Warm, with temperatures possibly reaching 104°F.\\n   - Sunny conditions are expected to persist.\\n\\n4. **4 Days from Now**: \\n   - Very hot again, temperatures around 104°F.\\n   - Plenty of sunshine, with mild winds.\\n\\n5. **5 Days from Now**: \\n   - Continuing hot weather trend with highs possibly 103°F.\\n   - Light winds and high UV index, requiring protection if outdoors.\\n\\n6. **6 Days from Now**: \\n   - Hot conditions with highs around 104°F.\\n   - Similar weather patterns as previous days with sunshine predominance.\\n\\n7. **7 Days from Now**: \\n   - Slightly warmer with highs potentially reaching 105°F.\\n   - Dry conditions with mostly sunny skies.\\n\\n### Definitions\\n- **Humidity**: The amount of moisture in the air.\\n- **Wind Speed**: The rate at which air is moving.\\n- **Precipitation**: Any form of water, liquid or solid, falling from the sky.\\n\\n### Alerts\\n- Current data suggests risks of thunderstorms over the next few days, emphasizing the need for caution, particularly outdoors.\\n\\nFor up-to-the-minute weather updates, it is advisable to consult local weather channels or trusted online sources like [AccuWeather](https://www.accuweather.com) and [The Weather Network](https://www.theweathernetwork.com).', additional_kwargs={}, response_metadata={}, name='researcher', id='5b23ed7d-5f9d-4440-a2d5-94c861a0a0cc')\n",
      "\n",
      " --- Transitioning to END ---\n",
      "\"Output from node 'validator':\"\n",
      "HumanMessage(content=\"The answer provides a brief overview of weather conditions in Delhi, including current conditions and a 7-day forecast, which adequately addresses the user's request for information about the weather in Delhi.\", additional_kwargs={}, response_metadata={}, name='validator', id='0ccecd0a-43b1-4d22-955d-d5a9fcaca6d0')\n",
      "\n"
     ]
    }
   ],
   "source": [
    "import pprint\n",
    "\n",
    "inputs = {\n",
    "    \"messages\": [\n",
    "        (\"user\", \"Weather in Delhi\"),\n",
    "    ]\n",
    "}\n",
    "\n",
    "for event in app.stream(inputs):\n",
    "    for key, value in event.items():\n",
    "        if value is None:\n",
    "            continue\n",
    "        last_message = value.get(\"messages\", [])[-1] if \"messages\" in value else None\n",
    "        if last_message:\n",
    "            pprint.pprint(f\"Output from node '{key}':\")\n",
    "            pprint.pprint(last_message, indent=2, width=80, depth=None)\n",
    "            print()\n",
    "     "
   ]
  },
  {
   "cell_type": "code",
   "execution_count": 32,
   "id": "287bdd08",
   "metadata": {},
   "outputs": [
    {
     "name": "stdout",
     "output_type": "stream",
     "text": [
      "--- Workflow Transition: Supervisor → CODER ---\n",
      "\"Output from node 'supervisor':\"\n",
      "{ 'messages': [ HumanMessage(content=\"The user's request is to compute the 20th Fibonacci number. This task directly involves calculations and algorithmic solutions, which is the specialty of the Coder agent. No additional clarification or information gathering is needed, as the problem statement is clear and straightforward.\", additional_kwargs={}, response_metadata={}, name='supervisor', id='565aa3f6-cf7d-4fe8-8c83-44841c4e665d')]}\n",
      "\n",
      "--- Workflow Transition: Coder → Validator ---\n",
      "\"Output from node 'coder':\"\n",
      "{ 'messages': [ HumanMessage(content='', additional_kwargs={}, response_metadata={}, name='coder', id='c4111b66-9cbc-49e5-b586-f848c616b912')]}\n",
      "\n",
      " --- Transitioning to END ---\n",
      "\"Output from node 'validator':\"\n",
      "{ 'messages': [ HumanMessage(content='The answer correctly provides the 20th Fibonacci number, 6765, which directly addresses the user’s request.', additional_kwargs={}, response_metadata={}, name='validator', id='daeaadd8-3782-4ce6-b550-93ced3bfcb27')]}\n",
      "\n"
     ]
    }
   ],
   "source": [
    "import pprint\n",
    "\n",
    "inputs = {\n",
    "    \"messages\": [\n",
    "        (\"user\", \"Give me the 20th fibonacci number\"),\n",
    "    ]\n",
    "}\n",
    "for event in app.stream(inputs):\n",
    "    for key, value in event.items():\n",
    "        if value is None:\n",
    "            continue\n",
    "        pprint.pprint(f\"Output from node '{key}':\")\n",
    "        pprint.pprint(value, indent=2, width=80, depth=None)\n",
    "        print()"
   ]
  },
  {
   "cell_type": "code",
   "execution_count": 34,
   "id": "7f54fa49",
   "metadata": {},
   "outputs": [
    {
     "name": "stdout",
     "output_type": "stream",
     "text": [
      "--- Workflow Transition: Supervisor → CODER ---\n",
      "\"Output from node 'supervisor':\"\n",
      "{ 'messages': [ HumanMessage(content=\"The user's request is clear and specific: they are asking for Python code to print a table of 5. This requires a direct technical implementation, which falls under the expertise of the Coder. There is no need for clarification or additional research as the task is straightforward and unambiguous.\", additional_kwargs={}, response_metadata={}, name='supervisor', id='2e4441ec-1642-4c75-8682-cd5476b5af35')]}\n",
      "\n",
      "--- Workflow Transition: Coder → Validator ---\n",
      "\"Output from node 'coder':\"\n",
      "{ 'messages': [ HumanMessage(content=\"Here's the Python code to print the multiplication table of 5:\\n\\n```python\\nfor i in range(1, 11):\\n    print(f'5 x {i} = {5 * i}')\\n```\\n\\nWhen executed, this code will print:\\n\\n```\\n5 x 1 = 5\\n5 x 2 = 10\\n5 x 3 = 15\\n5 x 4 = 20\\n5 x 5 = 25\\n5 x 6 = 30\\n5 x 7 = 35\\n5 x 8 = 40\\n5 x 9 = 45\\n5 x 10 = 50\\n```\", additional_kwargs={}, response_metadata={}, name='coder', id='92933c3b-a92e-44b5-9d4a-3596abb718e9')]}\n",
      "\n",
      " --- Transitioning to END ---\n",
      "\"Output from node 'validator':\"\n",
      "{ 'messages': [ HumanMessage(content=\"The answer provides a correct and concise Python code snippet to print the multiplication table of 5, which addresses the user's request accurately.\", additional_kwargs={}, response_metadata={}, name='validator', id='17c5db74-f626-4c88-a813-5b34b9b06b54')]}\n",
      "\n"
     ]
    }
   ],
   "source": [
    "import pprint\n",
    "\n",
    "inputs = {\n",
    "    \"messages\": [\n",
    "        (\"user\", \"give me python code to print a table of 5\"),\n",
    "    ]\n",
    "}\n",
    "for event in app.stream(inputs):\n",
    "    for key, value in event.items():\n",
    "        if value is None:\n",
    "            continue\n",
    "        pprint.pprint(f\"Output from node '{key}':\")\n",
    "        pprint.pprint(value, indent=2, width=80, depth=None)\n",
    "        print()"
   ]
  },
  {
   "cell_type": "code",
   "execution_count": 35,
   "id": "d8d32c6f",
   "metadata": {},
   "outputs": [
    {
     "name": "stdout",
     "output_type": "stream",
     "text": [
      "--- Workflow Transition: Supervisor → ENHANCER ---\n",
      "\"Output from node 'supervisor':\"\n",
      "{ 'messages': [ HumanMessage(content='The request needs clarification and structuring. We should refine the input to specify the programming language for the table generation, the range of the table (how far the multiplication should go), and whether there are any formatting requirements for the output. Once the input is clear, the coder can effectively implement the solution.', additional_kwargs={}, response_metadata={}, name='supervisor', id='3ec8b321-ed05-429f-9e89-5c704c1d01e6')]}\n",
      "\n",
      "--- Workflow Transition: Prompt Enhancer → Supervisor ---\n",
      "\"Output from node 'enhancer':\"\n",
      "{ 'messages': [ HumanMessage(content='To print the multiplication table of a number provided by the user, we will assume you want a basic program written in Python. This program will take an integer input from the user and print the multiplication table for that number, from 1 to 10. Here is the refined process and code:\\n\\n1. **Input**: Accept an integer from the user.\\n2. **Output**: Display a multiplication table for that integer, for values ranging from 1 to 10.\\n3. **Language**: Python, due to its wide usage and simplicity.\\n\\n```python\\n# Request an integer input from the user\\nnumber = int(input(\"Enter a number to get its multiplication table: \"))\\n\\n# Print the multiplication table for the given number\\nprint(f\"Multiplication table for {number}:\")\\n\\nfor i in range(1, 11):\\n    result = number * i\\n    print(f\"{number} x {i} = {result}\")\\n```\\n\\n**Explanation**:\\n- The `input()` function captures user input, which is converted to an integer using `int()`.\\n- A `for` loop iterates over numbers 1 to 10.\\n- For each iteration, it calculates and prints the product, formatted as expected in a standard multiplication table.', additional_kwargs={}, response_metadata={}, name='enhancer', id='de8594ae-07dd-4f80-b62c-54ee0eb7cd74')]}\n",
      "\n",
      "--- Workflow Transition: Supervisor → CODER ---\n",
      "\"Output from node 'supervisor':\"\n",
      "{ 'messages': [ HumanMessage(content='The task is now clearly defined: create a Python program that inputs a number from the user and prints its multiplication table from 1 to 10. With this clarity, the coder can directly implement the solution as described in the enhanced prompt.', additional_kwargs={}, response_metadata={}, name='supervisor', id='4163948d-0915-4626-82e2-1ce85ae407ec')]}\n",
      "\n",
      "--- Workflow Transition: Coder → Validator ---\n",
      "\"Output from node 'coder':\"\n",
      "{ 'messages': [ HumanMessage(content='I have provided the code to print the multiplication table for a number specified by the user. Here\\'s the Python function for your use:\\n\\n```python\\ndef print_table_of_number():\\n    try:\\n        # Request an integer input from the user\\n        number = int(input(\"Enter a number to get its multiplication table: \"))\\n        \\n        # Print the multiplication table for the given number\\n        print(f\"Multiplication table for {number}:\")\\n\\n        for i in range(1, 11):\\n            result = number * i\\n            print(f\"{number} x {i} = {result}\")\\n    except ValueError:\\n        print(\"Please enter a valid integer.\")\\n\\n# To execute the function, uncomment the following line\\n# print_table_of_number()\\n```\\n\\nTo run this code:\\n\\n1. Copy and paste it into a Python script or an interactive Python session.\\n2. Uncomment the line `# print_table_of_number()` by removing the `#`.\\n3. Run the script, and it will ask for user input to display the multiplication table.', additional_kwargs={}, response_metadata={}, name='coder', id='195cda62-fb11-4606-9ae0-b90c43529715')]}\n",
      "\n",
      " --- Transitioning to END ---\n",
      "\"Output from node 'validator':\"\n",
      "{ 'messages': [ HumanMessage(content=\"The answer provides a complete and functional Python program to take user input and print the multiplication table of that number, directly addressing the user's request.\", additional_kwargs={}, response_metadata={}, name='validator', id='4a4ac450-4d98-49f1-a0e0-16e4a5abe421')]}\n",
      "\n"
     ]
    }
   ],
   "source": [
    "import pprint\n",
    "\n",
    "inputs = {\n",
    "    \"messages\": [\n",
    "        (\"user\", \"take iput from me and print the table of that number\"),\n",
    "    ]\n",
    "}\n",
    "for event in app.stream(inputs):\n",
    "    for key, value in event.items():\n",
    "        if value is None:\n",
    "            continue\n",
    "        pprint.pprint(f\"Output from node '{key}':\")\n",
    "        pprint.pprint(value, indent=2, width=80, depth=None)\n",
    "        print()"
   ]
  },
  {
   "cell_type": "code",
   "execution_count": null,
   "id": "cbf15759",
   "metadata": {},
   "outputs": [],
   "source": []
  }
 ],
 "metadata": {
  "kernelspec": {
   "display_name": "base",
   "language": "python",
   "name": "python3"
  },
  "language_info": {
   "codemirror_mode": {
    "name": "ipython",
    "version": 3
   },
   "file_extension": ".py",
   "mimetype": "text/x-python",
   "name": "python",
   "nbconvert_exporter": "python",
   "pygments_lexer": "ipython3",
   "version": "3.12.7"
  }
 },
 "nbformat": 4,
 "nbformat_minor": 5
}
